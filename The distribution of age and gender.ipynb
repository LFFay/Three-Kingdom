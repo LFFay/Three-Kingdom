{
 "cells": [
  {
   "cell_type": "code",
   "execution_count": 1,
   "metadata": {
    "collapsed": true
   },
   "outputs": [],
   "source": [
    "import pandas as pd\n",
    "import matplotlib.pyplot as plt\n",
    "import seaborn as sns\n",
    "import numpy as np\n",
    "from itertools import groupby"
   ]
  },
  {
   "cell_type": "code",
   "execution_count": 2,
   "metadata": {
    "collapsed": true
   },
   "outputs": [],
   "source": [
    "label=pd.read_csv('ID_Gender_Age_datasets.csv')\n",
    "label=label.drop('Unnamed: 0',axis=1)"
   ]
  },
  {
   "cell_type": "code",
   "execution_count": 3,
   "metadata": {
    "collapsed": true
   },
   "outputs": [],
   "source": [
    "label=label[['Gender(0:Female;1:Male)','Age']]"
   ]
  },
  {
   "cell_type": "code",
   "execution_count": 8,
   "metadata": {},
   "outputs": [
    {
     "name": "stdout",
     "output_type": "stream",
     "text": [
      "{'1-5': 27, '6-10': 187, '11-15': 107, '16-20': 43, '21-25': 63, '26-30': 31, '31-35': 34, '36-40': 83, '41-45': 91, '46-50': 36, '51-55': 22, '56-60': 10, '61-65': 8, '66-70': 11, '71-75': 8, '76-80': 2}\n"
     ]
    }
   ],
   "source": [
    "lst = label['Age'].sort_values()\n",
    "dic = {}\n",
    "\n",
    "for k, g in groupby(lst, key=lambda x: (x-1)//5):\n",
    "    dic['{}-{}'.format(k*5+1, (k+1)*5)] = len(list(g))\n",
    "    \n",
    "print(dic)"
   ]
  },
  {
   "cell_type": "code",
   "execution_count": 9,
   "metadata": {
    "collapsed": true
   },
   "outputs": [],
   "source": [
    "r1_5=label.iloc[lst[0:27].index].groupby(['Gender(0:Female;1:Male)']).count()\n",
    "r6_10=label.iloc[lst[27:214].index].groupby(['Gender(0:Female;1:Male)']).count()\n",
    "r11_15=label.iloc[lst[214:321].index].groupby(['Gender(0:Female;1:Male)']).count()\n",
    "r16_20=label.iloc[lst[321:364].index].groupby(['Gender(0:Female;1:Male)']).count()\n",
    "r21_25=label.iloc[lst[364:427].index].groupby(['Gender(0:Female;1:Male)']).count()\n",
    "r26_30=label.iloc[lst[427:458].index].groupby(['Gender(0:Female;1:Male)']).count()\n",
    "r31_35=label.iloc[lst[458:492].index].groupby(['Gender(0:Female;1:Male)']).count()\n",
    "r36_40=label.iloc[lst[492:575].index].groupby(['Gender(0:Female;1:Male)']).count()\n",
    "r41_45=label.iloc[lst[575:666].index].groupby(['Gender(0:Female;1:Male)']).count()\n",
    "r46_50=label.iloc[lst[666:702].index].groupby(['Gender(0:Female;1:Male)']).count()\n",
    "r51_55=label.iloc[lst[702:724].index].groupby(['Gender(0:Female;1:Male)']).count()\n",
    "r56_60=label.iloc[lst[724:734].index].groupby(['Gender(0:Female;1:Male)']).count()\n",
    "r61_65=label.iloc[lst[734:742].index].groupby(['Gender(0:Female;1:Male)']).count()\n",
    "r66_70=label.iloc[lst[742:753].index].groupby(['Gender(0:Female;1:Male)']).count()\n",
    "r71_75=label.iloc[lst[753:761].index].groupby(['Gender(0:Female;1:Male)']).count()\n",
    "r76_80=label.iloc[lst[761:763].index].groupby(['Gender(0:Female;1:Male)']).count()"
   ]
  },
  {
   "cell_type": "code",
   "execution_count": 11,
   "metadata": {},
   "outputs": [
    {
     "data": {
      "image/png": "[encoded data removed]",
      "text/plain": [
       "<matplotlib.figure.Figure at 0x113153198>"
      ]
     },
     "metadata": {},
     "output_type": "display_data"
    }
   ],
   "source": [
    "N = len(dic)\n",
    "\n",
    "menMeans = (r1_5.iloc[1].values[0], r6_10.iloc[1].values[0], r11_15.iloc[1].values[0], r16_20.iloc[1].values[0], \n",
    "            r21_25.iloc[1].values[0], r26_30.iloc[1].values[0], r31_35.iloc[1].values[0], r36_40.iloc[1].values[0],\n",
    "            r41_45.iloc[1].values[0], r46_50.iloc[1].values[0], r51_55.iloc[1].values[0], r56_60.iloc[1].values[0], \n",
    "            r61_65.iloc[1].values[0], r66_70.iloc[1].values[0], r71_75.iloc[1].values[0], r76_80.iloc[1].values[0])\n",
    "womenMeans = (r1_5.iloc[0].values[0], r6_10.iloc[0].values[0], r11_15.iloc[0].values[0], r16_20.iloc[0].values[0], \n",
    "            r21_25.iloc[0].values[0], r26_30.iloc[0].values[0], r31_35.iloc[0].values[0], r36_40.iloc[0].values[0],\n",
    "            r41_45.iloc[0].values[0], r46_50.iloc[0].values[0], r51_55.iloc[0].values[0], r56_60.iloc[0].values[0], \n",
    "            r61_65.iloc[0].values[0], r66_70.iloc[0].values[0], r71_75.iloc[0].values[0], r76_80.iloc[0].values[0])\n",
    "\n",
    "ind = np.arange(N)    # the x locations for the groups\n",
    "width = 0.35       # the width of the bars: can also be len(x) sequence\n",
    "\n",
    "p1 = plt.bar(ind, menMeans, width)\n",
    "p2 = plt.bar(ind, womenMeans, width, color='#d62728',\n",
    "             bottom=menMeans)\n",
    "\n",
    "plt.ylabel('Number of people')\n",
    "plt.title('The distribution of age and gender')\n",
    "plt.xticks(ind, ('1-5', '6-10', '11-15', '16-20', '21-25', '25-30', '31-35', '36-40',\n",
    "                '41-45', '46-50', '51-55', '55-60', '61-65', '66-70', '71-75', '76-80'))\n",
    "plt.yticks(np.arange(0, 250, 10))\n",
    "plt.legend((p1[0], p2[0]), ('Men', 'Women'))\n",
    "\n",
    "plt.show()"
   ]
  },
  {
   "cell_type": "code",
   "execution_count": null,
   "metadata": {
    "collapsed": true
   },
   "outputs": [],
   "source": []
  }
 ],
 "metadata": {
  "kernelspec": {
   "display_name": "Python 3",
   "language": "python",
   "name": "python3"
  },
  "language_info": {
   "codemirror_mode": {
    "name": "ipython",
    "version": 3
   },
   "file_extension": ".py",
   "mimetype": "text/x-python",
   "name": "python",
   "nbconvert_exporter": "python",
   "pygments_lexer": "ipython3",
   "version": "3.6.1"
  }
 },
 "nbformat": 4,
 "nbformat_minor": 2
}
