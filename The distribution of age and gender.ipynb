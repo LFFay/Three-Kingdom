{
 "cells": [
  {
   "cell_type": "code",
   "execution_count": 18,
   "metadata": {
    "collapsed": true
   },
   "outputs": [],
   "source": [
    "import pandas as pd\n",
    "import matplotlib.pyplot as plt\n",
    "import seaborn as sns\n",
    "import numpy as np\n",
    "from itertools import groupby"
   ]
  },
  {
   "cell_type": "code",
   "execution_count": 2,
   "metadata": {
    "collapsed": true
   },
   "outputs": [],
   "source": [
    "label=pd.read_csv('ID_Gender_Age_datasets.csv')\n",
    "label=label.drop('Unnamed: 0',axis=1)"
   ]
  },
  {
   "cell_type": "code",
   "execution_count": 4,
   "metadata": {},
   "outputs": [],
   "source": [
    "label=label[['Gender(0:Female;1:Male)','Age']]"
   ]
  },
  {
   "cell_type": "code",
   "execution_count": 104,
   "metadata": {},
   "outputs": [
    {
     "name": "stdout",
     "output_type": "stream",
     "text": [
      "{'1-10': 214, '11-20': 150, '21-30': 94, '31-40': 117, '41-50': 127, '51-60': 32, '61-70': 19, '71-80': 10}\n"
     ]
    }
   ],
   "source": [
    "lst = label['Age'].sort_values()\n",
    "dic = {}\n",
    "\n",
    "for k, g in groupby(lst, key=lambda x: (x-1)//10):\n",
    "    dic['{}-{}'.format(k*10+1, (k+1)*10)] = len(list(g))\n",
    "    \n",
    "print(dic)"
   ]
  },
  {
   "cell_type": "code",
   "execution_count": 105,
   "metadata": {},
   "outputs": [],
   "source": [
    "r1_10=label.iloc[lst[0:214].index].groupby(['Gender(0:Female;1:Male)']).count()\n",
    "r10_20=label.iloc[lst[214:364].index].groupby(['Gender(0:Female;1:Male)']).count()\n",
    "r20_30=label.iloc[lst[364:458].index].groupby(['Gender(0:Female;1:Male)']).count()\n",
    "r30_40=label.iloc[lst[458:575].index].groupby(['Gender(0:Female;1:Male)']).count()\n",
    "r40_50=label.iloc[lst[575:702].index].groupby(['Gender(0:Female;1:Male)']).count()\n",
    "r50_60=label.iloc[lst[702:734].index].groupby(['Gender(0:Female;1:Male)']).count()\n",
    "r60_70=label.iloc[lst[734:753].index].groupby(['Gender(0:Female;1:Male)']).count()\n",
    "r70_80=label.iloc[lst[753:763].index].groupby(['Gender(0:Female;1:Male)']).count()"
   ]
  },
  {
   "cell_type": "code",
   "execution_count": 106,
   "metadata": {},
   "outputs": [
    {
     "data": {
      "image/png": "[encoded data removed]",
      "text/plain": [
       "<matplotlib.figure.Figure at 0x1116e3400>"
      ]
     },
     "metadata": {},
     "output_type": "display_data"
    }
   ],
   "source": [
    "N = len(dic)\n",
    "menMeans = (r1_10.iloc[1].values[0], r10_20.iloc[1].values[0], r20_30.iloc[1].values[0], r30_40.iloc[1].values[0], \n",
    "            r40_50.iloc[1].values[0], r50_60.iloc[1].values[0], r60_70.iloc[1].values[0], r70_80.iloc[1].values[0])\n",
    "womenMeans = (r1_10.iloc[0].values[0], r10_20.iloc[0].values[0], r20_30.iloc[0].values[0], r30_40.iloc[0].values[0], \n",
    "            r40_50.iloc[0].values[0], r50_60.iloc[0].values[0], r60_70.iloc[0].values[0], r70_80.iloc[0].values[0])\n",
    "\n",
    "ind = np.arange(N)    # the x locations for the groups\n",
    "width = 0.35       # the width of the bars: can also be len(x) sequence\n",
    "\n",
    "p1 = plt.bar(ind, menMeans, width)\n",
    "p2 = plt.bar(ind, womenMeans, width, color='#d62728',\n",
    "             bottom=menMeans)\n",
    "\n",
    "plt.ylabel('Nember of people')\n",
    "plt.title('Scores by age and gender')\n",
    "plt.xticks(ind, ('1_10', '11_20', '21_30', '31_40', '41_50', '51_60', '61_70', '71_80'))\n",
    "plt.yticks(np.arange(0, 250, 10))\n",
    "plt.legend((p1[0], p2[0]), ('Men', 'Women'))\n",
    "\n",
    "plt.show()"
   ]
  },
  {
   "cell_type": "code",
   "execution_count": null,
   "metadata": {
    "collapsed": true
   },
   "outputs": [],
   "source": []
  }
 ],
 "metadata": {
  "kernelspec": {
   "display_name": "Python 3",
   "language": "python",
   "name": "python3"
  },
  "language_info": {
   "codemirror_mode": {
    "name": "ipython",
    "version": 3
   },
   "file_extension": ".py",
   "mimetype": "text/x-python",
   "name": "python",
   "nbconvert_exporter": "python",
   "pygments_lexer": "ipython3",
   "version": "3.6.1"
  }
 },
 "nbformat": 4,
 "nbformat_minor": 2
}
