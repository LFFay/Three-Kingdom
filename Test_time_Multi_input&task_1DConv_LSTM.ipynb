{
 "cells": [
  {
   "cell_type": "code",
   "execution_count": 0,
   "metadata": {
    "colab": {},
    "colab_type": "code",
    "collapsed": true,
    "id": "bnzyts34YYX6"
   },
   "outputs": [],
   "source": [
    "import zipfile\n",
    "with zipfile.ZipFile('OU-IneritialGaitData.zip') as existing_zip:\n",
    "    existing_zip.extractall(\"./\", pwd='yagigait131015'.encode('cp850','replace'))"
   ]
  },
  {
   "cell_type": "code",
   "execution_count": 0,
   "metadata": {
    "colab": {},
    "colab_type": "code",
    "collapsed": true,
    "id": "uptoDjXbYfc-"
   },
   "outputs": [],
   "source": [
    "with zipfile.ZipFile('OU-IneritialGaitActionDataset.zip') as existing_zip:\n",
    "    existing_zip.extractall(\"./\", pwd='OU-2015-sept-10'.encode('cp850','replace'))"
   ]
  },
  {
   "cell_type": "code",
   "execution_count": 0,
   "metadata": {
    "_cell_guid": "b1076dfc-b9ad-4769-8c92-a6c4dae69d19",
    "_uuid": "8f2839f25d086af736a60e9eeb907d3b93b6e0e5",
    "colab": {},
    "colab_type": "code",
    "collapsed": true,
    "id": "FRDn7-CeX12M"
   },
   "outputs": [],
   "source": [
    "import numpy as np # linear algebra\n",
    "import pandas as pd # data processing, CSV file I/O (e.g. pd.read_csv)\n",
    "import os\n",
    "import matplotlib.pyplot as plt\n",
    "from sklearn.model_selection import StratifiedKFold, KFold"
   ]
  },
  {
   "cell_type": "code",
   "execution_count": 0,
   "metadata": {
    "colab": {
     "base_uri": "https://localhost:8080/",
     "height": 593
    },
    "colab_type": "code",
    "collapsed": false,
    "id": "dFvl7QksaUcA",
    "outputId": "b57b4dd4-541d-4f4c-d5fa-55f4810858b7"
   },
   "outputs": [
    {
     "data": {
      "text/plain": [
       "['.config',\n",
       " '1dConvBLSTM_fold0.h5',\n",
       " 'LeftSensor',\n",
       " 'TestDataset.zip',\n",
       " 'toPredictionForm.csv',\n",
       " 'result_gender.png',\n",
       " '1dConvBLSTM_fold2.h5',\n",
       " 'ManualExtractionData',\n",
       " 'IDGenderAgelist_ig.csv',\n",
       " 'CleanedData.zip',\n",
       " 'Distribution.png',\n",
       " 'OU-IneritialGaitActionDataset.zip',\n",
       " 'CenterSensor',\n",
       " 'data',\n",
       " '1dConvBLSTM_fold4.h5',\n",
       " 'AutomaticExtractionData_IMUZCenter',\n",
       " '1dConvBLSTM_fold1.h5',\n",
       " 'Prediction_no_preprocess.csv',\n",
       " 'Submission.csv',\n",
       " 'Distribution of age .png',\n",
       " 'Prediction_cleaned.csv',\n",
       " 'Distribution of age.png',\n",
       " 'result_age_2.png',\n",
       " 'Submission_cleaned.csv',\n",
       " 'RightSensor',\n",
       " 'OU-IneritialGaitData.zip',\n",
       " 'PaperProtocol',\n",
       " 'CleanedData',\n",
       " '1dConvBLSTM_fold3.h5',\n",
       " 'adc.json',\n",
       " 'Protocols',\n",
       " 'sample_data']"
      ]
     },
     "execution_count": 73,
     "metadata": {
      "tags": []
     },
     "output_type": "execute_result"
    }
   ],
   "source": [
    "os.listdir()"
   ]
  },
  {
   "cell_type": "code",
   "execution_count": 0,
   "metadata": {
    "_uuid": "c21c69e1fa984d63c4fbeba997b1f676cec063be",
    "colab": {},
    "colab_type": "code",
    "collapsed": true,
    "id": "hbp7suBDX12U"
   },
   "outputs": [],
   "source": [
    "def file_name(file_dir): \n",
    "    dic={}\n",
    "    for root, dirs, files in os.walk(file_dir):\n",
    "        dic[root]=files\n",
    "#         print(root) #path\n",
    "#         print(dirs) #subdirectory\n",
    "#         print(files) #files in non-subdirectory\n",
    "    return dic"
   ]
  },
  {
   "cell_type": "code",
   "execution_count": 0,
   "metadata": {
    "_uuid": "455b93f4c94d3a658a84e56119f256df8ed2a1c9",
    "colab": {},
    "colab_type": "code",
    "collapsed": true,
    "id": "NPaDVI8uX12X"
   },
   "outputs": [],
   "source": [
    "AutomaticExtractionData=file_name(\"./AutomaticExtractionData_IMUZCenter\")\n",
    "ManualExtractionData=file_name(\"./ManualExtractionData\")\n",
    "ManualExtractionData_name= list(ManualExtractionData.keys())[1:]\n",
    "SimilarAction_left = file_name(\"./LeftSensor\")\n",
    "SimilarAction_right = file_name(\"./RightSensor\")\n",
    "SimilarAction_center = file_name(\"./CenterSensor\")\n",
    "label=pd.read_csv('./IDGenderAgelist_ig.csv',dtype='object')"
   ]
  },
  {
   "cell_type": "code",
   "execution_count": 0,
   "metadata": {
    "_uuid": "a569c9ad3a62d79a05f789f25d7f3ea4fa3f9b97",
    "colab": {},
    "colab_type": "code",
    "collapsed": true,
    "id": "aSRcmPw-X12a"
   },
   "outputs": [],
   "source": [
    "def change_ID_number(x):\n",
    "    if len(x)==3:\n",
    "        return ('000' + x)\n",
    "    elif len(x)==4:\n",
    "        return ('00' + x)\n",
    "    elif len(x)==5:\n",
    "        return ('0' + x)\n",
    "    else:\n",
    "        return x\n",
    "      \n",
    "label['adjusted_ID']=label['ID'].apply(lambda x: change_ID_number(x))\n",
    "def file_name_with_ID(x,post,ls):\n",
    "    for i in range(len(list(ls))):\n",
    "        if (x == ls[i][5:11] and ls[i][12:]== post):\n",
    "            return(ls[i])"
   ]
  },
  {
   "cell_type": "code",
   "execution_count": 0,
   "metadata": {
    "_uuid": "865fe3b88afd9ba202a99c5e77f1f059d1fe8041",
    "colab": {},
    "colab_type": "code",
    "collapsed": true,
    "id": "Bflm_3LMX12d"
   },
   "outputs": [],
   "source": [
    "label['AutomaticExtractionData_IMUZCenter_Walk_1']=label['adjusted_ID'].apply(lambda x: \n",
    "                                file_name_with_ID(x,'Center_seq0.csv',list(AutomaticExtractionData.values())[0]))\n",
    "label['AutomaticExtractionData_IMUZCenter_Walk_2']=label['adjusted_ID'].apply(lambda x: \n",
    "                                file_name_with_ID(x,'Center_seq1.csv',list(AutomaticExtractionData.values())[0]))\n",
    "label['ManualExtractionData/IMUZCenter_Walk_1']=label['adjusted_ID'].apply(lambda x: \n",
    "                                file_name_with_ID(x,'Walk1.csv',ManualExtractionData[ManualExtractionData_name[0]]))\n",
    "label['ManualExtractionData/IMUZCenter_Walk_2']=label['adjusted_ID'].apply(lambda x: \n",
    "                                file_name_with_ID(x,'Walk2.csv',ManualExtractionData[ManualExtractionData_name[0]]))\n",
    "label['ManualExtractionData/IMUZCenter_SlopeDown']=label['adjusted_ID'].apply(lambda x: \n",
    "                                file_name_with_ID(x,'SlopeDown.csv',ManualExtractionData[ManualExtractionData_name[0]]))\n",
    "label['ManualExtractionData/IMUZCenter_SlopeUp']=label['adjusted_ID'].apply(lambda x: \n",
    "                                file_name_with_ID(x,'SlopeUp.csv',ManualExtractionData[ManualExtractionData_name[0]]))\n",
    "label['ManualExtractionData/IMUZRight_Walk_1']=label['adjusted_ID'].apply(lambda x: \n",
    "                                file_name_with_ID(x,'Walk1.csv',ManualExtractionData[ManualExtractionData_name[1]]))\n",
    "label['ManualExtractionData/IMUZRight_Walk_2']=label['adjusted_ID'].apply(lambda x: \n",
    "                                file_name_with_ID(x,'Walk2.csv',ManualExtractionData[ManualExtractionData_name[1]]))\n",
    "label['ManualExtractionData/IMUZRight_SlopeDown']=label['adjusted_ID'].apply(lambda x: \n",
    "                                file_name_with_ID(x,'SlopeDown.csv',ManualExtractionData[ManualExtractionData_name[1]]))\n",
    "label['ManualExtractionData/IMUZRight_SlopeUp']=label['adjusted_ID'].apply(lambda x: \n",
    "                                file_name_with_ID(x,'SlopeUp.csv',ManualExtractionData[ManualExtractionData_name[1]]))\n",
    "label['ManualExtractionData/IMUZLeft_Walk_1']=label['adjusted_ID'].apply(lambda x: \n",
    "                                file_name_with_ID(x,'Walk1.csv',ManualExtractionData[ManualExtractionData_name[2]]))\n",
    "label['ManualExtractionData/IMUZLeft_Walk_2']=label['adjusted_ID'].apply(lambda x: \n",
    "                                file_name_with_ID(x,'Walk2.csv',ManualExtractionData[ManualExtractionData_name[2]]))\n",
    "label['ManualExtractionData/IMUZLeft_SlopeDown']=label['adjusted_ID'].apply(lambda x: \n",
    "                                file_name_with_ID(x,'SlopeDown.csv',ManualExtractionData[ManualExtractionData_name[2]]))\n",
    "label['ManualExtractionData/IMUZLeft_SlopeUp']=label['adjusted_ID'].apply(lambda x: \n",
    "                                file_name_with_ID(x,'SlopeUp.csv',ManualExtractionData[ManualExtractionData_name[2]]))\n",
    "label['ManualExtractionData/Android_Walk_1']=label['adjusted_ID'].apply(lambda x: \n",
    "                                file_name_with_ID(x,'Walk1.csv',ManualExtractionData[ManualExtractionData_name[3]]))\n",
    "label['ManualExtractionData/Android_Walk_2']=label['adjusted_ID'].apply(lambda x: \n",
    "                                file_name_with_ID(x,'Walk2.csv',ManualExtractionData[ManualExtractionData_name[3]]))\n",
    "label['ManualExtractionData/Android_SlopeDown']=label['adjusted_ID'].apply(lambda x: \n",
    "                                file_name_with_ID(x,'SlopeDown.csv',ManualExtractionData[ManualExtractionData_name[3]]))\n",
    "label['ManualExtractionDataAndroid_SlopeUp']=label['adjusted_ID'].apply(lambda x: \n",
    "                                file_name_with_ID(x,'SlopeUp.csv',ManualExtractionData[ManualExtractionData_name[3]]))\n",
    "label['SimilarActionLeftSensor']=label['adjusted_ID'].apply(lambda x: \n",
    "                                file_name_with_ID(x,'actLabel',list(SimilarAction_left.values())[0]))\n",
    "label['SimilarActionRightSensor']=label['adjusted_ID'].apply(lambda x: \n",
    "                                file_name_with_ID(x,'actLabel',list(SimilarAction_right.values())[0]))\n",
    "label['SimilarActionCenterSensor']=label['adjusted_ID'].apply(lambda x: \n",
    "                                file_name_with_ID(x,'actLabel',list(SimilarAction_center.values())[0]))"
   ]
  },
  {
   "cell_type": "code",
   "execution_count": 0,
   "metadata": {
    "colab": {
     "base_uri": "https://localhost:8080/",
     "height": 253
    },
    "colab_type": "code",
    "collapsed": false,
    "id": "L-8rF3QWcBTW",
    "outputId": "96518235-eccd-49c8-e146-1cb8fd1f0557"
   },
   "outputs": [
    {
     "data": {
      "text/html": [
       "<div>\n",
       "<style scoped>\n",
       "    .dataframe tbody tr th:only-of-type {\n",
       "        vertical-align: middle;\n",
       "    }\n",
       "\n",
       "    .dataframe tbody tr th {\n",
       "        vertical-align: top;\n",
       "    }\n",
       "\n",
       "    .dataframe thead th {\n",
       "        text-align: right;\n",
       "    }\n",
       "</style>\n",
       "<table border=\"1\" class=\"dataframe\">\n",
       "  <thead>\n",
       "    <tr style=\"text-align: right;\">\n",
       "      <th></th>\n",
       "      <th>ID</th>\n",
       "      <th>Gender(0:Female;1:Male)</th>\n",
       "      <th>Age</th>\n",
       "      <th>adjusted_ID</th>\n",
       "      <th>AutomaticExtractionData_IMUZCenter_Walk_1</th>\n",
       "      <th>AutomaticExtractionData_IMUZCenter_Walk_2</th>\n",
       "      <th>ManualExtractionData/IMUZCenter_Walk_1</th>\n",
       "      <th>ManualExtractionData/IMUZCenter_Walk_2</th>\n",
       "      <th>ManualExtractionData/IMUZCenter_SlopeDown</th>\n",
       "      <th>ManualExtractionData/IMUZCenter_SlopeUp</th>\n",
       "      <th>...</th>\n",
       "      <th>ManualExtractionData/IMUZLeft_Walk_2</th>\n",
       "      <th>ManualExtractionData/IMUZLeft_SlopeDown</th>\n",
       "      <th>ManualExtractionData/IMUZLeft_SlopeUp</th>\n",
       "      <th>ManualExtractionData/Android_Walk_1</th>\n",
       "      <th>ManualExtractionData/Android_Walk_2</th>\n",
       "      <th>ManualExtractionData/Android_SlopeDown</th>\n",
       "      <th>ManualExtractionDataAndroid_SlopeUp</th>\n",
       "      <th>SimilarActionLeftSensor</th>\n",
       "      <th>SimilarActionRightSensor</th>\n",
       "      <th>SimilarActionCenterSensor</th>\n",
       "    </tr>\n",
       "  </thead>\n",
       "  <tbody>\n",
       "    <tr>\n",
       "      <th>0</th>\n",
       "      <td>000104</td>\n",
       "      <td>1</td>\n",
       "      <td>33</td>\n",
       "      <td>000104</td>\n",
       "      <td>T0_ID000104_Center_seq0.csv</td>\n",
       "      <td>T0_ID000104_Center_seq1.csv</td>\n",
       "      <td>T0_ID000104_Walk1.csv</td>\n",
       "      <td>T0_ID000104_Walk2.csv</td>\n",
       "      <td>T0_ID000104_SlopeDown.csv</td>\n",
       "      <td>T0_ID000104_SlopeUp.csv</td>\n",
       "      <td>...</td>\n",
       "      <td>T0_ID000104_Walk2.csv</td>\n",
       "      <td>T0_ID000104_SlopeDown.csv</td>\n",
       "      <td>T0_ID000104_SlopeUp.csv</td>\n",
       "      <td>T0_ID000104_Walk1.csv</td>\n",
       "      <td>T0_ID000104_Walk2.csv</td>\n",
       "      <td>T0_ID000104_SlopeDown.csv</td>\n",
       "      <td>T0_ID000104_SlopeUp.csv</td>\n",
       "      <td>T0_Id000104.actLabel</td>\n",
       "      <td>T0_Id000104.actLabel</td>\n",
       "      <td>T0_Id000104.actLabel</td>\n",
       "    </tr>\n",
       "    <tr>\n",
       "      <th>1</th>\n",
       "      <td>002318</td>\n",
       "      <td>0</td>\n",
       "      <td>11</td>\n",
       "      <td>002318</td>\n",
       "      <td>T0_ID002318_Center_seq0.csv</td>\n",
       "      <td>T0_ID002318_Center_seq1.csv</td>\n",
       "      <td>None</td>\n",
       "      <td>None</td>\n",
       "      <td>None</td>\n",
       "      <td>None</td>\n",
       "      <td>...</td>\n",
       "      <td>None</td>\n",
       "      <td>None</td>\n",
       "      <td>None</td>\n",
       "      <td>None</td>\n",
       "      <td>None</td>\n",
       "      <td>None</td>\n",
       "      <td>None</td>\n",
       "      <td>None</td>\n",
       "      <td>None</td>\n",
       "      <td>None</td>\n",
       "    </tr>\n",
       "    <tr>\n",
       "      <th>2</th>\n",
       "      <td>002422</td>\n",
       "      <td>1</td>\n",
       "      <td>9</td>\n",
       "      <td>002422</td>\n",
       "      <td>T0_ID002422_Center_seq0.csv</td>\n",
       "      <td>T0_ID002422_Center_seq1.csv</td>\n",
       "      <td>None</td>\n",
       "      <td>None</td>\n",
       "      <td>None</td>\n",
       "      <td>None</td>\n",
       "      <td>...</td>\n",
       "      <td>None</td>\n",
       "      <td>None</td>\n",
       "      <td>None</td>\n",
       "      <td>None</td>\n",
       "      <td>None</td>\n",
       "      <td>None</td>\n",
       "      <td>None</td>\n",
       "      <td>None</td>\n",
       "      <td>None</td>\n",
       "      <td>None</td>\n",
       "    </tr>\n",
       "    <tr>\n",
       "      <th>3</th>\n",
       "      <td>002526</td>\n",
       "      <td>0</td>\n",
       "      <td>45</td>\n",
       "      <td>002526</td>\n",
       "      <td>T0_ID002526_Center_seq0.csv</td>\n",
       "      <td>T0_ID002526_Center_seq1.csv</td>\n",
       "      <td>None</td>\n",
       "      <td>None</td>\n",
       "      <td>None</td>\n",
       "      <td>None</td>\n",
       "      <td>...</td>\n",
       "      <td>None</td>\n",
       "      <td>None</td>\n",
       "      <td>None</td>\n",
       "      <td>None</td>\n",
       "      <td>None</td>\n",
       "      <td>None</td>\n",
       "      <td>None</td>\n",
       "      <td>None</td>\n",
       "      <td>None</td>\n",
       "      <td>None</td>\n",
       "    </tr>\n",
       "    <tr>\n",
       "      <th>4</th>\n",
       "      <td>002630</td>\n",
       "      <td>0</td>\n",
       "      <td>37</td>\n",
       "      <td>002630</td>\n",
       "      <td>T0_ID002630_Center_seq0.csv</td>\n",
       "      <td>T0_ID002630_Center_seq1.csv</td>\n",
       "      <td>T0_ID002630_Walk1.csv</td>\n",
       "      <td>T0_ID002630_Walk2.csv</td>\n",
       "      <td>T0_ID002630_SlopeDown.csv</td>\n",
       "      <td>T0_ID002630_SlopeUp.csv</td>\n",
       "      <td>...</td>\n",
       "      <td>T0_ID002630_Walk2.csv</td>\n",
       "      <td>T0_ID002630_SlopeDown.csv</td>\n",
       "      <td>T0_ID002630_SlopeUp.csv</td>\n",
       "      <td>T0_ID002630_Walk1.csv</td>\n",
       "      <td>T0_ID002630_Walk2.csv</td>\n",
       "      <td>T0_ID002630_SlopeDown.csv</td>\n",
       "      <td>T0_ID002630_SlopeUp.csv</td>\n",
       "      <td>T0_Id002630.actLabel</td>\n",
       "      <td>T0_Id002630.actLabel</td>\n",
       "      <td>T0_Id002630.actLabel</td>\n",
       "    </tr>\n",
       "  </tbody>\n",
       "</table>\n",
       "<p>5 rows × 25 columns</p>\n",
       "</div>"
      ],
      "text/plain": [
       "       ID Gender(0:Female;1:Male) Age adjusted_ID  \\\n",
       "0  000104                       1  33      000104   \n",
       "1  002318                       0  11      002318   \n",
       "2  002422                       1   9      002422   \n",
       "3  002526                       0  45      002526   \n",
       "4  002630                       0  37      002630   \n",
       "\n",
       "  AutomaticExtractionData_IMUZCenter_Walk_1  \\\n",
       "0               T0_ID000104_Center_seq0.csv   \n",
       "1               T0_ID002318_Center_seq0.csv   \n",
       "2               T0_ID002422_Center_seq0.csv   \n",
       "3               T0_ID002526_Center_seq0.csv   \n",
       "4               T0_ID002630_Center_seq0.csv   \n",
       "\n",
       "  AutomaticExtractionData_IMUZCenter_Walk_2  \\\n",
       "0               T0_ID000104_Center_seq1.csv   \n",
       "1               T0_ID002318_Center_seq1.csv   \n",
       "2               T0_ID002422_Center_seq1.csv   \n",
       "3               T0_ID002526_Center_seq1.csv   \n",
       "4               T0_ID002630_Center_seq1.csv   \n",
       "\n",
       "  ManualExtractionData/IMUZCenter_Walk_1  \\\n",
       "0                  T0_ID000104_Walk1.csv   \n",
       "1                                   None   \n",
       "2                                   None   \n",
       "3                                   None   \n",
       "4                  T0_ID002630_Walk1.csv   \n",
       "\n",
       "  ManualExtractionData/IMUZCenter_Walk_2  \\\n",
       "0                  T0_ID000104_Walk2.csv   \n",
       "1                                   None   \n",
       "2                                   None   \n",
       "3                                   None   \n",
       "4                  T0_ID002630_Walk2.csv   \n",
       "\n",
       "  ManualExtractionData/IMUZCenter_SlopeDown  \\\n",
       "0                 T0_ID000104_SlopeDown.csv   \n",
       "1                                      None   \n",
       "2                                      None   \n",
       "3                                      None   \n",
       "4                 T0_ID002630_SlopeDown.csv   \n",
       "\n",
       "  ManualExtractionData/IMUZCenter_SlopeUp            ...             \\\n",
       "0                 T0_ID000104_SlopeUp.csv            ...              \n",
       "1                                    None            ...              \n",
       "2                                    None            ...              \n",
       "3                                    None            ...              \n",
       "4                 T0_ID002630_SlopeUp.csv            ...              \n",
       "\n",
       "  ManualExtractionData/IMUZLeft_Walk_2  \\\n",
       "0                T0_ID000104_Walk2.csv   \n",
       "1                                 None   \n",
       "2                                 None   \n",
       "3                                 None   \n",
       "4                T0_ID002630_Walk2.csv   \n",
       "\n",
       "  ManualExtractionData/IMUZLeft_SlopeDown  \\\n",
       "0               T0_ID000104_SlopeDown.csv   \n",
       "1                                    None   \n",
       "2                                    None   \n",
       "3                                    None   \n",
       "4               T0_ID002630_SlopeDown.csv   \n",
       "\n",
       "  ManualExtractionData/IMUZLeft_SlopeUp ManualExtractionData/Android_Walk_1  \\\n",
       "0               T0_ID000104_SlopeUp.csv               T0_ID000104_Walk1.csv   \n",
       "1                                  None                                None   \n",
       "2                                  None                                None   \n",
       "3                                  None                                None   \n",
       "4               T0_ID002630_SlopeUp.csv               T0_ID002630_Walk1.csv   \n",
       "\n",
       "  ManualExtractionData/Android_Walk_2 ManualExtractionData/Android_SlopeDown  \\\n",
       "0               T0_ID000104_Walk2.csv              T0_ID000104_SlopeDown.csv   \n",
       "1                                None                                   None   \n",
       "2                                None                                   None   \n",
       "3                                None                                   None   \n",
       "4               T0_ID002630_Walk2.csv              T0_ID002630_SlopeDown.csv   \n",
       "\n",
       "  ManualExtractionDataAndroid_SlopeUp SimilarActionLeftSensor  \\\n",
       "0             T0_ID000104_SlopeUp.csv    T0_Id000104.actLabel   \n",
       "1                                None                    None   \n",
       "2                                None                    None   \n",
       "3                                None                    None   \n",
       "4             T0_ID002630_SlopeUp.csv    T0_Id002630.actLabel   \n",
       "\n",
       "  SimilarActionRightSensor SimilarActionCenterSensor  \n",
       "0     T0_Id000104.actLabel      T0_Id000104.actLabel  \n",
       "1                     None                      None  \n",
       "2                     None                      None  \n",
       "3                     None                      None  \n",
       "4     T0_Id002630.actLabel      T0_Id002630.actLabel  \n",
       "\n",
       "[5 rows x 25 columns]"
      ]
     },
     "execution_count": 78,
     "metadata": {
      "tags": []
     },
     "output_type": "execute_result"
    }
   ],
   "source": [
    "label.head()"
   ]
  },
  {
   "cell_type": "code",
   "execution_count": 0,
   "metadata": {
    "_uuid": "4b867237442574b1cad9f54937864e9b0f4a2cac",
    "colab": {},
    "colab_type": "code",
    "collapsed": true,
    "id": "L6zVZO5bX12j"
   },
   "outputs": [],
   "source": [
    "def generate_read_table(fileName,actionName,ID,label): \n",
    "  #try:\n",
    "    dataset_name= fileName + actionName\n",
    "    path_name= fileName +'/'+ str(label[label['ID']==ID][dataset_name].values[0])\n",
    "    if fileName=='ManualExtractionData/Android':\n",
    "      df=pd.read_csv(path_name,skiprows=2)\n",
    "      df.columns=[0,0,0,df.columns.values[3],df.columns.values[4],df.columns.values[5]]\n",
    "      insert_line=pd.DataFrame(df.columns.values).T\n",
    "      df.columns=insert_line.columns\n",
    "      df=pd.concat([insert_line,df],axis=0)\n",
    "    elif fileName == \"SimilarAction\":\n",
    "      df=pd.read_table(actionName + \"/\" + str(label[label['ID']==ID][dataset_name].values[0]) ,skiprows=1)\n",
    "      return df\n",
    "      df.columns=[0,0,0,df.columns.values[3],df.columns.values[4],df.columns.values[5]]\n",
    "      insert_line=pd.DataFrame(df.columns.values).T\n",
    "      df.columns=insert_line.columns\n",
    "      df=pd.concat([insert_line,df],axis=0)\n",
    "    else:\n",
    "      df=pd.read_csv(path_name,skiprows=2)\n",
    "      insert_line=pd.DataFrame(df.columns.values).T\n",
    "      df.columns=insert_line.columns\n",
    "      df=pd.concat([insert_line,df],axis=0)\n",
    "    df.columns=['Gx','Gy','Gz','Ax','Ay','Az']\n",
    "    df = df.astype(float)\n",
    "    return df\n",
    "  #except:\n",
    "    #return None\n",
    "df = generate_read_table( 'AutomaticExtractionData_IMUZCenter','_Walk_1','002318',label)"
   ]
  },
  {
   "cell_type": "code",
   "execution_count": 0,
   "metadata": {
    "_uuid": "5f63a2033fd468f17ce4c17afd84586a2546963c",
    "colab": {
     "base_uri": "https://localhost:8080/",
     "height": 204
    },
    "colab_type": "code",
    "collapsed": false,
    "id": "9vYP5D_PX12m",
    "outputId": "89a30c8f-0e4c-4fab-dc2e-9ba7bdac4b83"
   },
   "outputs": [
    {
     "data": {
      "text/html": [
       "<div>\n",
       "<style scoped>\n",
       "    .dataframe tbody tr th:only-of-type {\n",
       "        vertical-align: middle;\n",
       "    }\n",
       "\n",
       "    .dataframe tbody tr th {\n",
       "        vertical-align: top;\n",
       "    }\n",
       "\n",
       "    .dataframe thead th {\n",
       "        text-align: right;\n",
       "    }\n",
       "</style>\n",
       "<table border=\"1\" class=\"dataframe\">\n",
       "  <thead>\n",
       "    <tr style=\"text-align: right;\">\n",
       "      <th></th>\n",
       "      <th>Gx</th>\n",
       "      <th>Gy</th>\n",
       "      <th>Gz</th>\n",
       "      <th>Ax</th>\n",
       "      <th>Ay</th>\n",
       "      <th>Az</th>\n",
       "    </tr>\n",
       "  </thead>\n",
       "  <tbody>\n",
       "    <tr>\n",
       "      <th>0</th>\n",
       "      <td>0.236353</td>\n",
       "      <td>-0.627744</td>\n",
       "      <td>0.041949</td>\n",
       "      <td>-0.024</td>\n",
       "      <td>-0.826</td>\n",
       "      <td>0.150</td>\n",
       "    </tr>\n",
       "    <tr>\n",
       "      <th>0</th>\n",
       "      <td>0.177763</td>\n",
       "      <td>-0.622424</td>\n",
       "      <td>-0.053925</td>\n",
       "      <td>0.006</td>\n",
       "      <td>-0.834</td>\n",
       "      <td>0.148</td>\n",
       "    </tr>\n",
       "    <tr>\n",
       "      <th>1</th>\n",
       "      <td>0.044605</td>\n",
       "      <td>-0.638404</td>\n",
       "      <td>-0.181756</td>\n",
       "      <td>0.028</td>\n",
       "      <td>-0.824</td>\n",
       "      <td>0.148</td>\n",
       "    </tr>\n",
       "    <tr>\n",
       "      <th>2</th>\n",
       "      <td>-0.045942</td>\n",
       "      <td>-0.670364</td>\n",
       "      <td>-0.309588</td>\n",
       "      <td>0.040</td>\n",
       "      <td>-0.822</td>\n",
       "      <td>0.084</td>\n",
       "    </tr>\n",
       "    <tr>\n",
       "      <th>3</th>\n",
       "      <td>-0.056595</td>\n",
       "      <td>-0.643724</td>\n",
       "      <td>-0.384157</td>\n",
       "      <td>0.060</td>\n",
       "      <td>-0.844</td>\n",
       "      <td>0.026</td>\n",
       "    </tr>\n",
       "  </tbody>\n",
       "</table>\n",
       "</div>"
      ],
      "text/plain": [
       "         Gx        Gy        Gz     Ax     Ay     Az\n",
       "0  0.236353 -0.627744  0.041949 -0.024 -0.826  0.150\n",
       "0  0.177763 -0.622424 -0.053925  0.006 -0.834  0.148\n",
       "1  0.044605 -0.638404 -0.181756  0.028 -0.824  0.148\n",
       "2 -0.045942 -0.670364 -0.309588  0.040 -0.822  0.084\n",
       "3 -0.056595 -0.643724 -0.384157  0.060 -0.844  0.026"
      ]
     },
     "execution_count": 80,
     "metadata": {
      "tags": []
     },
     "output_type": "execute_result"
    }
   ],
   "source": [
    "df.head()"
   ]
  },
  {
   "cell_type": "code",
   "execution_count": 0,
   "metadata": {
    "colab": {
     "base_uri": "https://localhost:8080/",
     "height": 593
    },
    "colab_type": "code",
    "collapsed": false,
    "id": "AFbTRR5Mbm-C",
    "outputId": "aa54139f-2890-4eeb-a0f9-04b548c7fb1a"
   },
   "outputs": [
    {
     "data": {
      "text/plain": [
       "['.config',\n",
       " '1dConvBLSTM_fold0.h5',\n",
       " 'LeftSensor',\n",
       " 'TestDataset.zip',\n",
       " 'toPredictionForm.csv',\n",
       " 'result_gender.png',\n",
       " '1dConvBLSTM_fold2.h5',\n",
       " 'ManualExtractionData',\n",
       " 'IDGenderAgelist_ig.csv',\n",
       " 'CleanedData.zip',\n",
       " 'Distribution.png',\n",
       " 'OU-IneritialGaitActionDataset.zip',\n",
       " 'CenterSensor',\n",
       " 'data',\n",
       " '1dConvBLSTM_fold4.h5',\n",
       " 'AutomaticExtractionData_IMUZCenter',\n",
       " '1dConvBLSTM_fold1.h5',\n",
       " 'Prediction_no_preprocess.csv',\n",
       " 'Submission.csv',\n",
       " 'Distribution of age .png',\n",
       " 'Prediction_cleaned.csv',\n",
       " 'Distribution of age.png',\n",
       " 'result_age_2.png',\n",
       " 'Submission_cleaned.csv',\n",
       " 'RightSensor',\n",
       " 'OU-IneritialGaitData.zip',\n",
       " 'PaperProtocol',\n",
       " 'CleanedData',\n",
       " '1dConvBLSTM_fold3.h5',\n",
       " 'adc.json',\n",
       " 'Protocols',\n",
       " 'sample_data']"
      ]
     },
     "execution_count": 81,
     "metadata": {
      "tags": []
     },
     "output_type": "execute_result"
    }
   ],
   "source": [
    "os.listdir()"
   ]
  },
  {
   "cell_type": "code",
   "execution_count": 0,
   "metadata": {
    "_uuid": "1b012c85c3bf7ba867e050dcc39ebad2b14f3d13",
    "colab": {},
    "colab_type": "code",
    "collapsed": true,
    "id": "-9fIuVKwX12q"
   },
   "outputs": [],
   "source": [
    "df = generate_read_table('SimilarAction','LeftSensor','000104',label)"
   ]
  },
  {
   "cell_type": "code",
   "execution_count": 0,
   "metadata": {
    "_uuid": "e4c872d2f6a727e9f816d2fc347e8dfefd06b96e",
    "colab": {
     "base_uri": "https://localhost:8080/",
     "height": 204
    },
    "colab_type": "code",
    "collapsed": false,
    "id": "exg9jPhOX12u",
    "outputId": "44e4977b-279f-4fb3-bd00-50ad8e7972aa"
   },
   "outputs": [
    {
     "data": {
      "text/html": [
       "<div>\n",
       "<style scoped>\n",
       "    .dataframe tbody tr th:only-of-type {\n",
       "        vertical-align: middle;\n",
       "    }\n",
       "\n",
       "    .dataframe tbody tr th {\n",
       "        vertical-align: top;\n",
       "    }\n",
       "\n",
       "    .dataframe thead th {\n",
       "        text-align: right;\n",
       "    }\n",
       "</style>\n",
       "<table border=\"1\" class=\"dataframe\">\n",
       "  <thead>\n",
       "    <tr style=\"text-align: right;\">\n",
       "      <th></th>\n",
       "      <th>Gx</th>\n",
       "      <th>Gy</th>\n",
       "      <th>Gz</th>\n",
       "      <th>Ax</th>\n",
       "      <th>Ay</th>\n",
       "      <th>Az</th>\n",
       "      <th>Label</th>\n",
       "    </tr>\n",
       "  </thead>\n",
       "  <tbody>\n",
       "    <tr>\n",
       "      <th>0</th>\n",
       "      <td>-0.024172</td>\n",
       "      <td>-0.454651</td>\n",
       "      <td>0.173332</td>\n",
       "      <td>0.052</td>\n",
       "      <td>-0.770</td>\n",
       "      <td>-0.138</td>\n",
       "      <td>0</td>\n",
       "    </tr>\n",
       "    <tr>\n",
       "      <th>1</th>\n",
       "      <td>-0.018845</td>\n",
       "      <td>-0.433345</td>\n",
       "      <td>0.168006</td>\n",
       "      <td>0.072</td>\n",
       "      <td>-0.766</td>\n",
       "      <td>-0.142</td>\n",
       "      <td>0</td>\n",
       "    </tr>\n",
       "    <tr>\n",
       "      <th>2</th>\n",
       "      <td>0.018439</td>\n",
       "      <td>-0.428019</td>\n",
       "      <td>0.157353</td>\n",
       "      <td>0.110</td>\n",
       "      <td>-0.758</td>\n",
       "      <td>-0.138</td>\n",
       "      <td>0</td>\n",
       "    </tr>\n",
       "    <tr>\n",
       "      <th>3</th>\n",
       "      <td>0.002460</td>\n",
       "      <td>-0.348124</td>\n",
       "      <td>0.104090</td>\n",
       "      <td>0.130</td>\n",
       "      <td>-0.760</td>\n",
       "      <td>-0.134</td>\n",
       "      <td>0</td>\n",
       "    </tr>\n",
       "    <tr>\n",
       "      <th>4</th>\n",
       "      <td>0.055723</td>\n",
       "      <td>-0.273556</td>\n",
       "      <td>0.072132</td>\n",
       "      <td>0.150</td>\n",
       "      <td>-0.780</td>\n",
       "      <td>-0.122</td>\n",
       "      <td>0</td>\n",
       "    </tr>\n",
       "  </tbody>\n",
       "</table>\n",
       "</div>"
      ],
      "text/plain": [
       "         Gx        Gy        Gz     Ax     Ay     Az  Label\n",
       "0 -0.024172 -0.454651  0.173332  0.052 -0.770 -0.138      0\n",
       "1 -0.018845 -0.433345  0.168006  0.072 -0.766 -0.142      0\n",
       "2  0.018439 -0.428019  0.157353  0.110 -0.758 -0.138      0\n",
       "3  0.002460 -0.348124  0.104090  0.130 -0.760 -0.134      0\n",
       "4  0.055723 -0.273556  0.072132  0.150 -0.780 -0.122      0"
      ]
     },
     "execution_count": 83,
     "metadata": {
      "tags": []
     },
     "output_type": "execute_result"
    }
   ],
   "source": [
    "df.head()"
   ]
  },
  {
   "cell_type": "code",
   "execution_count": 0,
   "metadata": {
    "_uuid": "cb9c736886208dbc277e9b5ac2bf463469b2b9a8",
    "colab": {},
    "colab_type": "code",
    "collapsed": true,
    "id": "7Vx28BlrX12z"
   },
   "outputs": [],
   "source": [
    "import random\n",
    "import math\n",
    "\n",
    "def yipeng_preprocessing(raw_data, length):\n",
    "            \n",
    "  # Data augmentation\n",
    "  if raw_data.shape[0] > length:\n",
    "    #data = raw_data[0:length] # Cut the data\n",
    "    start_index = random.randrange(len(raw_data) - (length))\n",
    "    data = raw_data[start_index: start_index + length]\n",
    "  else:\n",
    "    period = math.ceil(length / raw_data.shape[0])\n",
    "    temp = np.copy(raw_data)\n",
    "    # copy the data periodic\n",
    "    for i in range(period-1):\n",
    "      temp = np.row_stack((temp, raw_data))\n",
    "      data = (temp[0:length]) # Cut the data\n",
    "            \n",
    "  return data"
   ]
  },
  {
   "cell_type": "code",
   "execution_count": 0,
   "metadata": {
    "_uuid": "99c35b840b2d936be4ddac65a1a9385058226add",
    "colab": {},
    "colab_type": "code",
    "collapsed": true,
    "id": "H7mBWaB4X124"
   },
   "outputs": [],
   "source": [
    "import copy\n",
    "\n",
    "df = pd.read_csv('./IDGenderAgelist_ig.csv')\n",
    "ids = df[\"ID\"].values\n",
    "gender = df[\"Gender(0:Female;1:Male)\"].values\n",
    "age = copy.deepcopy(df[\"Age\"].values)\n",
    "act_age = df[\"Age\"].values"
   ]
  },
  {
   "cell_type": "code",
   "execution_count": 0,
   "metadata": {
    "_uuid": "e0e9b30cc44ece542c62d310e54d5a28cc35fef3",
    "colab": {},
    "colab_type": "code",
    "collapsed": true,
    "id": "Pq81ug1nX126"
   },
   "outputs": [],
   "source": [
    "from keras.utils.np_utils import to_categorical\n",
    "#for i in range(0,40):\n",
    "#    age[(age > (i * 2.5)) & (age <= ((i + 1) * 2.5))] = i\n",
    "#for i in range(0,20):\n",
    "#    age[(age > (i * 5.0)) & (age <= ((i + 1) * 5.0))] = i\n",
    "for i in range(0,10):\n",
    "    age[(age > (i * 10.0)) & (age <= ((i + 1) * 10.0))] = i"
   ]
  },
  {
   "cell_type": "code",
   "execution_count": 0,
   "metadata": {
    "_uuid": "2cc34d538dfa12ef9b5c9094aa5a9c0a00eb4df8",
    "colab": {
     "base_uri": "https://localhost:8080/",
     "height": 384
    },
    "colab_type": "code",
    "collapsed": false,
    "id": "NoGBMnSPX129",
    "outputId": "b4a9e320-8fa4-4d09-e602-77f75112f196"
   },
   "outputs": [
    {
     "data": {
      "image/png": "[encoded data removed]",
      "text/plain": [
       "<Figure size 576x396 with 1 Axes>"
      ]
     },
     "metadata": {
      "tags": []
     },
     "output_type": "display_data"
    }
   ],
   "source": [
    "#plt.hist(age,bins = 32)\n",
    "#plt.hist(age,bins = 16)\n",
    "#plt.hist(age,bins = 8, align= \"center\")\n",
    "labels, counts = np.unique(age, return_counts=True)\n",
    "plt.bar(labels, counts, align='center')\n",
    "plt.gca().set_xticks(labels)\n",
    "plt.xlabel(\"Age class\", fontsize = 15)\n",
    "plt.ylabel(\"The number of subjects\", fontsize = 15)\n",
    "plt.xticks([0,1,2,3,4,5,6,7],[\"0 (2-9)\", \"1 (10-19)\", \"2 (20-29)\", \"3 (30-39)\",\n",
    "                              \"4 (40-49)\",\"5 (50-59)\",\"6 (60-69)\",\"7 (70-79)\"], fontsize = 12)\n",
    "plt.title(\"The class distribution of age\", fontsize = 15)\n",
    "plt.savefig(\"Distribution.png\")"
   ]
  },
  {
   "cell_type": "code",
   "execution_count": 0,
   "metadata": {
    "_uuid": "31fdc4b603149a2a9570a93ba1394935d4c31bf6",
    "colab": {
     "base_uri": "https://localhost:8080/",
     "height": 35
    },
    "colab_type": "code",
    "collapsed": false,
    "id": "4W58sQ4ZX13A",
    "outputId": "dcdaa3df-5dba-4f4d-e810-797f88b1ef16"
   },
   "outputs": [
    {
     "data": {
      "text/plain": [
       "(763, 8)"
      ]
     },
     "execution_count": 88,
     "metadata": {
      "tags": []
     },
     "output_type": "execute_result"
    }
   ],
   "source": [
    "to_categorical(age).shape"
   ]
  },
  {
   "cell_type": "code",
   "execution_count": 0,
   "metadata": {
    "_uuid": "08230eed5af6009e6c1cd8cff48fd3ab2e6b47a9",
    "colab": {
     "base_uri": "https://localhost:8080/",
     "height": 204
    },
    "colab_type": "code",
    "collapsed": false,
    "id": "tbm2OH28X13I",
    "outputId": "3ed2a032-36a8-43bd-bf82-76e41b117574"
   },
   "outputs": [
    {
     "data": {
      "text/html": [
       "<div>\n",
       "<style scoped>\n",
       "    .dataframe tbody tr th:only-of-type {\n",
       "        vertical-align: middle;\n",
       "    }\n",
       "\n",
       "    .dataframe tbody tr th {\n",
       "        vertical-align: top;\n",
       "    }\n",
       "\n",
       "    .dataframe thead th {\n",
       "        text-align: right;\n",
       "    }\n",
       "</style>\n",
       "<table border=\"1\" class=\"dataframe\">\n",
       "  <thead>\n",
       "    <tr style=\"text-align: right;\">\n",
       "      <th></th>\n",
       "      <th>ID</th>\n",
       "      <th>Gender(0:Female;1:Male)</th>\n",
       "      <th>Age</th>\n",
       "    </tr>\n",
       "  </thead>\n",
       "  <tbody>\n",
       "    <tr>\n",
       "      <th>0</th>\n",
       "      <td>104</td>\n",
       "      <td>1</td>\n",
       "      <td>33</td>\n",
       "    </tr>\n",
       "    <tr>\n",
       "      <th>1</th>\n",
       "      <td>2318</td>\n",
       "      <td>0</td>\n",
       "      <td>11</td>\n",
       "    </tr>\n",
       "    <tr>\n",
       "      <th>2</th>\n",
       "      <td>2422</td>\n",
       "      <td>1</td>\n",
       "      <td>9</td>\n",
       "    </tr>\n",
       "    <tr>\n",
       "      <th>3</th>\n",
       "      <td>2526</td>\n",
       "      <td>0</td>\n",
       "      <td>45</td>\n",
       "    </tr>\n",
       "    <tr>\n",
       "      <th>4</th>\n",
       "      <td>2630</td>\n",
       "      <td>0</td>\n",
       "      <td>37</td>\n",
       "    </tr>\n",
       "  </tbody>\n",
       "</table>\n",
       "</div>"
      ],
      "text/plain": [
       "     ID  Gender(0:Female;1:Male)  Age\n",
       "0   104                        1   33\n",
       "1  2318                        0   11\n",
       "2  2422                        1    9\n",
       "3  2526                        0   45\n",
       "4  2630                        0   37"
      ]
     },
     "execution_count": 89,
     "metadata": {
      "tags": []
     },
     "output_type": "execute_result"
    }
   ],
   "source": [
    "df.head()"
   ]
  },
  {
   "cell_type": "code",
   "execution_count": 1,
   "metadata": {
    "_uuid": "cccc0b849c0c1223bdbdc8dff357888f40595b36",
    "colab": {
     "base_uri": "https://localhost:8080/",
     "height": 35
    },
    "colab_type": "code",
    "collapsed": false,
    "id": "V_f9rHw6X13N",
    "outputId": "381a01a0-4199-4984-d6c0-f49cfd149269"
   },
   "outputs": [
    {
     "name": "stderr",
     "output_type": "stream",
     "text": [
      "Using TensorFlow backend.\n"
     ]
    }
   ],
   "source": [
    "from keras.models import Sequential, Model\n",
    "from keras.layers import Input, LSTM, Bidirectional, Dropout, Flatten, Dense, TimeDistributed, GlobalMaxPooling1D, Conv2D, Reshape, Activation, Add, BatchNormalization\n",
    "from keras.layers.advanced_activations import LeakyReLU\n",
    "from keras.layers.convolutional import Conv1D, UpSampling1D\n",
    "from keras.layers.pooling import MaxPooling1D, AveragePooling1D\n",
    "from keras.losses import categorical_crossentropy, binary_crossentropy, mae\n",
    "from keras.layers.merge import concatenate\n",
    "from keras.optimizers import SGD\n",
    "\n",
    "#Deep Convoluional LSTM model\n",
    "\n",
    "def get_model(n_timesteps):\n",
    "    \n",
    "  inputs_acel = Input(shape=(n_timesteps,3,))\n",
    "  x1 = Conv1D(256, 11, padding='same', activation='relu')(inputs_acel)\n",
    "  x1 = BatchNormalization()(x1)\n",
    "  x1 = MaxPooling1D(2, padding='same')(x1)\n",
    "  \n",
    "  inputs_gylo = Input(shape=(n_timesteps,3,))\n",
    "  x2 = Conv1D(256, 11, padding='same', activation='relu')(inputs_gylo)\n",
    "  x2 = BatchNormalization()(x2)\n",
    "  x2 = MaxPooling1D(2, padding='same')(x2)\n",
    "\n",
    "  x = concatenate([x1, x2])\n",
    "\n",
    "  x = Conv1D(256, 11, padding='same', activation='relu')(x)\n",
    "  x = BatchNormalization()(x)\n",
    "  x = MaxPooling1D(2, padding='same')(x)\n",
    "  x = Conv1D(128, 11, padding='same', activation='relu')(x)\n",
    "  x = BatchNormalization()(x)\n",
    "  x = Conv1D(64, 11, padding='same', activation='relu')(x)\n",
    "  x = BatchNormalization()(x)\n",
    "  x = Bidirectional(LSTM(100,return_sequences=True))(x)\n",
    "  x = Bidirectional(LSTM(100))(x)\n",
    "  x = Dropout(0.5)(x)\n",
    "  \n",
    "  x_gender = Dense(100, activation='relu')(x)\n",
    "  gender = Dense(1, activation='sigmoid',name='gender')(x_gender)\n",
    "  \n",
    "  x_age = Dense(100, activation='relu')(x)\n",
    "  age = Dense(8, activation='softmax',name='age')(x_age)\n",
    "    \n",
    "  inputs = [inputs_acel, inputs_gylo]\n",
    "  outputs = [gender, age]\n",
    "  \n",
    "  model = Model(inputs=inputs, outputs = outputs)\n",
    "  sgd = SGD(lr=0.01, decay=1e-6, momentum=0.9, nesterov=True)\n",
    "\n",
    "  model.compile(loss={'gender': binary_crossentropy, 'age': categorical_crossentropy},\n",
    "                  loss_weights={'gender': 0.50, 'age': 0.50},\n",
    "                optimizer= \"adam\", metrics=['accuracy'])\n",
    "  return model \n"
   ]
  },
  {
   "cell_type": "code",
   "execution_count": 2,
   "metadata": {
    "colab": {
     "base_uri": "https://localhost:8080/",
     "height": 1765
    },
    "colab_type": "code",
    "collapsed": false,
    "id": "PXPOQq5cX13U",
    "outputId": "ae85032f-7241-497f-af36-7eda87162d01"
   },
   "outputs": [
    {
     "name": "stdout",
     "output_type": "stream",
     "text": [
      "WARNING:tensorflow:From /usr/local/lib/python3.6/dist-packages/tensorflow/python/framework/op_def_library.py:263: colocate_with (from tensorflow.python.framework.ops) is deprecated and will be removed in a future version.\n",
      "Instructions for updating:\n",
      "Colocations handled automatically by placer.\n",
      "WARNING:tensorflow:From /usr/local/lib/python3.6/dist-packages/keras/backend/tensorflow_backend.py:3445: calling dropout (from tensorflow.python.ops.nn_ops) with keep_prob is deprecated and will be removed in a future version.\n",
      "Instructions for updating:\n",
      "Please use `rate` instead of `keep_prob`. Rate should be set to `rate = 1 - keep_prob`.\n"
     ]
    },
    {
     "data": {
      "image/svg+xml": [
       "<svg height=\"1213pt\" viewBox=\"0.00 0.00 568.00 1213.00\" width=\"568pt\" xmlns=\"http://www.w3.org/2000/svg\" xmlns:xlink=\"http://www.w3.org/1999/xlink\">\n",
       "<g class=\"graph\" id=\"graph0\" transform=\"scale(1 1) rotate(0) translate(4 1209)\">\n",
       "<title>G</title>\n",
       "<polygon fill=\"#ffffff\" points=\"-4,4 -4,-1209 564,-1209 564,4 -4,4\" stroke=\"transparent\"/>\n",
       "<!-- 140016784093704 -->\n",
       "<g class=\"node\" id=\"node1\">\n",
       "<title>140016784093704</title>\n",
       "<polygon fill=\"none\" points=\"69,-1168.5 69,-1204.5 202,-1204.5 202,-1168.5 69,-1168.5\" stroke=\"#000000\"/>\n",
       "<text fill=\"#000000\" font-family=\"Times,serif\" font-size=\"14.00\" text-anchor=\"middle\" x=\"135.5\" y=\"-1182.8\">input_1: InputLayer</text>\n",
       "</g>\n",
       "<!-- 140016784096336 -->\n",
       "<g class=\"node\" id=\"node3\">\n",
       "<title>140016784096336</title>\n",
       "<polygon fill=\"none\" points=\"69,-1095.5 69,-1131.5 202,-1131.5 202,-1095.5 69,-1095.5\" stroke=\"#000000\"/>\n",
       "<text fill=\"#000000\" font-family=\"Times,serif\" font-size=\"14.00\" text-anchor=\"middle\" x=\"135.5\" y=\"-1109.8\">conv1d_1: Conv1D</text>\n",
       "</g>\n",
       "<!-- 140016784093704&#45;&gt;140016784096336 -->\n",
       "<g class=\"edge\" id=\"edge1\">\n",
       "<title>140016784093704-&gt;140016784096336</title>\n",
       "<path d=\"M135.5,-1168.4551C135.5,-1160.3828 135.5,-1150.6764 135.5,-1141.6817\" fill=\"none\" stroke=\"#000000\"/>\n",
       "<polygon fill=\"#000000\" points=\"139.0001,-1141.5903 135.5,-1131.5904 132.0001,-1141.5904 139.0001,-1141.5903\" stroke=\"#000000\"/>\n",
       "</g>\n",
       "<!-- 140015788286640 -->\n",
       "<g class=\"node\" id=\"node2\">\n",
       "<title>140015788286640</title>\n",
       "<polygon fill=\"none\" points=\"358,-1168.5 358,-1204.5 491,-1204.5 491,-1168.5 358,-1168.5\" stroke=\"#000000\"/>\n",
       "<text fill=\"#000000\" font-family=\"Times,serif\" font-size=\"14.00\" text-anchor=\"middle\" x=\"424.5\" y=\"-1182.8\">input_2: InputLayer</text>\n",
       "</g>\n",
       "<!-- 140015789136640 -->\n",
       "<g class=\"node\" id=\"node4\">\n",
       "<title>140015789136640</title>\n",
       "<polygon fill=\"none\" points=\"358,-1095.5 358,-1131.5 491,-1131.5 491,-1095.5 358,-1095.5\" stroke=\"#000000\"/>\n",
       "<text fill=\"#000000\" font-family=\"Times,serif\" font-size=\"14.00\" text-anchor=\"middle\" x=\"424.5\" y=\"-1109.8\">conv1d_2: Conv1D</text>\n",
       "</g>\n",
       "<!-- 140015788286640&#45;&gt;140015789136640 -->\n",
       "<g class=\"edge\" id=\"edge2\">\n",
       "<title>140015788286640-&gt;140015789136640</title>\n",
       "<path d=\"M424.5,-1168.4551C424.5,-1160.3828 424.5,-1150.6764 424.5,-1141.6817\" fill=\"none\" stroke=\"#000000\"/>\n",
       "<polygon fill=\"#000000\" points=\"428.0001,-1141.5903 424.5,-1131.5904 421.0001,-1141.5904 428.0001,-1141.5903\" stroke=\"#000000\"/>\n",
       "</g>\n",
       "<!-- 140015789556736 -->\n",
       "<g class=\"node\" id=\"node5\">\n",
       "<title>140015789556736</title>\n",
       "<polygon fill=\"none\" points=\"0,-1022.5 0,-1058.5 271,-1058.5 271,-1022.5 0,-1022.5\" stroke=\"#000000\"/>\n",
       "<text fill=\"#000000\" font-family=\"Times,serif\" font-size=\"14.00\" text-anchor=\"middle\" x=\"135.5\" y=\"-1036.8\">batch_normalization_1: BatchNormalization</text>\n",
       "</g>\n",
       "<!-- 140016784096336&#45;&gt;140015789556736 -->\n",
       "<g class=\"edge\" id=\"edge3\">\n",
       "<title>140016784096336-&gt;140015789556736</title>\n",
       "<path d=\"M135.5,-1095.4551C135.5,-1087.3828 135.5,-1077.6764 135.5,-1068.6817\" fill=\"none\" stroke=\"#000000\"/>\n",
       "<polygon fill=\"#000000\" points=\"139.0001,-1068.5903 135.5,-1058.5904 132.0001,-1068.5904 139.0001,-1068.5903\" stroke=\"#000000\"/>\n",
       "</g>\n",
       "<!-- 140015788099512 -->\n",
       "<g class=\"node\" id=\"node6\">\n",
       "<title>140015788099512</title>\n",
       "<polygon fill=\"none\" points=\"289,-1022.5 289,-1058.5 560,-1058.5 560,-1022.5 289,-1022.5\" stroke=\"#000000\"/>\n",
       "<text fill=\"#000000\" font-family=\"Times,serif\" font-size=\"14.00\" text-anchor=\"middle\" x=\"424.5\" y=\"-1036.8\">batch_normalization_2: BatchNormalization</text>\n",
       "</g>\n",
       "<!-- 140015789136640&#45;&gt;140015788099512 -->\n",
       "<g class=\"edge\" id=\"edge4\">\n",
       "<title>140015789136640-&gt;140015788099512</title>\n",
       "<path d=\"M424.5,-1095.4551C424.5,-1087.3828 424.5,-1077.6764 424.5,-1068.6817\" fill=\"none\" stroke=\"#000000\"/>\n",
       "<polygon fill=\"#000000\" points=\"428.0001,-1068.5903 424.5,-1058.5904 421.0001,-1068.5904 428.0001,-1068.5903\" stroke=\"#000000\"/>\n",
       "</g>\n",
       "<!-- 140015789558864 -->\n",
       "<g class=\"node\" id=\"node7\">\n",
       "<title>140015789558864</title>\n",
       "<polygon fill=\"none\" points=\"50,-949.5 50,-985.5 271,-985.5 271,-949.5 50,-949.5\" stroke=\"#000000\"/>\n",
       "<text fill=\"#000000\" font-family=\"Times,serif\" font-size=\"14.00\" text-anchor=\"middle\" x=\"160.5\" y=\"-963.8\">max_pooling1d_1: MaxPooling1D</text>\n",
       "</g>\n",
       "<!-- 140015789556736&#45;&gt;140015789558864 -->\n",
       "<g class=\"edge\" id=\"edge5\">\n",
       "<title>140015789556736-&gt;140015789558864</title>\n",
       "<path d=\"M141.6798,-1022.4551C144.5043,-1014.2074 147.9132,-1004.2536 151.0493,-995.0962\" fill=\"none\" stroke=\"#000000\"/>\n",
       "<polygon fill=\"#000000\" points=\"154.3759,-996.185 154.3047,-985.5904 147.7535,-993.917 154.3759,-996.185\" stroke=\"#000000\"/>\n",
       "</g>\n",
       "<!-- 140015787866376 -->\n",
       "<g class=\"node\" id=\"node8\">\n",
       "<title>140015787866376</title>\n",
       "<polygon fill=\"none\" points=\"301,-949.5 301,-985.5 522,-985.5 522,-949.5 301,-949.5\" stroke=\"#000000\"/>\n",
       "<text fill=\"#000000\" font-family=\"Times,serif\" font-size=\"14.00\" text-anchor=\"middle\" x=\"411.5\" y=\"-963.8\">max_pooling1d_2: MaxPooling1D</text>\n",
       "</g>\n",
       "<!-- 140015788099512&#45;&gt;140015787866376 -->\n",
       "<g class=\"edge\" id=\"edge6\">\n",
       "<title>140015788099512-&gt;140015787866376</title>\n",
       "<path d=\"M421.2865,-1022.4551C419.849,-1014.3828 418.1205,-1004.6764 416.5187,-995.6817\" fill=\"none\" stroke=\"#000000\"/>\n",
       "<polygon fill=\"#000000\" points=\"419.9207,-994.8218 414.7216,-985.5904 413.0291,-996.0491 419.9207,-994.8218\" stroke=\"#000000\"/>\n",
       "</g>\n",
       "<!-- 140015787574944 -->\n",
       "<g class=\"node\" id=\"node9\">\n",
       "<title>140015787574944</title>\n",
       "<polygon fill=\"none\" points=\"192,-876.5 192,-912.5 367,-912.5 367,-876.5 192,-876.5\" stroke=\"#000000\"/>\n",
       "<text fill=\"#000000\" font-family=\"Times,serif\" font-size=\"14.00\" text-anchor=\"middle\" x=\"279.5\" y=\"-890.8\">concatenate_1: Concatenate</text>\n",
       "</g>\n",
       "<!-- 140015789558864&#45;&gt;140015787574944 -->\n",
       "<g class=\"edge\" id=\"edge7\">\n",
       "<title>140015789558864-&gt;140015787574944</title>\n",
       "<path d=\"M189.9157,-949.4551C205.363,-939.979 224.4816,-928.2508 241.0845,-918.0658\" fill=\"none\" stroke=\"#000000\"/>\n",
       "<polygon fill=\"#000000\" points=\"243.3164,-920.8028 250.0102,-912.5904 239.6561,-914.836 243.3164,-920.8028\" stroke=\"#000000\"/>\n",
       "</g>\n",
       "<!-- 140015787866376&#45;&gt;140015787574944 -->\n",
       "<g class=\"edge\" id=\"edge8\">\n",
       "<title>140015787866376-&gt;140015787574944</title>\n",
       "<path d=\"M378.8708,-949.4551C361.4186,-939.8035 339.742,-927.8156 321.0919,-917.5016\" fill=\"none\" stroke=\"#000000\"/>\n",
       "<polygon fill=\"#000000\" points=\"322.6561,-914.3671 312.2113,-912.5904 319.2684,-920.4928 322.6561,-914.3671\" stroke=\"#000000\"/>\n",
       "</g>\n",
       "<!-- 140015787682448 -->\n",
       "<g class=\"node\" id=\"node10\">\n",
       "<title>140015787682448</title>\n",
       "<polygon fill=\"none\" points=\"213,-803.5 213,-839.5 346,-839.5 346,-803.5 213,-803.5\" stroke=\"#000000\"/>\n",
       "<text fill=\"#000000\" font-family=\"Times,serif\" font-size=\"14.00\" text-anchor=\"middle\" x=\"279.5\" y=\"-817.8\">conv1d_3: Conv1D</text>\n",
       "</g>\n",
       "<!-- 140015787574944&#45;&gt;140015787682448 -->\n",
       "<g class=\"edge\" id=\"edge9\">\n",
       "<title>140015787574944-&gt;140015787682448</title>\n",
       "<path d=\"M279.5,-876.4551C279.5,-868.3828 279.5,-858.6764 279.5,-849.6817\" fill=\"none\" stroke=\"#000000\"/>\n",
       "<polygon fill=\"#000000\" points=\"283.0001,-849.5903 279.5,-839.5904 276.0001,-849.5904 283.0001,-849.5903\" stroke=\"#000000\"/>\n",
       "</g>\n",
       "<!-- 140015786847928 -->\n",
       "<g class=\"node\" id=\"node11\">\n",
       "<title>140015786847928</title>\n",
       "<polygon fill=\"none\" points=\"144,-730.5 144,-766.5 415,-766.5 415,-730.5 144,-730.5\" stroke=\"#000000\"/>\n",
       "<text fill=\"#000000\" font-family=\"Times,serif\" font-size=\"14.00\" text-anchor=\"middle\" x=\"279.5\" y=\"-744.8\">batch_normalization_3: BatchNormalization</text>\n",
       "</g>\n",
       "<!-- 140015787682448&#45;&gt;140015786847928 -->\n",
       "<g class=\"edge\" id=\"edge10\">\n",
       "<title>140015787682448-&gt;140015786847928</title>\n",
       "<path d=\"M279.5,-803.4551C279.5,-795.3828 279.5,-785.6764 279.5,-776.6817\" fill=\"none\" stroke=\"#000000\"/>\n",
       "<polygon fill=\"#000000\" points=\"283.0001,-776.5903 279.5,-766.5904 276.0001,-776.5904 283.0001,-776.5903\" stroke=\"#000000\"/>\n",
       "</g>\n",
       "<!-- 140015786450560 -->\n",
       "<g class=\"node\" id=\"node12\">\n",
       "<title>140015786450560</title>\n",
       "<polygon fill=\"none\" points=\"169,-657.5 169,-693.5 390,-693.5 390,-657.5 169,-657.5\" stroke=\"#000000\"/>\n",
       "<text fill=\"#000000\" font-family=\"Times,serif\" font-size=\"14.00\" text-anchor=\"middle\" x=\"279.5\" y=\"-671.8\">max_pooling1d_3: MaxPooling1D</text>\n",
       "</g>\n",
       "<!-- 140015786847928&#45;&gt;140015786450560 -->\n",
       "<g class=\"edge\" id=\"edge11\">\n",
       "<title>140015786847928-&gt;140015786450560</title>\n",
       "<path d=\"M279.5,-730.4551C279.5,-722.3828 279.5,-712.6764 279.5,-703.6817\" fill=\"none\" stroke=\"#000000\"/>\n",
       "<polygon fill=\"#000000\" points=\"283.0001,-703.5903 279.5,-693.5904 276.0001,-703.5904 283.0001,-703.5903\" stroke=\"#000000\"/>\n",
       "</g>\n",
       "<!-- 140015786687288 -->\n",
       "<g class=\"node\" id=\"node13\">\n",
       "<title>140015786687288</title>\n",
       "<polygon fill=\"none\" points=\"213,-584.5 213,-620.5 346,-620.5 346,-584.5 213,-584.5\" stroke=\"#000000\"/>\n",
       "<text fill=\"#000000\" font-family=\"Times,serif\" font-size=\"14.00\" text-anchor=\"middle\" x=\"279.5\" y=\"-598.8\">conv1d_4: Conv1D</text>\n",
       "</g>\n",
       "<!-- 140015786450560&#45;&gt;140015786687288 -->\n",
       "<g class=\"edge\" id=\"edge12\">\n",
       "<title>140015786450560-&gt;140015786687288</title>\n",
       "<path d=\"M279.5,-657.4551C279.5,-649.3828 279.5,-639.6764 279.5,-630.6817\" fill=\"none\" stroke=\"#000000\"/>\n",
       "<polygon fill=\"#000000\" points=\"283.0001,-630.5903 279.5,-620.5904 276.0001,-630.5904 283.0001,-630.5903\" stroke=\"#000000\"/>\n",
       "</g>\n",
       "<!-- 140015785556960 -->\n",
       "<g class=\"node\" id=\"node14\">\n",
       "<title>140015785556960</title>\n",
       "<polygon fill=\"none\" points=\"144,-511.5 144,-547.5 415,-547.5 415,-511.5 144,-511.5\" stroke=\"#000000\"/>\n",
       "<text fill=\"#000000\" font-family=\"Times,serif\" font-size=\"14.00\" text-anchor=\"middle\" x=\"279.5\" y=\"-525.8\">batch_normalization_4: BatchNormalization</text>\n",
       "</g>\n",
       "<!-- 140015786687288&#45;&gt;140015785556960 -->\n",
       "<g class=\"edge\" id=\"edge13\">\n",
       "<title>140015786687288-&gt;140015785556960</title>\n",
       "<path d=\"M279.5,-584.4551C279.5,-576.3828 279.5,-566.6764 279.5,-557.6817\" fill=\"none\" stroke=\"#000000\"/>\n",
       "<polygon fill=\"#000000\" points=\"283.0001,-557.5903 279.5,-547.5904 276.0001,-557.5904 283.0001,-557.5903\" stroke=\"#000000\"/>\n",
       "</g>\n",
       "<!-- 140015785409728 -->\n",
       "<g class=\"node\" id=\"node15\">\n",
       "<title>140015785409728</title>\n",
       "<polygon fill=\"none\" points=\"213,-438.5 213,-474.5 346,-474.5 346,-438.5 213,-438.5\" stroke=\"#000000\"/>\n",
       "<text fill=\"#000000\" font-family=\"Times,serif\" font-size=\"14.00\" text-anchor=\"middle\" x=\"279.5\" y=\"-452.8\">conv1d_5: Conv1D</text>\n",
       "</g>\n",
       "<!-- 140015785556960&#45;&gt;140015785409728 -->\n",
       "<g class=\"edge\" id=\"edge14\">\n",
       "<title>140015785556960-&gt;140015785409728</title>\n",
       "<path d=\"M279.5,-511.4551C279.5,-503.3828 279.5,-493.6764 279.5,-484.6817\" fill=\"none\" stroke=\"#000000\"/>\n",
       "<polygon fill=\"#000000\" points=\"283.0001,-484.5903 279.5,-474.5904 276.0001,-484.5904 283.0001,-484.5903\" stroke=\"#000000\"/>\n",
       "</g>\n",
       "<!-- 140015784998224 -->\n",
       "<g class=\"node\" id=\"node16\">\n",
       "<title>140015784998224</title>\n",
       "<polygon fill=\"none\" points=\"144,-365.5 144,-401.5 415,-401.5 415,-365.5 144,-365.5\" stroke=\"#000000\"/>\n",
       "<text fill=\"#000000\" font-family=\"Times,serif\" font-size=\"14.00\" text-anchor=\"middle\" x=\"279.5\" y=\"-379.8\">batch_normalization_5: BatchNormalization</text>\n",
       "</g>\n",
       "<!-- 140015785409728&#45;&gt;140015784998224 -->\n",
       "<g class=\"edge\" id=\"edge15\">\n",
       "<title>140015785409728-&gt;140015784998224</title>\n",
       "<path d=\"M279.5,-438.4551C279.5,-430.3828 279.5,-420.6764 279.5,-411.6817\" fill=\"none\" stroke=\"#000000\"/>\n",
       "<polygon fill=\"#000000\" points=\"283.0001,-411.5903 279.5,-401.5904 276.0001,-411.5904 283.0001,-411.5903\" stroke=\"#000000\"/>\n",
       "</g>\n",
       "<!-- 140015783295688 -->\n",
       "<g class=\"node\" id=\"node17\">\n",
       "<title>140015783295688</title>\n",
       "<polygon fill=\"none\" points=\"139.5,-292.5 139.5,-328.5 419.5,-328.5 419.5,-292.5 139.5,-292.5\" stroke=\"#000000\"/>\n",
       "<text fill=\"#000000\" font-family=\"Times,serif\" font-size=\"14.00\" text-anchor=\"middle\" x=\"279.5\" y=\"-306.8\">bidirectional_1(lstm_1): Bidirectional(LSTM)</text>\n",
       "</g>\n",
       "<!-- 140015784998224&#45;&gt;140015783295688 -->\n",
       "<g class=\"edge\" id=\"edge16\">\n",
       "<title>140015784998224-&gt;140015783295688</title>\n",
       "<path d=\"M279.5,-365.4551C279.5,-357.3828 279.5,-347.6764 279.5,-338.6817\" fill=\"none\" stroke=\"#000000\"/>\n",
       "<polygon fill=\"#000000\" points=\"283.0001,-338.5903 279.5,-328.5904 276.0001,-338.5904 283.0001,-338.5903\" stroke=\"#000000\"/>\n",
       "</g>\n",
       "<!-- 140015737381832 -->\n",
       "<g class=\"node\" id=\"node18\">\n",
       "<title>140015737381832</title>\n",
       "<polygon fill=\"none\" points=\"139.5,-219.5 139.5,-255.5 419.5,-255.5 419.5,-219.5 139.5,-219.5\" stroke=\"#000000\"/>\n",
       "<text fill=\"#000000\" font-family=\"Times,serif\" font-size=\"14.00\" text-anchor=\"middle\" x=\"279.5\" y=\"-233.8\">bidirectional_2(lstm_2): Bidirectional(LSTM)</text>\n",
       "</g>\n",
       "<!-- 140015783295688&#45;&gt;140015737381832 -->\n",
       "<g class=\"edge\" id=\"edge17\">\n",
       "<title>140015783295688-&gt;140015737381832</title>\n",
       "<path d=\"M279.5,-292.4551C279.5,-284.3828 279.5,-274.6764 279.5,-265.6817\" fill=\"none\" stroke=\"#000000\"/>\n",
       "<polygon fill=\"#000000\" points=\"283.0001,-265.5903 279.5,-255.5904 276.0001,-265.5904 283.0001,-265.5903\" stroke=\"#000000\"/>\n",
       "</g>\n",
       "<!-- 140015735858848 -->\n",
       "<g class=\"node\" id=\"node19\">\n",
       "<title>140015735858848</title>\n",
       "<polygon fill=\"none\" points=\"212.5,-146.5 212.5,-182.5 346.5,-182.5 346.5,-146.5 212.5,-146.5\" stroke=\"#000000\"/>\n",
       "<text fill=\"#000000\" font-family=\"Times,serif\" font-size=\"14.00\" text-anchor=\"middle\" x=\"279.5\" y=\"-160.8\">dropout_1: Dropout</text>\n",
       "</g>\n",
       "<!-- 140015737381832&#45;&gt;140015735858848 -->\n",
       "<g class=\"edge\" id=\"edge18\">\n",
       "<title>140015737381832-&gt;140015735858848</title>\n",
       "<path d=\"M279.5,-219.4551C279.5,-211.3828 279.5,-201.6764 279.5,-192.6817\" fill=\"none\" stroke=\"#000000\"/>\n",
       "<polygon fill=\"#000000\" points=\"283.0001,-192.5903 279.5,-182.5904 276.0001,-192.5904 283.0001,-192.5903\" stroke=\"#000000\"/>\n",
       "</g>\n",
       "<!-- 140015731559168 -->\n",
       "<g class=\"node\" id=\"node20\">\n",
       "<title>140015731559168</title>\n",
       "<polygon fill=\"none\" points=\"164,-73.5 164,-109.5 271,-109.5 271,-73.5 164,-73.5\" stroke=\"#000000\"/>\n",
       "<text fill=\"#000000\" font-family=\"Times,serif\" font-size=\"14.00\" text-anchor=\"middle\" x=\"217.5\" y=\"-87.8\">dense_1: Dense</text>\n",
       "</g>\n",
       "<!-- 140015735858848&#45;&gt;140015731559168 -->\n",
       "<g class=\"edge\" id=\"edge19\">\n",
       "<title>140015735858848-&gt;140015731559168</title>\n",
       "<path d=\"M264.1742,-146.4551C256.7221,-137.6809 247.6302,-126.9759 239.4573,-117.353\" fill=\"none\" stroke=\"#000000\"/>\n",
       "<polygon fill=\"#000000\" points=\"242.0056,-114.9466 232.8644,-109.5904 236.6702,-119.4781 242.0056,-114.9466\" stroke=\"#000000\"/>\n",
       "</g>\n",
       "<!-- 140015730894664 -->\n",
       "<g class=\"node\" id=\"node21\">\n",
       "<title>140015730894664</title>\n",
       "<polygon fill=\"none\" points=\"289,-73.5 289,-109.5 396,-109.5 396,-73.5 289,-73.5\" stroke=\"#000000\"/>\n",
       "<text fill=\"#000000\" font-family=\"Times,serif\" font-size=\"14.00\" text-anchor=\"middle\" x=\"342.5\" y=\"-87.8\">dense_2: Dense</text>\n",
       "</g>\n",
       "<!-- 140015735858848&#45;&gt;140015730894664 -->\n",
       "<g class=\"edge\" id=\"edge20\">\n",
       "<title>140015735858848-&gt;140015730894664</title>\n",
       "<path d=\"M295.073,-146.4551C302.6452,-137.6809 311.8838,-126.9759 320.1885,-117.353\" fill=\"none\" stroke=\"#000000\"/>\n",
       "<polygon fill=\"#000000\" points=\"323.0039,-119.4477 326.8878,-109.5904 317.7045,-114.8742 323.0039,-119.4477\" stroke=\"#000000\"/>\n",
       "</g>\n",
       "<!-- 140015732592200 -->\n",
       "<g class=\"node\" id=\"node22\">\n",
       "<title>140015732592200</title>\n",
       "<polygon fill=\"none\" points=\"168.5,-.5 168.5,-36.5 266.5,-36.5 266.5,-.5 168.5,-.5\" stroke=\"#000000\"/>\n",
       "<text fill=\"#000000\" font-family=\"Times,serif\" font-size=\"14.00\" text-anchor=\"middle\" x=\"217.5\" y=\"-14.8\">gender: Dense</text>\n",
       "</g>\n",
       "<!-- 140015731559168&#45;&gt;140015732592200 -->\n",
       "<g class=\"edge\" id=\"edge21\">\n",
       "<title>140015731559168-&gt;140015732592200</title>\n",
       "<path d=\"M217.5,-73.4551C217.5,-65.3828 217.5,-55.6764 217.5,-46.6817\" fill=\"none\" stroke=\"#000000\"/>\n",
       "<polygon fill=\"#000000\" points=\"221.0001,-46.5903 217.5,-36.5904 214.0001,-46.5904 221.0001,-46.5903\" stroke=\"#000000\"/>\n",
       "</g>\n",
       "<!-- 140015731004360 -->\n",
       "<g class=\"node\" id=\"node23\">\n",
       "<title>140015731004360</title>\n",
       "<polygon fill=\"none\" points=\"303,-.5 303,-36.5 382,-36.5 382,-.5 303,-.5\" stroke=\"#000000\"/>\n",
       "<text fill=\"#000000\" font-family=\"Times,serif\" font-size=\"14.00\" text-anchor=\"middle\" x=\"342.5\" y=\"-14.8\">age: Dense</text>\n",
       "</g>\n",
       "<!-- 140015730894664&#45;&gt;140015731004360 -->\n",
       "<g class=\"edge\" id=\"edge22\">\n",
       "<title>140015730894664-&gt;140015731004360</title>\n",
       "<path d=\"M342.5,-73.4551C342.5,-65.3828 342.5,-55.6764 342.5,-46.6817\" fill=\"none\" stroke=\"#000000\"/>\n",
       "<polygon fill=\"#000000\" points=\"346.0001,-46.5903 342.5,-36.5904 339.0001,-46.5904 346.0001,-46.5903\" stroke=\"#000000\"/>\n",
       "</g>\n",
       "</g>\n",
       "</svg>"
      ],
      "text/plain": [
       "<IPython.core.display.SVG object>"
      ]
     },
     "execution_count": 2,
     "metadata": {
      "tags": []
     },
     "output_type": "execute_result"
    }
   ],
   "source": [
    "from keras.utils.vis_utils import model_to_dot \n",
    "from IPython.display import SVG\n",
    "\n",
    "model = get_model(100)\n",
    "SVG(model_to_dot(model).create(prog='dot', format='svg'))"
   ]
  },
  {
   "cell_type": "code",
   "execution_count": 3,
   "metadata": {
    "colab": {
     "base_uri": "https://localhost:8080/",
     "height": 989
    },
    "colab_type": "code",
    "collapsed": false,
    "id": "j4C8o_rOX13Y",
    "outputId": "b9c104d4-9621-47f7-f8d9-80c438a9a82d"
   },
   "outputs": [
    {
     "name": "stdout",
     "output_type": "stream",
     "text": [
      "__________________________________________________________________________________________________\n",
      "Layer (type)                    Output Shape         Param #     Connected to                     \n",
      "==================================================================================================\n",
      "input_1 (InputLayer)            (None, 100, 3)       0                                            \n",
      "__________________________________________________________________________________________________\n",
      "input_2 (InputLayer)            (None, 100, 3)       0                                            \n",
      "__________________________________________________________________________________________________\n",
      "conv1d_1 (Conv1D)               (None, 100, 256)     8704        input_1[0][0]                    \n",
      "__________________________________________________________________________________________________\n",
      "conv1d_2 (Conv1D)               (None, 100, 256)     8704        input_2[0][0]                    \n",
      "__________________________________________________________________________________________________\n",
      "batch_normalization_1 (BatchNor (None, 100, 256)     1024        conv1d_1[0][0]                   \n",
      "__________________________________________________________________________________________________\n",
      "batch_normalization_2 (BatchNor (None, 100, 256)     1024        conv1d_2[0][0]                   \n",
      "__________________________________________________________________________________________________\n",
      "max_pooling1d_1 (MaxPooling1D)  (None, 50, 256)      0           batch_normalization_1[0][0]      \n",
      "__________________________________________________________________________________________________\n",
      "max_pooling1d_2 (MaxPooling1D)  (None, 50, 256)      0           batch_normalization_2[0][0]      \n",
      "__________________________________________________________________________________________________\n",
      "concatenate_1 (Concatenate)     (None, 50, 512)      0           max_pooling1d_1[0][0]            \n",
      "                                                                 max_pooling1d_2[0][0]            \n",
      "__________________________________________________________________________________________________\n",
      "conv1d_3 (Conv1D)               (None, 50, 256)      1442048     concatenate_1[0][0]              \n",
      "__________________________________________________________________________________________________\n",
      "batch_normalization_3 (BatchNor (None, 50, 256)      1024        conv1d_3[0][0]                   \n",
      "__________________________________________________________________________________________________\n",
      "max_pooling1d_3 (MaxPooling1D)  (None, 25, 256)      0           batch_normalization_3[0][0]      \n",
      "__________________________________________________________________________________________________\n",
      "conv1d_4 (Conv1D)               (None, 25, 128)      360576      max_pooling1d_3[0][0]            \n",
      "__________________________________________________________________________________________________\n",
      "batch_normalization_4 (BatchNor (None, 25, 128)      512         conv1d_4[0][0]                   \n",
      "__________________________________________________________________________________________________\n",
      "conv1d_5 (Conv1D)               (None, 25, 64)       90176       batch_normalization_4[0][0]      \n",
      "__________________________________________________________________________________________________\n",
      "batch_normalization_5 (BatchNor (None, 25, 64)       256         conv1d_5[0][0]                   \n",
      "__________________________________________________________________________________________________\n",
      "bidirectional_1 (Bidirectional) (None, 25, 200)      132000      batch_normalization_5[0][0]      \n",
      "__________________________________________________________________________________________________\n",
      "bidirectional_2 (Bidirectional) (None, 200)          240800      bidirectional_1[0][0]            \n",
      "__________________________________________________________________________________________________\n",
      "dropout_1 (Dropout)             (None, 200)          0           bidirectional_2[0][0]            \n",
      "__________________________________________________________________________________________________\n",
      "dense_1 (Dense)                 (None, 100)          20100       dropout_1[0][0]                  \n",
      "__________________________________________________________________________________________________\n",
      "dense_2 (Dense)                 (None, 100)          20100       dropout_1[0][0]                  \n",
      "__________________________________________________________________________________________________\n",
      "gender (Dense)                  (None, 1)            101         dense_1[0][0]                    \n",
      "__________________________________________________________________________________________________\n",
      "age (Dense)                     (None, 8)            808         dense_2[0][0]                    \n",
      "==================================================================================================\n",
      "Total params: 2,327,957\n",
      "Trainable params: 2,326,037\n",
      "Non-trainable params: 1,920\n",
      "__________________________________________________________________________________________________\n"
     ]
    }
   ],
   "source": [
    "model.summary()"
   ]
  },
  {
   "cell_type": "code",
   "execution_count": 0,
   "metadata": {
    "_uuid": "e049bd444d6a72adfb1c239b05a80ef5cceb7e60",
    "colab": {},
    "colab_type": "code",
    "collapsed": true,
    "id": "c8kVMFy3X13c"
   },
   "outputs": [],
   "source": [
    "def get_max(y_pred):\n",
    "    for i in range(len(y_pred)):\n",
    "        temp = y_pred[i]\n",
    "        temp[np.argmax(temp)] = 1\n",
    "        temp[temp != 1] = 0\n",
    "        y_pred[i] = temp\n",
    "    return y_pred"
   ]
  },
  {
   "cell_type": "code",
   "execution_count": 0,
   "metadata": {
    "_uuid": "3caa212bb9a66a6e95587697504f5d59a9398b28",
    "colab": {
     "base_uri": "https://localhost:8080/",
     "height": 1297
    },
    "colab_type": "code",
    "collapsed": false,
    "id": "D1QWmLRmX13h",
    "outputId": "4c254101-f2d3-4cd5-af22-5be00b5bcd21",
    "scrolled": true
   },
   "outputs": [
    {
     "name": "stderr",
     "output_type": "stream",
     "text": [
      "  0%|          | 1/610 [00:00<01:07,  8.99it/s]"
     ]
    },
    {
     "name": "stdout",
     "output_type": "stream",
     "text": [
      "TRAIN: 610 TEST: 153\n"
     ]
    },
    {
     "name": "stderr",
     "output_type": "stream",
     "text": [
      "100%|██████████| 610/610 [00:46<00:00, 13.07it/s]\n",
      "100%|██████████| 153/153 [00:03<00:00, 47.40it/s]\n"
     ]
    },
    {
     "name": "stdout",
     "output_type": "stream",
     "text": [
      "Train size: 120491\n",
      "Valid size: 20079\n",
      "Train on 120491 samples, validate on 20079 samples\n",
      "Epoch 1/3\n",
      "120491/120491 [==============================] - 62s 515us/step - loss: 1.0003 - gender_loss: 0.4816 - age_loss: 1.5190 - gender_acc: 0.7634 - age_acc: 0.4353 - val_loss: 1.1462 - val_gender_loss: 0.6677 - val_age_loss: 1.6247 - val_gender_acc: 0.6778 - val_age_acc: 0.3822\n",
      "Epoch 2/3\n",
      "120491/120491 [==============================] - 58s 482us/step - loss: 0.6671 - gender_loss: 0.3254 - age_loss: 1.0088 - gender_acc: 0.8516 - age_acc: 0.6257 - val_loss: 1.2238 - val_gender_loss: 0.6360 - val_age_loss: 1.8115 - val_gender_acc: 0.7114 - val_age_acc: 0.3904\n",
      "Epoch 3/3\n",
      "120491/120491 [==============================] - 58s 481us/step - loss: 0.4910 - gender_loss: 0.2508 - age_loss: 0.7312 - gender_acc: 0.8883 - age_acc: 0.7319 - val_loss: 1.2433 - val_gender_loss: 0.6689 - val_age_loss: 1.8176 - val_gender_acc: 0.7142 - val_age_acc: 0.4268\n"
     ]
    },
    {
     "name": "stderr",
     "output_type": "stream",
     "text": [
      "  0%|          | 2/610 [00:00<00:38, 15.76it/s]"
     ]
    },
    {
     "name": "stdout",
     "output_type": "stream",
     "text": [
      "0.7993079584775087\n",
      "6.671779977911504\n",
      "TRAIN: 610 TEST: 153\n"
     ]
    },
    {
     "name": "stderr",
     "output_type": "stream",
     "text": [
      "100%|██████████| 610/610 [00:49<00:00, 12.78it/s]\n",
      "100%|██████████| 153/153 [00:02<00:00, 61.75it/s]\n"
     ]
    },
    {
     "name": "stdout",
     "output_type": "stream",
     "text": [
      "Train size: 133434\n",
      "Valid size: 10422\n",
      "Train on 133434 samples, validate on 10422 samples\n",
      "Epoch 1/3\n",
      "133434/133434 [==============================] - 65s 490us/step - loss: 0.9894 - gender_loss: 0.4925 - age_loss: 1.4863 - gender_acc: 0.7559 - age_acc: 0.4465 - val_loss: 1.0681 - val_gender_loss: 0.5311 - val_age_loss: 1.6052 - val_gender_acc: 0.7465 - val_age_acc: 0.3695\n",
      "Epoch 2/3\n",
      "133434/133434 [==============================] - 63s 470us/step - loss: 0.6632 - gender_loss: 0.3399 - age_loss: 0.9865 - gender_acc: 0.8424 - age_acc: 0.6355 - val_loss: 1.2527 - val_gender_loss: 0.5380 - val_age_loss: 1.9673 - val_gender_acc: 0.7689 - val_age_acc: 0.3225\n",
      "Epoch 3/3\n",
      "133434/133434 [==============================] - 63s 469us/step - loss: 0.4898 - gender_loss: 0.2658 - age_loss: 0.7138 - gender_acc: 0.8805 - age_acc: 0.7392 - val_loss: 1.3096 - val_gender_loss: 0.5428 - val_age_loss: 2.0763 - val_gender_acc: 0.7777 - val_age_acc: 0.3533\n"
     ]
    },
    {
     "name": "stderr",
     "output_type": "stream",
     "text": [
      "  0%|          | 2/610 [00:00<00:38, 15.85it/s]"
     ]
    },
    {
     "name": "stdout",
     "output_type": "stream",
     "text": [
      "0.8866666666666667\n",
      "6.109944648194556\n",
      "TRAIN: 610 TEST: 153\n"
     ]
    },
    {
     "name": "stderr",
     "output_type": "stream",
     "text": [
      "100%|██████████| 610/610 [00:46<00:00, 13.36it/s]\n",
      "100%|██████████| 153/153 [00:03<00:00, 45.14it/s]\n"
     ]
    },
    {
     "name": "stdout",
     "output_type": "stream",
     "text": [
      "Train size: 119601\n",
      "Valid size: 20565\n",
      "Train on 119601 samples, validate on 20565 samples\n",
      "Epoch 1/3\n",
      "119601/119601 [==============================] - 60s 505us/step - loss: 0.9817 - gender_loss: 0.4952 - age_loss: 1.4681 - gender_acc: 0.7535 - age_acc: 0.4523 - val_loss: 1.2326 - val_gender_loss: 0.5334 - val_age_loss: 1.9318 - val_gender_acc: 0.7350 - val_age_acc: 0.3139\n",
      "Epoch 2/3\n",
      "119601/119601 [==============================] - 58s 481us/step - loss: 0.6584 - gender_loss: 0.3416 - age_loss: 0.9751 - gender_acc: 0.8418 - age_acc: 0.6358 - val_loss: 1.3776 - val_gender_loss: 0.5311 - val_age_loss: 2.2241 - val_gender_acc: 0.7547 - val_age_acc: 0.3349\n",
      "Epoch 3/3\n",
      "119601/119601 [==============================] - 57s 481us/step - loss: 0.4893 - gender_loss: 0.2661 - age_loss: 0.7125 - gender_acc: 0.8801 - age_acc: 0.7380 - val_loss: 1.4212 - val_gender_loss: 0.5617 - val_age_loss: 2.2807 - val_gender_acc: 0.7565 - val_age_acc: 0.3253\n"
     ]
    },
    {
     "name": "stderr",
     "output_type": "stream",
     "text": [
      "  0%|          | 2/610 [00:00<00:40, 15.18it/s]"
     ]
    },
    {
     "name": "stdout",
     "output_type": "stream",
     "text": [
      "0.8591549295774648\n",
      "8.420958171201509\n",
      "TRAIN: 610 TEST: 153\n"
     ]
    },
    {
     "name": "stderr",
     "output_type": "stream",
     "text": [
      "100%|██████████| 610/610 [00:43<00:00, 13.38it/s]\n",
      "100%|██████████| 153/153 [00:04<00:00, 33.96it/s]\n"
     ]
    },
    {
     "name": "stdout",
     "output_type": "stream",
     "text": [
      "Train size: 111197\n",
      "Valid size: 27312\n",
      "Train on 111197 samples, validate on 27312 samples\n",
      "Epoch 1/3\n",
      "111197/111197 [==============================] - 57s 517us/step - loss: 1.0057 - gender_loss: 0.5028 - age_loss: 1.5087 - gender_acc: 0.7502 - age_acc: 0.4362 - val_loss: 1.1199 - val_gender_loss: 0.5148 - val_age_loss: 1.7250 - val_gender_acc: 0.7392 - val_age_acc: 0.3577\n",
      "Epoch 2/3\n",
      "111197/111197 [==============================] - 55s 491us/step - loss: 0.6796 - gender_loss: 0.3473 - age_loss: 1.0118 - gender_acc: 0.8391 - age_acc: 0.6252 - val_loss: 1.1914 - val_gender_loss: 0.4952 - val_age_loss: 1.8877 - val_gender_acc: 0.7647 - val_age_acc: 0.3653\n",
      "Epoch 3/3\n",
      "111197/111197 [==============================] - 54s 490us/step - loss: 0.4983 - gender_loss: 0.2721 - age_loss: 0.7246 - gender_acc: 0.8778 - age_acc: 0.7353 - val_loss: 1.3523 - val_gender_loss: 0.5374 - val_age_loss: 2.1672 - val_gender_acc: 0.7661 - val_age_acc: 0.3649\n"
     ]
    },
    {
     "name": "stderr",
     "output_type": "stream",
     "text": [
      "  0%|          | 1/612 [00:00<01:01,  9.90it/s]"
     ]
    },
    {
     "name": "stdout",
     "output_type": "stream",
     "text": [
      "0.8985507246376812\n",
      "8.107233387192506\n",
      "TRAIN: 612 TEST: 151\n"
     ]
    },
    {
     "name": "stderr",
     "output_type": "stream",
     "text": [
      "100%|██████████| 612/612 [00:45<00:00, 10.71it/s]\n",
      "100%|██████████| 151/151 [00:03<00:00, 42.20it/s]\n"
     ]
    },
    {
     "name": "stdout",
     "output_type": "stream",
     "text": [
      "Train size: 115469\n",
      "Valid size: 23896\n",
      "Train on 115469 samples, validate on 23896 samples\n",
      "Epoch 1/3\n",
      "115469/115469 [==============================] - 59s 508us/step - loss: 1.0080 - gender_loss: 0.5097 - age_loss: 1.5063 - gender_acc: 0.7471 - age_acc: 0.4414 - val_loss: 1.1397 - val_gender_loss: 0.5371 - val_age_loss: 1.7423 - val_gender_acc: 0.7284 - val_age_acc: 0.3429\n",
      "Epoch 2/3\n",
      "115469/115469 [==============================] - 56s 487us/step - loss: 0.6789 - gender_loss: 0.3521 - age_loss: 1.0056 - gender_acc: 0.8390 - age_acc: 0.6255 - val_loss: 1.2248 - val_gender_loss: 0.4849 - val_age_loss: 1.9646 - val_gender_acc: 0.7708 - val_age_acc: 0.3766\n",
      "Epoch 3/3\n",
      "115469/115469 [==============================] - 56s 486us/step - loss: 0.5014 - gender_loss: 0.2742 - age_loss: 0.7287 - gender_acc: 0.8790 - age_acc: 0.7340 - val_loss: 1.3723 - val_gender_loss: 0.4902 - val_age_loss: 2.2544 - val_gender_acc: 0.7776 - val_age_acc: 0.3791\n",
      "0.8971428571428571\n",
      "8.064706804542517\n"
     ]
    }
   ],
   "source": [
    "from tqdm import tqdm\n",
    "from sklearn.metrics import accuracy_score\n",
    "from sklearn.model_selection import train_test_split\n",
    "from keras import backend as K\n",
    "from sklearn.preprocessing import StandardScaler\n",
    "import gc\n",
    "\n",
    "ls_acc = []\n",
    "ls_mae_2 = []\n",
    "\n",
    "length = 100\n",
    "overlap = 50\n",
    "\n",
    "datasets = label.columns[4:]\n",
    "file_name=['AutomaticExtractionData_IMUZCenter','ManualExtractionData/IMUZCenter','ManualExtractionData/IMUZRight',\n",
    "          'ManualExtractionData/IMUZLeft','ManualExtractionData/Android']\n",
    "action_name=['_Walk_1','_Walk_2','_SlopeDown','_SlopeUp']\n",
    "sensor_loc = [\"CenterSensor\", \"RightSensor\", \"LeftSensor\"]\n",
    "skf = StratifiedKFold(n_splits = 5)\n",
    "s = 0\n",
    "\n",
    "for train_index, test_index in skf.split(ids, gender):\n",
    "    print(\"TRAIN:\", len(train_index), \"TEST:\", len(test_index))\n",
    "    ids_train, ids_valid = ids[train_index], ids[test_index]\n",
    "    gender_train, gender_valid = gender[train_index], gender[test_index]\n",
    "    age_dummy = to_categorical(age)\n",
    "    age_train, age_valid = age_dummy[train_index], age_dummy[test_index]\n",
    "    _, act_age_valid = act_age[train_index], act_age[test_index]\n",
    "    \n",
    "    \n",
    "    \n",
    "    x_train = []\n",
    "    new_y_train = []\n",
    "    new_gender_train = []\n",
    "    new_age_train = []\n",
    "    for i in tqdm(range(0,len(ids_train))):\n",
    "        subject_id = change_ID_number(str(ids_train[i]))\n",
    "        for k in range(0,len(file_name) - 1):\n",
    "            for l in range(0,len(action_name)):\n",
    "                try:\n",
    "                    df_subject = generate_read_table(file_name[k], action_name[l],subject_id,label)\n",
    "                    sc = StandardScaler()\n",
    "                    df_subject = pd.DataFrame(sc.fit_transform(df_subject))\n",
    "                    start_index = 0\n",
    "                    if(start_index + length < len(df_subject)):\n",
    "                        while(start_index + length < len(df_subject)):\n",
    "                            temp_x = df_subject.values[start_index:start_index + length]\n",
    "                            x_train.append(temp_x)\n",
    "                            new_gender_train.append(gender_train[i])\n",
    "                            new_age_train.append(age_train[i])\n",
    "                            start_index += (length - overlap)\n",
    "                    else:\n",
    "                        df_subject = generate_read_table(path_name,file_name[k], action_name[l],subject_id,label)\n",
    "                        sc = StandardScaler()\n",
    "                        df_subject = pd.DataFrame(sc.fit_transform(df_subject))\n",
    "                        temp_x = yipeng_preprocessing(df_subject.values, length)\n",
    "                        x_train.append(temp_x)\n",
    "                        new_gender_train.append(gender_train[i])\n",
    "                        new_age_train.append(age_train[i])\n",
    "                except: \n",
    "                    continue\n",
    "                \n",
    "        for k in range(0,3):\n",
    "            try:\n",
    "                df_subject = generate_read_table('SimilarAction',sensor_loc[k],subject_id,label)\n",
    "                del df_subject[\"Label\"]\n",
    "                sc = StandardScaler()\n",
    "                df_subject = pd.DataFrame(sc.fit_transform(df_subject))\n",
    "                start_index = 0\n",
    "                while(start_index + length < len(df_subject)):\n",
    "                    temp_x = df_subject.values[start_index :start_index  + length]\n",
    "                    x_train.append(temp_x)\n",
    "                    new_gender_train.append(gender_train[i])\n",
    "                    new_age_train.append(age_train[i])\n",
    "                    start_index += (length - overlap)\n",
    "            except: \n",
    "                continue\n",
    "            \n",
    "    x_valid = []\n",
    "    new_gender_valid = []\n",
    "    new_age_valid = []\n",
    "    new_act_age_valid = []\n",
    "    gender_valid_for_eval = []\n",
    "    ls_count = []\n",
    "    \n",
    "    for i in tqdm(range(0,len(ids_valid))):\n",
    "        subject_id = change_ID_number(str(ids_valid[i]))\n",
    "        for k in range(0,3):\n",
    "            try:\n",
    "                df_subject = generate_read_table('SimilarAction',sensor_loc[k],subject_id,label)\n",
    "                del df_subject[\"Label\"]\n",
    "                sc = StandardScaler()\n",
    "                df_subject = pd.DataFrame(sc.fit_transform(df_subject))\n",
    "                start_index = 0\n",
    "                c = 0\n",
    "                while(start_index + length < len(df_subject)):\n",
    "                    temp_x = df_subject.values[start_index:start_index + length]\n",
    "                    x_valid.append(temp_x)\n",
    "                    start_index += (length - overlap)\n",
    "                    c += 1\n",
    "                    new_gender_valid.append(gender_valid[i])\n",
    "                    \n",
    "                    new_age_valid.append(age_valid[i])\n",
    "                ls_count.append(c)\n",
    "                gender_valid_for_eval.append(gender_valid[i])\n",
    "                new_act_age_valid.append(act_age_valid[i])\n",
    "            except:\n",
    "                continue\n",
    "           \n",
    "            \n",
    "    print(\"Train size: \" + str(len(x_train)))\n",
    "    print(\"Valid size: \" + str(len(x_valid)))\n",
    "    x_train = np.array(x_train)\n",
    "    x_valid = np.array(x_valid)\n",
    "    gender_train = np.array(new_gender_train)\n",
    "    gender_valid = np.array(new_gender_valid)\n",
    "    gender_valid_for_eval = np.array(gender_valid_for_eval)\n",
    "    age_train = np.array(new_age_train)\n",
    "    age_valid = np.array(new_age_valid)\n",
    "    act_age_valid = np.array(new_act_age_valid)\n",
    "        \n",
    "    \n",
    "    del new_gender_train, new_gender_valid, new_age_train, new_age_valid, new_act_age_valid\n",
    "    gc.collect()\n",
    "    \n",
    "    model = get_model(x_train.shape[1])\n",
    "    result = model.fit([x_train[:,:,:3],x_train[:,:,3:]], [gender_train, age_train,],\n",
    "                       validation_data = ([x_valid[:,:,:3],x_valid[:,:,3:]],[gender_valid, age_valid])\n",
    "                       ,epochs= 5, batch_size = 256)\n",
    "    y_pred = model.predict([x_valid[:,:,:3],x_valid[:,:,3:]])\n",
    "    \n",
    "    gender_pred = []\n",
    "    age_pred = []\n",
    "    c = 0\n",
    "    for i in range(len(ls_count)):\n",
    "        gender_pred.append(y_pred[0][c:c + ls_count[i]].mean())\n",
    "        c += ls_count[i]\n",
    "    gender_pred = np.array(gender_pred)\n",
    "    \n",
    "    gender_pred[gender_pred < 0.5] = 0\n",
    "    gender_pred[gender_pred >= 0.5] = 1\n",
    "    print(accuracy_score(gender_pred,gender_valid_for_eval))\n",
    "    ls_acc.append(accuracy_score(gender_pred,gender_valid_for_eval))\n",
    "    \n",
    "    age_pred = []\n",
    "    c = 0\n",
    "    for i in range(len(ls_count)):\n",
    "            max_pred = np.max(y_pred[1][c:c + ls_count[i]],axis = 1)\n",
    "            dict_pred_age = {}\n",
    "            for j in range(0,len(max_pred)):\n",
    "                dict_pred_age[max_pred[j]] = j\n",
    "            max_pred = np.array(sorted(max_pred,reverse=True))\n",
    "            max_pred = max_pred[max_pred > 0.50]\n",
    "\n",
    "            age_high_conf = []\n",
    "            for j in range(0,len(max_pred)):\n",
    "                age_high_conf.append(dict_pred_age[max_pred[j]])\n",
    "            age_high_conf = np.array(age_high_conf)\n",
    "            temp = y_pred[1][c:c + ls_count[i]]\n",
    "            mean_age = np.mean(np.sum(np.array(temp[age_high_conf])\n",
    "                                                  * (np.array(list(range(0,8))) * 10.0 + 5.0), axis = 1))\n",
    "            age_pred.append(mean_age)\n",
    "            c += ls_count[i]\n",
    "    age_pred = np.array(age_pred)\n",
    "    print(np.mean(abs(act_age_valid - age_pred)))\n",
    "    ls_mae_2.append(np.mean(abs(act_age_valid - age_pred)))\n",
    "    \n",
    "    #model.save(\"1dConvBLSTM_fold\"+ str(s) + \".h5\")   \n",
    "    s += 1\n",
    "    \n",
    "    K.clear_session()"
   ]
  },
  {
   "cell_type": "code",
   "execution_count": 0,
   "metadata": {
    "_uuid": "d44bae6d8a9a6da73d46946dc13fc08f6c98a559",
    "colab": {
     "base_uri": "https://localhost:8080/",
     "height": 161
    },
    "colab_type": "code",
    "collapsed": false,
    "id": "EGg4XridX13q",
    "outputId": "dd5725e7-c6c6-4153-b974-e919b6618d64"
   },
   "outputs": [
    {
     "name": "stdout",
     "output_type": "stream",
     "text": [
      "27489\n",
      "23118\n",
      "18310\n",
      "18257\n",
      "16417\n",
      "6442\n",
      "3204\n",
      "2232\n"
     ]
    }
   ],
   "source": [
    "temp = np.argmax(age_train,axis = 1)\n",
    "for i in range(0,8):\n",
    "    print(len(temp[temp == i]))"
   ]
  },
  {
   "cell_type": "code",
   "execution_count": 0,
   "metadata": {
    "colab": {},
    "colab_type": "code",
    "collapsed": true,
    "id": "CUPic42bd5bk"
   },
   "outputs": [],
   "source": [
    "#model = get_model(x_train.shape[1])\n",
    "#model.load_weights(\"./1dConvBLSTM_fold0.h5\")\n",
    "#y_pred = model.predict([x_valid[:,:,:3],x_valid[:,:,3:]])"
   ]
  },
  {
   "cell_type": "code",
   "execution_count": 0,
   "metadata": {
    "_uuid": "0f2aeb95895bb42ee7f8212a6851089e93adff57",
    "colab": {
     "base_uri": "https://localhost:8080/",
     "height": 244
    },
    "colab_type": "code",
    "collapsed": false,
    "id": "J3OEAgyvX13u",
    "outputId": "8fd790e0-d048-45d3-da05-2ef14720d38c"
   },
   "outputs": [
    {
     "ename": "NameError",
     "evalue": "ignored",
     "output_type": "error",
     "traceback": [
      "\u001b[0;31m---------------------------------------------------------------------------\u001b[0m",
      "\u001b[0;31mNameError\u001b[0m                                 Traceback (most recent call last)",
      "\u001b[0;32m<ipython-input-100-362233579ff4>\u001b[0m in \u001b[0;36m<module>\u001b[0;34m()\u001b[0m\n\u001b[1;32m      1\u001b[0m \u001b[0;32mfor\u001b[0m \u001b[0mi\u001b[0m \u001b[0;32min\u001b[0m \u001b[0mrange\u001b[0m\u001b[0;34m(\u001b[0m\u001b[0;36m0\u001b[0m\u001b[0;34m,\u001b[0m\u001b[0;36m8\u001b[0m\u001b[0;34m)\u001b[0m\u001b[0;34m:\u001b[0m\u001b[0;34m\u001b[0m\u001b[0;34m\u001b[0m\u001b[0m\n\u001b[0;32m----> 2\u001b[0;31m     print(np.mean(act_age_test[(act_age_test > i * 10) & (act_age_test < (i + 1) * 10)]\n\u001b[0m\u001b[1;32m      3\u001b[0m           - age_pred[(act_age_test > i * 10) & (act_age_test < (i + 1) * 10)]))\n\u001b[1;32m      4\u001b[0m     print(act_age_test[(act_age_test > i * 10) & (act_age_test < (i + 1) * 10)]\n\u001b[1;32m      5\u001b[0m           - age_pred[(act_age_test > i * 10) & (act_age_test < (i + 1) * 10)])\n",
      "\u001b[0;31mNameError\u001b[0m: name 'act_age_test' is not defined"
     ]
    }
   ],
   "source": [
    "for i in range(0,8):\n",
    "    print(np.mean(act_age_test[(act_age_test > i * 10) & (act_age_test < (i + 1) * 10)]\n",
    "          - age_pred[(act_age_test > i * 10) & (act_age_test < (i + 1) * 10)]))\n",
    "    print(act_age_test[(act_age_test > i * 10) & (act_age_test < (i + 1) * 10)]\n",
    "          - age_pred[(act_age_test > i * 10) & (act_age_test < (i + 1) * 10)])"
   ]
  },
  {
   "cell_type": "code",
   "execution_count": 0,
   "metadata": {
    "_uuid": "f95ff2bcdcfce1b4b01cb4dd32916586d3e88723",
    "colab": {
     "base_uri": "https://localhost:8080/",
     "height": 35
    },
    "colab_type": "code",
    "collapsed": false,
    "id": "8U_cvqd_X13z",
    "outputId": "44ba62a5-c5ec-4c83-a0ce-5e9e14d06420"
   },
   "outputs": [
    {
     "name": "stdout",
     "output_type": "stream",
     "text": [
      "8.064706804542517\n"
     ]
    }
   ],
   "source": [
    "age_pred = []\n",
    "c = 0\n",
    "for i in range(len(ls_count)):\n",
    "    max_pred = np.max(y_pred[1][c:c + ls_count[i]],axis = 1)\n",
    "    dict_pred_age = {}\n",
    "    for j in range(0,len(max_pred)):\n",
    "        dict_pred_age[max_pred[j]] = j\n",
    "    max_pred = np.array(sorted(max_pred,reverse=True))\n",
    "    max_pred = max_pred[max_pred > 0.50]\n",
    "    \n",
    "    age_high_conf = []\n",
    "    for j in range(0,len(max_pred)):\n",
    "        age_high_conf.append(dict_pred_age[max_pred[j]])\n",
    "    age_high_conf = np.array(age_high_conf)\n",
    "    temp = y_pred[1][c:c + ls_count[i]]\n",
    "    mean_age = np.mean(np.sum(np.array(temp[age_high_conf])\n",
    "                                          * (np.array(list(range(0,8))) * 10.0 + 5.0), axis = 1))\n",
    "    age_pred.append(mean_age)\n",
    "    c += ls_count[i]\n",
    "age_pred = np.array(age_pred)\n",
    "print(np.mean(abs(act_age_valid - age_pred)))"
   ]
  },
  {
   "cell_type": "code",
   "execution_count": 0,
   "metadata": {
    "_uuid": "a7f1ada278e1957b56175894b5404f8cf58e98c3",
    "colab": {
     "base_uri": "https://localhost:8080/",
     "height": 347
    },
    "colab_type": "code",
    "collapsed": false,
    "id": "mVTeE33HX137",
    "outputId": "0008a320-c8ce-4c6b-b6b8-e1396ffe44dd"
   },
   "outputs": [
    {
     "data": {
      "image/png": "[encoded data removed]",
      "text/plain": [
       "<Figure size 576x396 with 1 Axes>"
      ]
     },
     "metadata": {
      "tags": []
     },
     "output_type": "display_data"
    }
   ],
   "source": [
    "import matplotlib.pyplot as plt\n",
    "plt.boxplot(ls_acc)\n",
    "plt.savefig(\"result_gender\")"
   ]
  },
  {
   "cell_type": "code",
   "execution_count": 0,
   "metadata": {
    "_uuid": "161d9f508fc96063a0e8f8c5a02a2eb16321d727",
    "colab": {
     "base_uri": "https://localhost:8080/",
     "height": 347
    },
    "colab_type": "code",
    "collapsed": false,
    "id": "nWnnYfIWX14E",
    "outputId": "925731d8-02f1-425b-81a2-969a19ca22c2"
   },
   "outputs": [
    {
     "data": {
      "image/png": "[encoded data removed]",
      "text/plain": [
       "<Figure size 576x396 with 1 Axes>"
      ]
     },
     "metadata": {
      "tags": []
     },
     "output_type": "display_data"
    }
   ],
   "source": [
    "plt.boxplot(ls_mae_2)\n",
    "plt.savefig(\"result_age_2\")"
   ]
  },
  {
   "cell_type": "code",
   "execution_count": 0,
   "metadata": {
    "_uuid": "1f0d248660d4c75ef736d2eb3b9734b9dc10caf0",
    "colab": {
     "base_uri": "https://localhost:8080/",
     "height": 395
    },
    "colab_type": "code",
    "collapsed": false,
    "id": "vrbB0QBWX14G",
    "outputId": "9280540c-86ef-451e-d687-7d73d538da84"
   },
   "outputs": [
    {
     "data": {
      "text/plain": [
       "['.config',\n",
       " 'result_age.png',\n",
       " 'AutomaticExtractionData_IMUZCenter',\n",
       " 'result_age_2.png',\n",
       " 'OU-IneritialGaitData.zip',\n",
       " 'LeftSensor',\n",
       " 'ManualExtractionData',\n",
       " 'Protocols',\n",
       " 'RightSensor',\n",
       " 'result_gender.png',\n",
       " 'IDGenderAgelist_ig.csv',\n",
       " '1dConvBLSTM_fold4.h5',\n",
       " 'CenterSensor',\n",
       " 'PaperProtocol',\n",
       " '1dConvBLSTM_fold3.h5',\n",
       " '1dConvBLSTM_fold1.h5',\n",
       " '1dConvBLSTM_fold2.h5',\n",
       " 'OU-IneritialGaitActionDataset.zip',\n",
       " 'adc.json',\n",
       " '1dConvBLSTM_fold0.h5',\n",
       " 'sample_data']"
      ]
     },
     "execution_count": 46,
     "metadata": {
      "tags": []
     },
     "output_type": "execute_result"
    }
   ],
   "source": [
    "os.listdir()"
   ]
  },
  {
   "cell_type": "code",
   "execution_count": 0,
   "metadata": {
    "colab": {},
    "colab_type": "code",
    "collapsed": true,
    "id": "fHwT-VppdrqV"
   },
   "outputs": [],
   "source": [
    "s = 4\n",
    "upload_file_2 = drive.CreateFile()\n",
    "upload_file_2.SetContentFile(\"1dConvBLSTM_fold\" + str(s) + \".h5\")\n",
    "upload_file_2.Upload()"
   ]
  },
  {
   "cell_type": "code",
   "execution_count": 0,
   "metadata": {
    "colab": {},
    "colab_type": "code",
    "collapsed": true,
    "id": "LBr3BkWFw2v5"
   },
   "outputs": [],
   "source": [
    "!pip install -U -q PyDrive\n",
    "\n",
    "from pydrive.auth import GoogleAuth\n",
    "from pydrive.drive import GoogleDrive\n",
    "from google.colab import auth\n",
    "from oauth2client.client import GoogleCredentials\n",
    "\n",
    "auth.authenticate_user()\n",
    "gauth = GoogleAuth()\n",
    "gauth.credentials = GoogleCredentials.get_application_default()\n",
    "drive = GoogleDrive(gauth)"
   ]
  },
  {
   "cell_type": "code",
   "execution_count": 0,
   "metadata": {
    "colab": {
     "base_uri": "https://localhost:8080/",
     "height": 467
    },
    "colab_type": "code",
    "collapsed": false,
    "id": "AVeYxsCsw6Sa",
    "outputId": "f1bf0c8c-d674-4a0a-91f2-ee8ad64be4d2"
   },
   "outputs": [
    {
     "name": "stderr",
     "output_type": "stream",
     "text": [
      "  5%|▍         | 7/153 [00:00<00:02, 60.04it/s]"
     ]
    },
    {
     "name": "stdout",
     "output_type": "stream",
     "text": [
      "TRAIN: 610 TEST: 153\n"
     ]
    },
    {
     "name": "stderr",
     "output_type": "stream",
     "text": [
      "100%|██████████| 153/153 [00:03<00:00, 49.06it/s]\n"
     ]
    },
    {
     "name": "stdout",
     "output_type": "stream",
     "text": [
      "Valid size: 20079\n"
     ]
    },
    {
     "name": "stderr",
     "output_type": "stream",
     "text": [
      "  3%|▎         | 4/153 [00:00<00:04, 34.27it/s]"
     ]
    },
    {
     "name": "stdout",
     "output_type": "stream",
     "text": [
      "0.7820069204152249\n",
      "6.807764617025049\n",
      "TRAIN: 610 TEST: 153\n"
     ]
    },
    {
     "name": "stderr",
     "output_type": "stream",
     "text": [
      "100%|██████████| 153/153 [00:02<00:00, 73.13it/s]\n"
     ]
    },
    {
     "name": "stdout",
     "output_type": "stream",
     "text": [
      "Valid size: 10422\n"
     ]
    },
    {
     "name": "stderr",
     "output_type": "stream",
     "text": [
      "  7%|▋         | 10/153 [00:00<00:01, 98.97it/s]"
     ]
    },
    {
     "name": "stdout",
     "output_type": "stream",
     "text": [
      "0.8866666666666667\n",
      "6.056148584772782\n",
      "TRAIN: 610 TEST: 153\n"
     ]
    },
    {
     "name": "stderr",
     "output_type": "stream",
     "text": [
      "100%|██████████| 153/153 [00:03<00:00, 48.21it/s]\n"
     ]
    },
    {
     "name": "stdout",
     "output_type": "stream",
     "text": [
      "Valid size: 20565\n"
     ]
    },
    {
     "name": "stderr",
     "output_type": "stream",
     "text": [
      "  3%|▎         | 4/153 [00:00<00:04, 35.65it/s]"
     ]
    },
    {
     "name": "stdout",
     "output_type": "stream",
     "text": [
      "0.8556338028169014\n",
      "8.339713660781813\n",
      "TRAIN: 610 TEST: 153\n"
     ]
    },
    {
     "name": "stderr",
     "output_type": "stream",
     "text": [
      "100%|██████████| 153/153 [00:04<00:00, 38.02it/s]\n"
     ]
    },
    {
     "name": "stdout",
     "output_type": "stream",
     "text": [
      "Valid size: 27312\n"
     ]
    },
    {
     "name": "stderr",
     "output_type": "stream",
     "text": [
      "  3%|▎         | 4/151 [00:00<00:04, 36.27it/s]"
     ]
    },
    {
     "name": "stdout",
     "output_type": "stream",
     "text": [
      "0.8285024154589372\n",
      "7.843550683186631\n",
      "TRAIN: 612 TEST: 151\n"
     ]
    },
    {
     "name": "stderr",
     "output_type": "stream",
     "text": [
      "100%|██████████| 151/151 [00:03<00:00, 48.23it/s]\n"
     ]
    },
    {
     "name": "stdout",
     "output_type": "stream",
     "text": [
      "Valid size: 23896\n",
      "0.9\n",
      "7.3700760828446175\n"
     ]
    }
   ],
   "source": [
    "from tqdm import tqdm\n",
    "from sklearn.metrics import accuracy_score\n",
    "from sklearn.model_selection import train_test_split\n",
    "from keras import backend as K\n",
    "from sklearn.preprocessing import StandardScaler\n",
    "import gc\n",
    "\n",
    "ls_acc = []\n",
    "ls_mae_2 = []\n",
    "\n",
    "length = 100\n",
    "overlap = 50\n",
    "\n",
    "datasets = label.columns[4:]\n",
    "file_name=['AutomaticExtractionData_IMUZCenter','ManualExtractionData/IMUZCenter','ManualExtractionData/IMUZRight',\n",
    "          'ManualExtractionData/IMUZLeft','ManualExtractionData/Android']\n",
    "action_name=['_Walk_1','_Walk_2','_SlopeDown','_SlopeUp']\n",
    "sensor_loc = [\"CenterSensor\", \"RightSensor\", \"LeftSensor\"]\n",
    "skf = StratifiedKFold(n_splits = 5)\n",
    "s = 0\n",
    "\n",
    "for train_index, test_index in skf.split(ids, gender):\n",
    "    print(\"TRAIN:\", len(train_index), \"TEST:\", len(test_index))\n",
    "    _, ids_valid = ids[train_index], ids[test_index]\n",
    "    _, gender_valid = gender[train_index], gender[test_index]\n",
    "    age_dummy = to_categorical(age)\n",
    "    _, age_valid = age_dummy[train_index], age_dummy[test_index]\n",
    "    _, act_age_valid = act_age[train_index], act_age[test_index]\n",
    "    \n",
    "            \n",
    "    x_valid = []\n",
    "    new_gender_valid = []\n",
    "    new_age_valid = []\n",
    "    new_act_age_valid = []\n",
    "    gender_valid_for_eval = []\n",
    "    ls_count = []\n",
    "    \n",
    "    for i in tqdm(range(0,len(ids_valid))):\n",
    "        subject_id = change_ID_number(str(ids_valid[i]))\n",
    "        for k in range(0,3):\n",
    "            try:\n",
    "                df_subject = generate_read_table('SimilarAction',sensor_loc[k],subject_id,label)\n",
    "                del df_subject[\"Label\"]\n",
    "                sc = StandardScaler()\n",
    "                df_subject = pd.DataFrame(sc.fit_transform(df_subject))\n",
    "                start_index = 0\n",
    "                c = 0\n",
    "                while(start_index + length < len(df_subject)):\n",
    "                    temp_x = df_subject.values[start_index:start_index + length]\n",
    "                    x_valid.append(temp_x)\n",
    "                    start_index += (length - overlap)\n",
    "                    c += 1\n",
    "                    new_gender_valid.append(gender_valid[i])\n",
    "                    \n",
    "                    new_age_valid.append(age_valid[i])\n",
    "                ls_count.append(c)\n",
    "                gender_valid_for_eval.append(gender_valid[i])\n",
    "                new_act_age_valid.append(act_age_valid[i])\n",
    "            except:\n",
    "                continue\n",
    "           \n",
    "            \n",
    "    print(\"Valid size: \" + str(len(x_valid)))\n",
    "    x_valid = np.array(x_valid)\n",
    "    gender_valid = np.array(new_gender_valid)\n",
    "    gender_valid_for_eval = np.array(gender_valid_for_eval)\n",
    "    age_valid = np.array(new_age_valid)\n",
    "    act_age_valid = np.array(new_act_age_valid)\n",
    "        \n",
    "        \n",
    "    model = get_model(x_valid.shape[1])\n",
    "    model.load_weights(\"./1dConvBLSTM_fold\" + str(s) + \".h5\")\n",
    "    y_pred = model.predict([x_valid[:,:,:3],x_valid[:,:,3:]])\n",
    "    \n",
    "    gender_pred = []\n",
    "    age_pred = []\n",
    "    c = 0\n",
    "    for i in range(len(ls_count)):\n",
    "        gender_pred.append(y_pred[0][c:c + ls_count[i]].mean())\n",
    "        c += ls_count[i]\n",
    "    gender_pred = np.array(gender_pred)\n",
    "    \n",
    "    gender_pred[gender_pred < 0.5] = 0\n",
    "    gender_pred[gender_pred >= 0.5] = 1\n",
    "    print(accuracy_score(gender_pred,gender_valid_for_eval))\n",
    "    ls_acc.append(accuracy_score(gender_pred,gender_valid_for_eval))\n",
    "    \n",
    "    age_pred = []\n",
    "    c = 0\n",
    "    for i in range(len(ls_count)):\n",
    "            max_pred = np.max(y_pred[1][c:c + ls_count[i]],axis = 1)\n",
    "            dict_pred_age = {}\n",
    "            for j in range(0,len(max_pred)):\n",
    "                dict_pred_age[max_pred[j]] = j\n",
    "            max_pred = np.array(sorted(max_pred,reverse=True))\n",
    "            max_pred = max_pred[max_pred > 0.50]\n",
    "\n",
    "            age_high_conf = []\n",
    "            for j in range(0,len(max_pred)):\n",
    "                age_high_conf.append(dict_pred_age[max_pred[j]])\n",
    "            age_high_conf = np.array(age_high_conf)\n",
    "            temp = y_pred[1][c:c + ls_count[i]]\n",
    "            mean_age = np.mean(np.sum(np.array(temp[age_high_conf])\n",
    "                                                  * (np.array(list(range(0,8))) * 10.0 + 5.0), axis = 1))\n",
    "            age_pred.append(mean_age)\n",
    "            c += ls_count[i]\n",
    "    age_pred = np.array(age_pred)\n",
    "    print(np.mean(abs(act_age_valid - age_pred)))\n",
    "    ls_mae_2.append(np.mean(abs(act_age_valid - age_pred)))\n",
    "    \n",
    "    s += 1\n",
    "    \n",
    "    K.clear_session()"
   ]
  },
  {
   "cell_type": "code",
   "execution_count": 0,
   "metadata": {
    "colab": {},
    "colab_type": "code",
    "collapsed": true,
    "id": "jRdpt_fJPRqm"
   },
   "outputs": [],
   "source": [
    "from google.colab import files\n",
    "files.download('Distribution.png')"
   ]
  },
  {
   "cell_type": "code",
   "execution_count": 0,
   "metadata": {
    "colab": {},
    "colab_type": "code",
    "collapsed": true,
    "id": "ngBacyil56YE"
   },
   "outputs": [],
   "source": []
  }
 ],
 "metadata": {
  "accelerator": "GPU",
  "anaconda-cloud": {},
  "colab": {
   "name": "Test_time_Multi-input&task_1DConv_LSTM.ipynb",
   "provenance": [],
   "version": "0.3.2"
  },
  "kernelspec": {
   "display_name": "Python [default]",
   "language": "python",
   "name": "python3"
  },
  "language_info": {
   "codemirror_mode": {
    "name": "ipython",
    "version": 3
   },
   "file_extension": ".py",
   "mimetype": "text/x-python",
   "name": "python",
   "nbconvert_exporter": "python",
   "pygments_lexer": "ipython3",
   "version": "3.5.2"
  }
 },
 "nbformat": 4,
 "nbformat_minor": 0
}
