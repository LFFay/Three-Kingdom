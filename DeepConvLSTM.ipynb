{
 "cells": [
  {
   "cell_type": "code",
   "execution_count": 0,
   "metadata": {
    "colab": {},
    "colab_type": "code",
    "collapsed": true,
    "id": "2iPBmiAen2Ot"
   },
   "outputs": [],
   "source": [
    "import os\n",
    "import pandas as pd\n",
    "import numpy as np\n",
    "import matplotlib.pyplot as plt\n",
    "from sklearn.model_selection import StratifiedKFold, KFold"
   ]
  },
  {
   "cell_type": "code",
   "execution_count": 0,
   "metadata": {
    "colab": {},
    "colab_type": "code",
    "collapsed": true,
    "id": "DKT7dWOzM2sJ"
   },
   "outputs": [],
   "source": [
    "def file_name(file_dir): \n",
    "    dic={}\n",
    "    for root, dirs, files in os.walk(file_dir):\n",
    "        dic[root]=files\n",
    "#         print(root) #path\n",
    "#         print(dirs) #subdirectory\n",
    "#         print(files) #files in non-subdirectory\n",
    "    return dic"
   ]
  },
  {
   "cell_type": "code",
   "execution_count": 0,
   "metadata": {
    "colab": {},
    "colab_type": "code",
    "collapsed": true,
    "id": "mmVr1f4xM5Q6"
   },
   "outputs": [],
   "source": [
    "AutomaticExtractionData=file_name('AutomaticExtractionData_IMUZCenter')\n",
    "ManualExtractionData=file_name('ManualExtractionData')\n",
    "ManualExtractionData_name=list(ManualExtractionData.keys())[1:]\n",
    "label=pd.read_csv('IDGenderAgelist_ig.csv',dtype='object')"
   ]
  },
  {
   "cell_type": "code",
   "execution_count": 0,
   "metadata": {
    "colab": {},
    "colab_type": "code",
    "collapsed": true,
    "id": "wkWlCYUDMsgS"
   },
   "outputs": [],
   "source": [
    "def change_ID_number(x):\n",
    "    if len(x)==3:\n",
    "        return ('000' + x)\n",
    "    elif len(x)==4:\n",
    "        return ('00' + x)\n",
    "    elif len(x)==5:\n",
    "        return ('0' + x)\n",
    "    else:\n",
    "        return x\n",
    "      \n",
    "label['adjusted_ID']=label['ID'].apply(lambda x: change_ID_number(x))\n",
    "def file_name_with_ID(x,post,ls):\n",
    "    for i in range(len(list(ls))):\n",
    "        if (x == ls[i][5:11] and ls[i][12:]== post):\n",
    "            return(ls[i])"
   ]
  },
  {
   "cell_type": "code",
   "execution_count": 0,
   "metadata": {
    "colab": {},
    "colab_type": "code",
    "collapsed": true,
    "id": "UGnCR27lLVnI"
   },
   "outputs": [],
   "source": [
    "label['AutomaticExtractionData_IMUZCenter_Walk_1']=label['adjusted_ID'].apply(lambda x: \n",
    "                                file_name_with_ID(x,'Center_seq0.csv',list(AutomaticExtractionData.values())[0]))\n",
    "label['AutomaticExtractionData_IMUZCenter_Walk_2']=label['adjusted_ID'].apply(lambda x: \n",
    "                                file_name_with_ID(x,'Center_seq1.csv',list(AutomaticExtractionData.values())[0]))\n",
    "label['ManualExtractionData/IMUZCenter_Walk_1']=label['adjusted_ID'].apply(lambda x: \n",
    "                                file_name_with_ID(x,'Walk1.csv',ManualExtractionData[ManualExtractionData_name[0]]))\n",
    "label['ManualExtractionData/IMUZCenter_Walk_2']=label['adjusted_ID'].apply(lambda x: \n",
    "                                file_name_with_ID(x,'Walk2.csv',ManualExtractionData[ManualExtractionData_name[0]]))\n",
    "label['ManualExtractionData/IMUZCenter_SlopeDown']=label['adjusted_ID'].apply(lambda x: \n",
    "                                file_name_with_ID(x,'SlopeDown.csv',ManualExtractionData[ManualExtractionData_name[0]]))\n",
    "label['ManualExtractionData/IMUZCenter_SlopeUp']=label['adjusted_ID'].apply(lambda x: \n",
    "                                file_name_with_ID(x,'SlopeUp.csv',ManualExtractionData[ManualExtractionData_name[0]]))\n",
    "label['ManualExtractionData/IMUZRight_Walk_1']=label['adjusted_ID'].apply(lambda x: \n",
    "                                file_name_with_ID(x,'Walk1.csv',ManualExtractionData[ManualExtractionData_name[1]]))\n",
    "label['ManualExtractionData/IMUZRight_Walk_2']=label['adjusted_ID'].apply(lambda x: \n",
    "                                file_name_with_ID(x,'Walk2.csv',ManualExtractionData[ManualExtractionData_name[1]]))\n",
    "label['ManualExtractionData/IMUZRight_SlopeDown']=label['adjusted_ID'].apply(lambda x: \n",
    "                                file_name_with_ID(x,'SlopeDown.csv',ManualExtractionData[ManualExtractionData_name[1]]))\n",
    "label['ManualExtractionData/IMUZRight_SlopeUp']=label['adjusted_ID'].apply(lambda x: \n",
    "                                file_name_with_ID(x,'SlopeUp.csv',ManualExtractionData[ManualExtractionData_name[1]]))\n",
    "label['ManualExtractionData/IMUZLeft_Walk_1']=label['adjusted_ID'].apply(lambda x: \n",
    "                                file_name_with_ID(x,'Walk1.csv',ManualExtractionData[ManualExtractionData_name[2]]))\n",
    "label['ManualExtractionData/IMUZLeft_Walk_2']=label['adjusted_ID'].apply(lambda x: \n",
    "                                file_name_with_ID(x,'Walk2.csv',ManualExtractionData[ManualExtractionData_name[2]]))\n",
    "label['ManualExtractionData/IMUZLeft_SlopeDown']=label['adjusted_ID'].apply(lambda x: \n",
    "                                file_name_with_ID(x,'SlopeDown.csv',ManualExtractionData[ManualExtractionData_name[2]]))\n",
    "label['ManualExtractionData/IMUZLeft_SlopeUp']=label['adjusted_ID'].apply(lambda x: \n",
    "                                file_name_with_ID(x,'SlopeUp.csv',ManualExtractionData[ManualExtractionData_name[2]]))\n",
    "label['ManualExtractionData/Android_Walk_1']=label['adjusted_ID'].apply(lambda x: \n",
    "                                file_name_with_ID(x,'Walk1.csv',ManualExtractionData[ManualExtractionData_name[3]]))\n",
    "label['ManualExtractionData/Android_Walk_2']=label['adjusted_ID'].apply(lambda x: \n",
    "                                file_name_with_ID(x,'Walk2.csv',ManualExtractionData[ManualExtractionData_name[3]]))\n",
    "label['ManualExtractionData/Android_SlopeDown']=label['adjusted_ID'].apply(lambda x: \n",
    "                                file_name_with_ID(x,'SlopeDown.csv',ManualExtractionData[ManualExtractionData_name[3]]))\n",
    "label['ManualExtractionData/Android_SlopeUp']=label['adjusted_ID'].apply(lambda x: \n",
    "                                file_name_with_ID(x,'SlopeUp.csv',ManualExtractionData[ManualExtractionData_name[3]]))"
   ]
  },
  {
   "cell_type": "code",
   "execution_count": 0,
   "metadata": {
    "colab": {},
    "colab_type": "code",
    "collapsed": true,
    "id": "luXcx9HpPGYb"
   },
   "outputs": [],
   "source": [
    "def get_data(file_name,action_name,ID,label):\n",
    "  \n",
    "  dataset_name= file_name + action_name\n",
    "  if(type(label[label['ID']==ID][dataset_name].values[0]) == str):\n",
    "    path_name= file_name +'/'+label[label['ID']==ID][dataset_name].values[0]\n",
    "    df=pd.read_csv(path_name,skiprows=2)\n",
    "    insert_line=pd.DataFrame(df.columns.values).T\n",
    "    df.columns=insert_line.columns\n",
    "    df=pd.concat([insert_line,df],axis=0)\n",
    "    df.columns=['Gx','Gy','Gz','Ax','Ay','Az']\n",
    "    df = df.astype(float)\n",
    "  else:\n",
    "    return None\n",
    "  \n",
    "  return df\n",
    "df = get_data('AutomaticExtractionData_IMUZCenter','_Walk_1','002318',label)"
   ]
  },
  {
   "cell_type": "code",
   "execution_count": 0,
   "metadata": {
    "colab": {
     "base_uri": "https://localhost:8080/",
     "height": 204
    },
    "colab_type": "code",
    "collapsed": false,
    "id": "jsme1iiZQBKs",
    "outputId": "6d890e0e-b8a0-4a88-db46-a2abe7ddd522"
   },
   "outputs": [
    {
     "data": {
      "text/html": [
       "<div>\n",
       "<style scoped>\n",
       "    .dataframe tbody tr th:only-of-type {\n",
       "        vertical-align: middle;\n",
       "    }\n",
       "\n",
       "    .dataframe tbody tr th {\n",
       "        vertical-align: top;\n",
       "    }\n",
       "\n",
       "    .dataframe thead th {\n",
       "        text-align: right;\n",
       "    }\n",
       "</style>\n",
       "<table border=\"1\" class=\"dataframe\">\n",
       "  <thead>\n",
       "    <tr style=\"text-align: right;\">\n",
       "      <th></th>\n",
       "      <th>Gx</th>\n",
       "      <th>Gy</th>\n",
       "      <th>Gz</th>\n",
       "      <th>Ax</th>\n",
       "      <th>Ay</th>\n",
       "      <th>Az</th>\n",
       "    </tr>\n",
       "  </thead>\n",
       "  <tbody>\n",
       "    <tr>\n",
       "      <th>0</th>\n",
       "      <td>0.236353</td>\n",
       "      <td>-0.627744</td>\n",
       "      <td>0.041949</td>\n",
       "      <td>-0.024</td>\n",
       "      <td>-0.826</td>\n",
       "      <td>0.150</td>\n",
       "    </tr>\n",
       "    <tr>\n",
       "      <th>0</th>\n",
       "      <td>0.177763</td>\n",
       "      <td>-0.622424</td>\n",
       "      <td>-0.053925</td>\n",
       "      <td>0.006</td>\n",
       "      <td>-0.834</td>\n",
       "      <td>0.148</td>\n",
       "    </tr>\n",
       "    <tr>\n",
       "      <th>1</th>\n",
       "      <td>0.044605</td>\n",
       "      <td>-0.638404</td>\n",
       "      <td>-0.181756</td>\n",
       "      <td>0.028</td>\n",
       "      <td>-0.824</td>\n",
       "      <td>0.148</td>\n",
       "    </tr>\n",
       "    <tr>\n",
       "      <th>2</th>\n",
       "      <td>-0.045942</td>\n",
       "      <td>-0.670364</td>\n",
       "      <td>-0.309588</td>\n",
       "      <td>0.040</td>\n",
       "      <td>-0.822</td>\n",
       "      <td>0.084</td>\n",
       "    </tr>\n",
       "    <tr>\n",
       "      <th>3</th>\n",
       "      <td>-0.056595</td>\n",
       "      <td>-0.643724</td>\n",
       "      <td>-0.384157</td>\n",
       "      <td>0.060</td>\n",
       "      <td>-0.844</td>\n",
       "      <td>0.026</td>\n",
       "    </tr>\n",
       "  </tbody>\n",
       "</table>\n",
       "</div>"
      ],
      "text/plain": [
       "         Gx        Gy        Gz     Ax     Ay     Az\n",
       "0  0.236353 -0.627744  0.041949 -0.024 -0.826  0.150\n",
       "0  0.177763 -0.622424 -0.053925  0.006 -0.834  0.148\n",
       "1  0.044605 -0.638404 -0.181756  0.028 -0.824  0.148\n",
       "2 -0.045942 -0.670364 -0.309588  0.040 -0.822  0.084\n",
       "3 -0.056595 -0.643724 -0.384157  0.060 -0.844  0.026"
      ]
     },
     "execution_count": 8,
     "metadata": {
      "tags": []
     },
     "output_type": "execute_result"
    }
   ],
   "source": [
    "df.head()"
   ]
  },
  {
   "cell_type": "code",
   "execution_count": 0,
   "metadata": {
    "colab": {},
    "colab_type": "code",
    "collapsed": true,
    "id": "HWVDm7qmwEm0"
   },
   "outputs": [],
   "source": [
    "import random\n",
    "\n",
    "#The function to segment the data by sliding window.\n",
    "#num_gen defines the number of sequences per onw raw sequences\n",
    "def make_windowed(raw_data, target_class ,window_size, num_gen):\n",
    "\n",
    "    ls_data, ls_target = [], []\n",
    "\n",
    "    for i in range(0,num_gen):\n",
    "      start_index = random.randrange(len(raw_data) - (window_size))\n",
    "      ls_data.append(raw_data[i:i + window_size])\n",
    "      ls_target.append(target_class)\n",
    "\n",
    "    return ls_data, ls_target"
   ]
  },
  {
   "cell_type": "code",
   "execution_count": 0,
   "metadata": {
    "colab": {},
    "colab_type": "code",
    "collapsed": true,
    "id": "-i8cv21toVpz"
   },
   "outputs": [],
   "source": [
    "df = pd.read_csv('IDGenderAgelist_ig.csv')"
   ]
  },
  {
   "cell_type": "code",
   "execution_count": 0,
   "metadata": {
    "colab": {
     "base_uri": "https://localhost:8080/",
     "height": 204
    },
    "colab_type": "code",
    "collapsed": false,
    "id": "6RJXN-IuoWbm",
    "outputId": "3d7b1c41-6435-4624-d520-46c82823ac00"
   },
   "outputs": [
    {
     "data": {
      "text/html": [
       "<div>\n",
       "<style scoped>\n",
       "    .dataframe tbody tr th:only-of-type {\n",
       "        vertical-align: middle;\n",
       "    }\n",
       "\n",
       "    .dataframe tbody tr th {\n",
       "        vertical-align: top;\n",
       "    }\n",
       "\n",
       "    .dataframe thead th {\n",
       "        text-align: right;\n",
       "    }\n",
       "</style>\n",
       "<table border=\"1\" class=\"dataframe\">\n",
       "  <thead>\n",
       "    <tr style=\"text-align: right;\">\n",
       "      <th></th>\n",
       "      <th>ID</th>\n",
       "      <th>Gender(0:Female;1:Male)</th>\n",
       "      <th>Age</th>\n",
       "    </tr>\n",
       "  </thead>\n",
       "  <tbody>\n",
       "    <tr>\n",
       "      <th>0</th>\n",
       "      <td>104</td>\n",
       "      <td>1</td>\n",
       "      <td>33</td>\n",
       "    </tr>\n",
       "    <tr>\n",
       "      <th>1</th>\n",
       "      <td>2318</td>\n",
       "      <td>0</td>\n",
       "      <td>11</td>\n",
       "    </tr>\n",
       "    <tr>\n",
       "      <th>2</th>\n",
       "      <td>2422</td>\n",
       "      <td>1</td>\n",
       "      <td>9</td>\n",
       "    </tr>\n",
       "    <tr>\n",
       "      <th>3</th>\n",
       "      <td>2526</td>\n",
       "      <td>0</td>\n",
       "      <td>45</td>\n",
       "    </tr>\n",
       "    <tr>\n",
       "      <th>4</th>\n",
       "      <td>2630</td>\n",
       "      <td>0</td>\n",
       "      <td>37</td>\n",
       "    </tr>\n",
       "  </tbody>\n",
       "</table>\n",
       "</div>"
      ],
      "text/plain": [
       "     ID  Gender(0:Female;1:Male)  Age\n",
       "0   104                        1   33\n",
       "1  2318                        0   11\n",
       "2  2422                        1    9\n",
       "3  2526                        0   45\n",
       "4  2630                        0   37"
      ]
     },
     "execution_count": 12,
     "metadata": {
      "tags": []
     },
     "output_type": "execute_result"
    }
   ],
   "source": [
    "df.head()"
   ]
  },
  {
   "cell_type": "code",
   "execution_count": 0,
   "metadata": {
    "colab": {},
    "colab_type": "code",
    "collapsed": true,
    "id": "Kesqmc_so04U"
   },
   "outputs": [],
   "source": [
    "ids = df[\"ID\"].values\n",
    "y = df[\"Gender(0:Female;1:Male)\"].values"
   ]
  },
  {
   "cell_type": "code",
   "execution_count": 0,
   "metadata": {
    "colab": {
     "base_uri": "https://localhost:8080/",
     "height": 35
    },
    "colab_type": "code",
    "collapsed": false,
    "id": "e58yPmWSJjoy",
    "outputId": "3da145b6-7e92-48e0-9a18-a42193b1a8af"
   },
   "outputs": [
    {
     "name": "stderr",
     "output_type": "stream",
     "text": [
      "Using TensorFlow backend.\n"
     ]
    }
   ],
   "source": [
    "from keras.models import Sequential, Model\n",
    "from keras.layers import Input, LSTM, Bidirectional, Dropout, Flatten, Dense, TimeDistributed, GlobalMaxPooling1D, Conv2D, Reshape\n",
    "from keras.layers.convolutional import Conv1D, UpSampling1D\n",
    "from keras.layers.pooling import MaxPooling1D\n",
    "\n",
    "#Deep Convoluional LSTM model\n",
    "#The following model uses 2D Convolution and LSTM.\n",
    "\n",
    "\"\"\"\n",
    "def get_model(n_timesteps,n_features):\n",
    "  inputs = Input(shape=(n_timesteps,n_features,1,))\n",
    "  \n",
    "  x = Conv2D(64, (5, 5), activation='relu',padding = \"same\")(inputs)\n",
    "  x = Conv2D(64, (5, 5), activation='relu',padding = \"same\")(x)\n",
    "  x = Conv2D(64, (5, 5), activation='relu',padding = \"same\")(x)\n",
    "  x = Conv2D(64, (5, 5), activation='relu',padding = \"same\")(x)\n",
    "  x = Reshape((n_timesteps, n_features * 64))(x)\n",
    "  x = LSTM(120,return_sequences=True)(x)\n",
    "  x = LSTM(120)(x)\n",
    "  x = Dropout(0.5)(x)\n",
    "  #x = Flatten(x)\n",
    "  #x = Dense(100, activation='relu')(x)\n",
    "  predictions = Dense(1, activation='sigmoid')(x)\n",
    "  \n",
    "  model = Model(inputs=inputs, outputs = predictions)\n",
    "  model.compile(loss='binary_crossentropy', optimizer='adam', metrics=['accuracy'])\n",
    "  \n",
    "  \n",
    "  return model\n",
    "\"\"\"\n",
    "\n",
    "#The following model uses 1D Convolution and Bidirectional LSTM.\n",
    "def get_model(n_timesteps,n_features):\n",
    "  model = Sequential()\n",
    "  model.add(Conv1D(256, 8, padding='same', input_shape=(n_timesteps, n_features), activation='relu'))\n",
    "  model.add(MaxPooling1D(2, padding='same'))\n",
    "  model.add(Conv1D(256, 8, padding='same', activation='relu'))\n",
    "  model.add(MaxPooling1D(2, padding='same'))\n",
    "  model.add(Conv1D(128, 8, padding='same', activation='relu'))\n",
    "  model.add(Conv1D(64, 8, padding='same', activation='tanh'))\n",
    "  model.add(Bidirectional(LSTM(100,return_sequences=True)))\n",
    "  model.add(Bidirectional(LSTM(100)))\n",
    "  model.add(Dropout(0.5))\n",
    "  #model.add(Flatten())\n",
    "  #model.add(Dense(100, activation='relu'))\n",
    "  model.add(Dense(1, activation='sigmoid'))\n",
    "  model.compile(loss='binary_crossentropy', optimizer='adam', metrics=['accuracy'])\n",
    "  return model"
   ]
  },
  {
   "cell_type": "code",
   "execution_count": 0,
   "metadata": {
    "colab": {
     "base_uri": "https://localhost:8080/",
     "height": 1583
    },
    "colab_type": "code",
    "collapsed": false,
    "id": "7yITy6Ujo4Lk",
    "outputId": "0ef78b7b-578b-4f77-eb3b-6d2bf8d6b167"
   },
   "outputs": [
    {
     "name": "stdout",
     "output_type": "stream",
     "text": [
      "TRAIN: 610 TEST: 153\n",
      "No data for subject id 301838\n",
      "No data for subject id 319760\n",
      "No data for subject id 372127\n",
      "No data for subject id 364443\n",
      "No data for subject id 317026\n",
      "No data for subject id 355444\n",
      "No data for subject id 266968\n",
      "No data for subject id 312531\n",
      "No data for subject id 300939\n",
      "No data for subject id 457659\n",
      "No data for subject id 416960\n",
      "No data for subject id 466450\n",
      "No data for subject id 259663\n",
      "No data for subject id 303116\n",
      "No data for subject id 367556\n",
      "No data for subject id 321530\n",
      "No data for subject id 159558\n",
      "No data for subject id 009443\n",
      "No data for subject id 058346\n",
      "No data for subject id 066030\n",
      "No data for subject id 066134\n",
      "No data for subject id 067241\n",
      "Train size: 2670\n",
      "Valid size: 295\n",
      "Test size: 740\n",
      "Train on 2670 samples, validate on 295 samples\n",
      "Epoch 1/8\n",
      "2670/2670 [==============================] - 29s 11ms/step - loss: 0.6942 - acc: 0.5139 - val_loss: 0.6857 - val_acc: 0.5695\n",
      "Epoch 2/8\n",
      "2670/2670 [==============================] - 23s 8ms/step - loss: 0.6881 - acc: 0.5543 - val_loss: 0.6719 - val_acc: 0.5559\n",
      "Epoch 3/8\n",
      "2670/2670 [==============================] - 23s 9ms/step - loss: 0.6399 - acc: 0.6258 - val_loss: 0.8056 - val_acc: 0.6034\n",
      "Epoch 4/8\n",
      "2670/2670 [==============================] - 23s 9ms/step - loss: 0.4674 - acc: 0.7869 - val_loss: 0.6730 - val_acc: 0.6780\n",
      "Epoch 5/8\n",
      "2670/2670 [==============================] - 23s 9ms/step - loss: 0.3178 - acc: 0.8663 - val_loss: 0.6461 - val_acc: 0.6780\n",
      "Epoch 6/8\n",
      "2670/2670 [==============================] - 22s 8ms/step - loss: 0.1643 - acc: 0.9401 - val_loss: 0.8391 - val_acc: 0.6915\n",
      "Epoch 7/8\n",
      "2670/2670 [==============================] - 21s 8ms/step - loss: 0.0404 - acc: 0.9895 - val_loss: 1.2069 - val_acc: 0.6068\n",
      "Epoch 8/8\n",
      "2670/2670 [==============================] - 22s 8ms/step - loss: 0.0216 - acc: 0.9944 - val_loss: 1.4217 - val_acc: 0.6712\n",
      "0.672972972972973\n",
      "TRAIN: 610 TEST: 153\n",
      "No data for subject id 301838\n",
      "No data for subject id 319760\n",
      "No data for subject id 058346\n",
      "No data for subject id 066030\n",
      "No data for subject id 372127\n",
      "No data for subject id 009443\n",
      "No data for subject id 364443\n",
      "No data for subject id 317026\n",
      "No data for subject id 355444\n",
      "No data for subject id 266968\n",
      "No data for subject id 312531\n",
      "No data for subject id 300939\n",
      "No data for subject id 457659\n",
      "No data for subject id 416960\n",
      "No data for subject id 466450\n",
      "No data for subject id 259663\n",
      "No data for subject id 066134\n",
      "No data for subject id 303116\n",
      "No data for subject id 067241\n",
      "No data for subject id 367556\n",
      "No data for subject id 321530\n",
      "No data for subject id 159558\n",
      "Train size: 2645\n",
      "Valid size: 300\n",
      "Test size: 760\n",
      "Train on 2645 samples, validate on 300 samples\n",
      "Epoch 1/8\n",
      "2645/2645 [==============================] - 27s 10ms/step - loss: 0.6946 - acc: 0.5357 - val_loss: 0.7139 - val_acc: 0.4367\n",
      "Epoch 2/8\n",
      "2645/2645 [==============================] - 22s 8ms/step - loss: 0.6399 - acc: 0.6329 - val_loss: 0.6524 - val_acc: 0.6367\n",
      "Epoch 3/8\n",
      "2645/2645 [==============================] - 22s 8ms/step - loss: 0.4620 - acc: 0.7955 - val_loss: 0.7314 - val_acc: 0.6500\n",
      "Epoch 4/8\n",
      "2645/2645 [==============================] - 22s 8ms/step - loss: 0.2296 - acc: 0.9078 - val_loss: 0.8707 - val_acc: 0.7233\n",
      "Epoch 5/8\n",
      "2645/2645 [==============================] - 22s 8ms/step - loss: 0.1208 - acc: 0.9531 - val_loss: 0.9954 - val_acc: 0.7033\n",
      "Epoch 6/8\n",
      "2645/2645 [==============================] - 22s 8ms/step - loss: 0.0884 - acc: 0.9679 - val_loss: 1.7301 - val_acc: 0.6433\n",
      "Epoch 7/8\n",
      "2645/2645 [==============================] - 22s 8ms/step - loss: 0.0265 - acc: 0.9936 - val_loss: 1.3182 - val_acc: 0.6967\n",
      "Epoch 8/8\n",
      "2645/2645 [==============================] - 23s 9ms/step - loss: 0.0023 - acc: 1.0000 - val_loss: 1.4397 - val_acc: 0.7233\n"
     ]
    }
   ],
   "source": [
    "from tqdm import tqdm\n",
    "from sklearn.metrics import accuracy_score\n",
    "from sklearn.model_selection import train_test_split\n",
    "\n",
    "ls_acc = []\n",
    "window_size = 150\n",
    "num_gen = 5\n",
    "\n",
    "skf = StratifiedKFold(n_splits = 5)\n",
    "for train_index, test_index in skf.split(ids, y):\n",
    "  print(\"TRAIN:\", len(train_index), \"TEST:\", len(test_index))\n",
    "  ids_train, ids_test = ids[train_index], ids[test_index]\n",
    "  y_train, y_test = y[train_index], y[test_index]\n",
    "  ids_train, ids_valid, y_train, y_valid = train_test_split(ids_train, y_train, test_size=0.10, random_state=42)\n",
    "      \n",
    "  x_train = []\n",
    "  new_y_train = []\n",
    "  for i in range(0,len(ids_train)):\n",
    "    subject_id = change_ID_number(str(ids_train[i]))\n",
    "    try:\n",
    "      df_subject = get_data('AutomaticExtractionData_IMUZCenter','_Walk_1',subject_id,label)\n",
    "      temp_x, temp_y = make_windowed(df_subject.values,y_train[i],window_size,num_gen)\n",
    "      x_train.extend(temp_x)\n",
    "      new_y_train.extend(temp_y)\n",
    "    except:\n",
    "      print(\"No data for subject id {}\".format(subject_id))\n",
    "      \n",
    "  x_valid = []\n",
    "  new_y_valid = []\n",
    "  for i in range(0,len(ids_valid)):\n",
    "    subject_id = change_ID_number(str(ids_valid[i]))\n",
    "    try:\n",
    "      df_subject = get_data('AutomaticExtractionData_IMUZCenter','_Walk_1',subject_id,label)\n",
    "      temp_x, temp_y = make_windowed(df_subject.values,y_valid[i],window_size,num_gen)\n",
    "      x_valid.extend(temp_x)\n",
    "      new_y_valid.extend(temp_y)\n",
    "    except:\n",
    "      print(\"No data for subject id {}\".format(subject_id))\n",
    "    \n",
    "  x_test = []\n",
    "  new_y_test = []\n",
    "  for i in range(0,len(ids_test)):\n",
    "    subject_id = change_ID_number(str(ids_test[i]))\n",
    "    try:\n",
    "      df_subject = get_data('AutomaticExtractionData_IMUZCenter','_Walk_1',subject_id,label)\n",
    "      temp_x, temp_y = make_windowed(df_subject.values,y_test[i],window_size,num_gen)\n",
    "      x_test.extend(temp_x)\n",
    "      new_y_test.extend(temp_y)\n",
    "    except:\n",
    "      print(\"No data for subject id {}\".format(subject_id))\n",
    "    \n",
    "  print(\"Train size: \" + str(len(x_train)))\n",
    "  print(\"Valid size: \" + str(len(x_valid)))\n",
    "  print(\"Test size: \" + str(len(x_test)))\n",
    "    \n",
    "  x_train = np.array(x_train)\n",
    "  x_valid = np.array(x_valid)\n",
    "  x_test = np.array(x_test)\n",
    "  y_train = np.array(new_y_train)\n",
    "  y_valid = np.array(new_y_valid)\n",
    "  y_test = np.array(new_y_test)\n",
    "  \n",
    "  #model = get_model(x_train.shape[1],x_train.shape[2])\n",
    "  #model.fit(x_train[:,:,:,np.newaxis], y_train, validation_data = (x_valid[:,:,:,np.newaxis],y_valid),epochs= 10, batch_size = 64)\n",
    "  #y_pred = model.predict(x_test[:,:,:,np.newaxis])\n",
    "  \n",
    "  model = get_model(x_train.shape[1],x_train.shape[2])\n",
    "  model.fit(x_train, y_train, validation_data = (x_valid,y_valid),epochs= 9, batch_size = 64)\n",
    "  y_pred = model.predict(x_test)\n",
    "  \n",
    "  y_pred[y_pred < 0.5] = 0\n",
    "  y_pred[y_pred >= 0.5] = 1\n",
    "  \n",
    "  ls_acc.append(accuracy_score(y_pred,y_test))\n",
    "  print(accuracy_score(y_pred,y_test))"
   ]
  },
  {
   "cell_type": "code",
   "execution_count": 0,
   "metadata": {
    "colab": {
     "base_uri": "https://localhost:8080/",
     "height": 107
    },
    "colab_type": "code",
    "collapsed": false,
    "id": "H6HtEg-ZM-nn",
    "outputId": "d675faae-9b2c-4400-bce3-7eb56ab8b172"
   },
   "outputs": [
    {
     "data": {
      "text/plain": [
       "[0.7054054054054054,\n",
       " 0.7263157894736842,\n",
       " 0.6506666666666666,\n",
       " 0.7089655172413794,\n",
       " 0.7068493150684931]"
      ]
     },
     "execution_count": 57,
     "metadata": {
      "tags": []
     },
     "output_type": "execute_result"
    }
   ],
   "source": [
    "hls_acc"
   ]
  },
  {
   "cell_type": "code",
   "execution_count": 0,
   "metadata": {
    "colab": {},
    "colab_type": "code",
    "collapsed": true,
    "id": "M4OnK69xNimh"
   },
   "outputs": [],
   "source": [
    "\"\"\"\n",
    "Naive model\n",
    "0.6270270270270271,\n",
    "0.6026315789473684,\n",
    "0.5826666666666667,\n",
    "0.5917241379310345,\n",
    "0.5876712328767123\n",
    "\n",
    "Deep Conv LSTM\n",
    "0.6121621621621621,\n",
    "0.6526315789473685,\n",
    "0.6013333333333334,\n",
    "0.6620689655172414,\n",
    "0.6095890410958904\n",
    "\n",
    "1D conv\n",
    "0.5432432432432432,\n",
    "0.6802631578947368,\n",
    "0.6653333333333333,\n",
    "0.5862068965517241,\n",
    "0.689041095890411\n",
    "\n",
    "1D Conv + LSTM epoch 10\n",
    "0.7148648648648649,\n",
    "0.6513157894736842,\n",
    "0.6746666666666666,\n",
    "0.6758620689655173,\n",
    "0.7534246575342466\n",
    "\n",
    "1D Conv + LSTM epoch 6\n",
    "0.7567567567567568,\n",
    " 0.718421052631579,\n",
    " 0.6733333333333333,\n",
    " 0.743448275862069,\n",
    " 0.6506849315068494\n",
    " \n",
    "1D Conv + LSTM epoch 10 + Dropout\n",
    "0.7054054054054054,\n",
    " 0.7263157894736842,\n",
    " 0.6506666666666666,\n",
    " 0.7089655172413794,\n",
    " 0.7068493150684931\n",
    "\"\"\""
   ]
  }
 ],
 "metadata": {
  "accelerator": "GPU",
  "anaconda-cloud": {},
  "colab": {
   "collapsed_sections": [],
   "name": "DeepConvLSTM.ipynb",
   "provenance": [],
   "version": "0.3.2"
  },
  "kernelspec": {
   "display_name": "Python [default]",
   "language": "python",
   "name": "python3"
  },
  "language_info": {
   "codemirror_mode": {
    "name": "ipython",
    "version": 3
   },
   "file_extension": ".py",
   "mimetype": "text/x-python",
   "name": "python",
   "nbconvert_exporter": "python",
   "pygments_lexer": "ipython3",
   "version": "3.5.2"
  }
 },
 "nbformat": 4,
 "nbformat_minor": 0
}
