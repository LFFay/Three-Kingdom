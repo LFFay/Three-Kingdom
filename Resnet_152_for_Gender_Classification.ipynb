{
 "cells": [
  {
   "cell_type": "code",
   "execution_count": 1,
   "metadata": {
    "_cell_guid": "b1076dfc-b9ad-4769-8c92-a6c4dae69d19",
    "_uuid": "8f2839f25d086af736a60e9eeb907d3b93b6e0e5",
    "colab": {
     "base_uri": "https://localhost:8080/",
     "height": 35
    },
    "colab_type": "code",
    "collapsed": false,
    "id": "FkXKJOnHat8F",
    "outputId": "a5b45653-c818-493f-efb7-86f2af499145"
   },
   "outputs": [
    {
     "name": "stderr",
     "output_type": "stream",
     "text": [
      "Using TensorFlow backend.\n"
     ]
    }
   ],
   "source": [
    "import numpy as np # linear algebra\n",
    "import pandas as pd # data processing, CSV file I/O (e.g. pd.read_csv)\n",
    "import os\n",
    "import matplotlib.pyplot as plt\n",
    "from sklearn.model_selection import StratifiedKFold, KFold\n",
    "from tqdm import tqdm\n",
    "from sklearn.metrics import accuracy_score\n",
    "from sklearn.model_selection import train_test_split\n",
    "from keras.backend import tensorflow_backend as backend\n",
    "import math\n",
    "from sklearn.preprocessing import StandardScaler\n",
    "import resnet_152 #This is python file of resnet\n",
    "\n",
    "import warnings\n",
    "warnings.filterwarnings('ignore')\n",
    "\n",
    "#Use the keras version 2.1.5 or lower\n",
    "#!pip install keras==2.1.5"
   ]
  },
  {
   "cell_type": "code",
   "execution_count": 0,
   "metadata": {
    "_uuid": "837cb12274a46514d92c94babd1b50f443e67b34",
    "colab": {},
    "colab_type": "code",
    "collapsed": true,
    "id": "oV_yLl6eat8T"
   },
   "outputs": [],
   "source": [
    "def file_name(file_dir): \n",
    "    dic={}\n",
    "    for root, dirs, files in os.walk(file_dir):\n",
    "        dic[root]=files\n",
    "#         print(root) #path\n",
    "#         print(dirs) #subdirectory\n",
    "#         print(files) #files in non-subdirectory\n",
    "    return dic"
   ]
  },
  {
   "cell_type": "code",
   "execution_count": 0,
   "metadata": {
    "_uuid": "7247a03801d02774eb971140fb754a2874aa2f7e",
    "colab": {},
    "colab_type": "code",
    "collapsed": true,
    "id": "yRbZCo6gat8Z"
   },
   "outputs": [],
   "source": [
    "AutomaticExtractionData=file_name(\"AutomaticExtractionData_IMUZCenter\")\n",
    "ManualExtractionData=file_name(\"ManualExtractionData\")\n",
    "ManualExtractionData_name=list(ManualExtractionData.keys())[1:]\n",
    "label=pd.read_csv('./IDGenderAgelist_ig.csv',dtype='object')"
   ]
  },
  {
   "cell_type": "code",
   "execution_count": 0,
   "metadata": {
    "_uuid": "6fc8a981adee398adab0309b3d113dcd79d77ae6",
    "colab": {},
    "colab_type": "code",
    "collapsed": true,
    "id": "_07j2_UJat8e"
   },
   "outputs": [],
   "source": [
    "def change_ID_number(x):\n",
    "    if len(x)==3:\n",
    "        return ('000' + x)\n",
    "    elif len(x)==4:\n",
    "        return ('00' + x)\n",
    "    elif len(x)==5:\n",
    "        return ('0' + x)\n",
    "    else:\n",
    "        return x\n",
    "      \n",
    "label['adjusted_ID']=label['ID'].apply(lambda x: change_ID_number(x))\n",
    "def file_name_with_ID(x,post,ls):\n",
    "    for i in range(len(list(ls))):\n",
    "        if (x == ls[i][5:11] and ls[i][12:]== post):\n",
    "            return(ls[i])"
   ]
  },
  {
   "cell_type": "code",
   "execution_count": 0,
   "metadata": {
    "_uuid": "1519671eb1ec791e86835681502ea6a8df95704b",
    "colab": {},
    "colab_type": "code",
    "collapsed": true,
    "id": "LDfJt5m-at8j"
   },
   "outputs": [],
   "source": [
    "label['AutomaticExtractionData_IMUZCenter_Walk_1']=label['adjusted_ID'].apply(lambda x: \n",
    "                                file_name_with_ID(x,'Center_seq0.csv',list(AutomaticExtractionData.values())[0]))\n",
    "label['AutomaticExtractionData_IMUZCenter_Walk_2']=label['adjusted_ID'].apply(lambda x: \n",
    "                                file_name_with_ID(x,'Center_seq1.csv',list(AutomaticExtractionData.values())[0]))\n",
    "label['ManualExtractionData/IMUZCenter_Walk_1']=label['adjusted_ID'].apply(lambda x: \n",
    "                                file_name_with_ID(x,'Walk1.csv',ManualExtractionData[ManualExtractionData_name[0]]))\n",
    "label['ManualExtractionData/IMUZCenter_Walk_2']=label['adjusted_ID'].apply(lambda x: \n",
    "                                file_name_with_ID(x,'Walk2.csv',ManualExtractionData[ManualExtractionData_name[0]]))\n",
    "label['ManualExtractionData/IMUZCenter_SlopeDown']=label['adjusted_ID'].apply(lambda x: \n",
    "                                file_name_with_ID(x,'SlopeDown.csv',ManualExtractionData[ManualExtractionData_name[0]]))\n",
    "label['ManualExtractionData/IMUZCenter_SlopeUp']=label['adjusted_ID'].apply(lambda x: \n",
    "                                file_name_with_ID(x,'SlopeUp.csv',ManualExtractionData[ManualExtractionData_name[0]]))\n",
    "label['ManualExtractionData/IMUZRight_Walk_1']=label['adjusted_ID'].apply(lambda x: \n",
    "                                file_name_with_ID(x,'Walk1.csv',ManualExtractionData[ManualExtractionData_name[1]]))\n",
    "label['ManualExtractionData/IMUZRight_Walk_2']=label['adjusted_ID'].apply(lambda x: \n",
    "                                file_name_with_ID(x,'Walk2.csv',ManualExtractionData[ManualExtractionData_name[1]]))\n",
    "label['ManualExtractionData/IMUZRight_SlopeDown']=label['adjusted_ID'].apply(lambda x: \n",
    "                                file_name_with_ID(x,'SlopeDown.csv',ManualExtractionData[ManualExtractionData_name[1]]))\n",
    "label['ManualExtractionData/IMUZRight_SlopeUp']=label['adjusted_ID'].apply(lambda x: \n",
    "                                file_name_with_ID(x,'SlopeUp.csv',ManualExtractionData[ManualExtractionData_name[1]]))\n",
    "label['ManualExtractionData/IMUZLeft_Walk_1']=label['adjusted_ID'].apply(lambda x: \n",
    "                                file_name_with_ID(x,'Walk1.csv',ManualExtractionData[ManualExtractionData_name[2]]))\n",
    "label['ManualExtractionData/IMUZLeft_Walk_2']=label['adjusted_ID'].apply(lambda x: \n",
    "                                file_name_with_ID(x,'Walk2.csv',ManualExtractionData[ManualExtractionData_name[2]]))\n",
    "label['ManualExtractionData/IMUZLeft_SlopeDown']=label['adjusted_ID'].apply(lambda x: \n",
    "                                file_name_with_ID(x,'SlopeDown.csv',ManualExtractionData[ManualExtractionData_name[2]]))\n",
    "label['ManualExtractionData/IMUZLeft_SlopeUp']=label['adjusted_ID'].apply(lambda x: \n",
    "                                file_name_with_ID(x,'SlopeUp.csv',ManualExtractionData[ManualExtractionData_name[2]]))\n",
    "label['ManualExtractionData/Android_Walk_1']=label['adjusted_ID'].apply(lambda x: \n",
    "                                file_name_with_ID(x,'Walk1.csv',ManualExtractionData[ManualExtractionData_name[3]]))\n",
    "label['ManualExtractionData/Android_Walk_2']=label['adjusted_ID'].apply(lambda x: \n",
    "                                file_name_with_ID(x,'Walk2.csv',ManualExtractionData[ManualExtractionData_name[3]]))\n",
    "label['ManualExtractionData/Android_SlopeDown']=label['adjusted_ID'].apply(lambda x: \n",
    "                                file_name_with_ID(x,'SlopeDown.csv',ManualExtractionData[ManualExtractionData_name[3]]))\n",
    "label['ManualExtractionData/Android_SlopeUp']=label['adjusted_ID'].apply(lambda x: \n",
    "                                file_name_with_ID(x,'SlopeUp.csv',ManualExtractionData[ManualExtractionData_name[3]]))"
   ]
  },
  {
   "cell_type": "code",
   "execution_count": 0,
   "metadata": {
    "_uuid": "e1de760a111c0a3b606a75de91ed82e23b486fc3",
    "colab": {},
    "colab_type": "code",
    "collapsed": true,
    "id": "WCFZmC06at8o"
   },
   "outputs": [],
   "source": [
    "def generate_read_table(fileName,actionName,ID,label): \n",
    "  try:\n",
    "    dataset_name= fileName + actionName\n",
    "    path_name= fileName +'/'+ str(label[label['ID']==ID][dataset_name].values[0])\n",
    "    if fileName=='ManualExtractionData/Android':\n",
    "      df=pd.read_csv(path_name,skiprows=2)\n",
    "      df.columns=[0,0,0,df.columns.values[3],df.columns.values[4],df.columns.values[5]]\n",
    "      insert_line=pd.DataFrame(df.columns.values).T\n",
    "      df.columns=insert_line.columns\n",
    "      df=pd.concat([insert_line,df],axis=0)\n",
    "    else:\n",
    "      df=pd.read_csv(path_name,skiprows=2)\n",
    "      insert_line=pd.DataFrame(df.columns.values).T\n",
    "      df.columns=insert_line.columns\n",
    "      df=pd.concat([insert_line,df],axis=0)\n",
    "    df.columns=['Gx','Gy','Gz','Ax','Ay','Az']\n",
    "    df = df.astype(float)\n",
    "    return df\n",
    "  except:\n",
    "    return None\n",
    "  \n",
    "  return df\n",
    "df = generate_read_table('AutomaticExtractionData_IMUZCenter','_Walk_1','002318',label)"
   ]
  },
  {
   "cell_type": "code",
   "execution_count": 7,
   "metadata": {
    "_uuid": "01a2348db20eaadcc5a3f78d861f0182095a5f91",
    "colab": {
     "base_uri": "https://localhost:8080/",
     "height": 204
    },
    "colab_type": "code",
    "collapsed": false,
    "id": "3wdjs3NIat8t",
    "outputId": "5d06a8d6-ae1e-4c50-db73-00b4f1a32835"
   },
   "outputs": [
    {
     "data": {
      "text/html": [
       "<div>\n",
       "<style scoped>\n",
       "    .dataframe tbody tr th:only-of-type {\n",
       "        vertical-align: middle;\n",
       "    }\n",
       "\n",
       "    .dataframe tbody tr th {\n",
       "        vertical-align: top;\n",
       "    }\n",
       "\n",
       "    .dataframe thead th {\n",
       "        text-align: right;\n",
       "    }\n",
       "</style>\n",
       "<table border=\"1\" class=\"dataframe\">\n",
       "  <thead>\n",
       "    <tr style=\"text-align: right;\">\n",
       "      <th></th>\n",
       "      <th>Gx</th>\n",
       "      <th>Gy</th>\n",
       "      <th>Gz</th>\n",
       "      <th>Ax</th>\n",
       "      <th>Ay</th>\n",
       "      <th>Az</th>\n",
       "    </tr>\n",
       "  </thead>\n",
       "  <tbody>\n",
       "    <tr>\n",
       "      <th>0</th>\n",
       "      <td>0.236353</td>\n",
       "      <td>-0.627744</td>\n",
       "      <td>0.041949</td>\n",
       "      <td>-0.024</td>\n",
       "      <td>-0.826</td>\n",
       "      <td>0.150</td>\n",
       "    </tr>\n",
       "    <tr>\n",
       "      <th>0</th>\n",
       "      <td>0.177763</td>\n",
       "      <td>-0.622424</td>\n",
       "      <td>-0.053925</td>\n",
       "      <td>0.006</td>\n",
       "      <td>-0.834</td>\n",
       "      <td>0.148</td>\n",
       "    </tr>\n",
       "    <tr>\n",
       "      <th>1</th>\n",
       "      <td>0.044605</td>\n",
       "      <td>-0.638404</td>\n",
       "      <td>-0.181756</td>\n",
       "      <td>0.028</td>\n",
       "      <td>-0.824</td>\n",
       "      <td>0.148</td>\n",
       "    </tr>\n",
       "    <tr>\n",
       "      <th>2</th>\n",
       "      <td>-0.045942</td>\n",
       "      <td>-0.670364</td>\n",
       "      <td>-0.309588</td>\n",
       "      <td>0.040</td>\n",
       "      <td>-0.822</td>\n",
       "      <td>0.084</td>\n",
       "    </tr>\n",
       "    <tr>\n",
       "      <th>3</th>\n",
       "      <td>-0.056595</td>\n",
       "      <td>-0.643724</td>\n",
       "      <td>-0.384157</td>\n",
       "      <td>0.060</td>\n",
       "      <td>-0.844</td>\n",
       "      <td>0.026</td>\n",
       "    </tr>\n",
       "  </tbody>\n",
       "</table>\n",
       "</div>"
      ],
      "text/plain": [
       "         Gx        Gy        Gz     Ax     Ay     Az\n",
       "0  0.236353 -0.627744  0.041949 -0.024 -0.826  0.150\n",
       "0  0.177763 -0.622424 -0.053925  0.006 -0.834  0.148\n",
       "1  0.044605 -0.638404 -0.181756  0.028 -0.824  0.148\n",
       "2 -0.045942 -0.670364 -0.309588  0.040 -0.822  0.084\n",
       "3 -0.056595 -0.643724 -0.384157  0.060 -0.844  0.026"
      ]
     },
     "execution_count": 7,
     "metadata": {
      "tags": []
     },
     "output_type": "execute_result"
    }
   ],
   "source": [
    "df.head()"
   ]
  },
  {
   "cell_type": "code",
   "execution_count": 0,
   "metadata": {
    "_uuid": "4f0add4209bdadeee0329df0ff3ccf0026951626",
    "colab": {},
    "colab_type": "code",
    "collapsed": true,
    "id": "9QmSRGwMat81"
   },
   "outputs": [],
   "source": [
    "def yipeng_preprocessing(raw_data, target_class, length):\n",
    "            \n",
    "  # Data augmentation\n",
    "  if raw_data.shape[0] > length:\n",
    "    data = raw_data[0:length] # Cut the data\n",
    "  else:\n",
    "    period = math.ceil(length / raw_data.shape[0])\n",
    "    temp = np.copy(raw_data)\n",
    "    # copy the data periodic\n",
    "    for i in range(period-1):\n",
    "      temp = np.row_stack((temp, raw_data))\n",
    "      data = (temp[0:length]) # Cut the data\n",
    "            \n",
    "  return data, target_class"
   ]
  },
  {
   "cell_type": "code",
   "execution_count": 0,
   "metadata": {
    "_uuid": "4bbafae493670d990d0fbceaff023f518a35bfdd",
    "colab": {},
    "colab_type": "code",
    "collapsed": true,
    "id": "l2T23AIzat89"
   },
   "outputs": [],
   "source": [
    "df = pd.read_csv('IDGenderAgelist_ig.csv')\n",
    "ids = df[\"ID\"].values\n",
    "y = df[\"Gender(0:Female;1:Male)\"].values"
   ]
  },
  {
   "cell_type": "code",
   "execution_count": 11,
   "metadata": {
    "_uuid": "b57afe87ecdf7af27fa1782ca2532697c3f21bb2",
    "colab": {
     "base_uri": "https://localhost:8080/",
     "height": 937
    },
    "colab_type": "code",
    "collapsed": false,
    "id": "DhATdih7at9J",
    "outputId": "fcacebfb-e24f-4cb7-a890-22f10274c432"
   },
   "outputs": [
    {
     "name": "stderr",
     "output_type": "stream",
     "text": [
      "\r",
      "  0%|          | 0/549 [00:00<?, ?it/s]"
     ]
    },
    {
     "name": "stdout",
     "output_type": "stream",
     "text": [
      "TRAIN: 610 TEST: 153\n"
     ]
    },
    {
     "name": "stderr",
     "output_type": "stream",
     "text": [
      "100%|██████████| 549/549 [00:39<00:00, 13.82it/s]\n",
      "100%|██████████| 61/61 [00:04<00:00, 12.62it/s]\n",
      "100%|██████████| 153/153 [00:10<00:00, 14.92it/s]\n"
     ]
    },
    {
     "name": "stdout",
     "output_type": "stream",
     "text": [
      "Train size: 6586\n",
      "Valid size: 726\n",
      "Test size: 1627\n",
      "WARNING:tensorflow:Variable *= will be deprecated. Use `var.assign(var * other)` if you want assignment to the variable value or `x = x * y` if you want a new python Tensor object.\n",
      "Train on 6586 samples, validate on 726 samples\n",
      "Epoch 1/20\n",
      "6586/6586 [==============================] - 279s 42ms/step - loss: 1.8498 - acc: 0.5369 - val_loss: 2.1276 - val_acc: 0.5510\n",
      "Epoch 2/20\n",
      "6586/6586 [==============================] - 233s 35ms/step - loss: 1.2400 - acc: 0.5524 - val_loss: 1.1372 - val_acc: 0.4697\n",
      "Epoch 3/20\n",
      "6586/6586 [==============================] - 233s 35ms/step - loss: 1.1251 - acc: 0.5961 - val_loss: 1.0100 - val_acc: 0.4862\n",
      "Epoch 4/20\n",
      "6586/6586 [==============================] - 233s 35ms/step - loss: 1.0876 - acc: 0.6011 - val_loss: 0.6817 - val_acc: 0.6309\n",
      "Epoch 5/20\n",
      "6586/6586 [==============================] - 233s 35ms/step - loss: 1.0455 - acc: 0.6206 - val_loss: 0.9344 - val_acc: 0.6309\n",
      "Epoch 6/20\n",
      "6586/6586 [==============================] - 233s 35ms/step - loss: 1.0361 - acc: 0.6382 - val_loss: 1.5247 - val_acc: 0.5909\n",
      "Epoch 7/20\n",
      "6586/6586 [==============================] - 233s 35ms/step - loss: 1.1269 - acc: 0.6351 - val_loss: 2.0341 - val_acc: 0.5248\n",
      "Epoch 8/20\n",
      "6586/6586 [==============================] - 233s 35ms/step - loss: 1.2909 - acc: 0.5698 - val_loss: 1.6798 - val_acc: 0.5482\n",
      "Epoch 9/20\n",
      "6586/6586 [==============================] - 233s 35ms/step - loss: 1.0636 - acc: 0.6227 - val_loss: 0.9831 - val_acc: 0.5992\n",
      "Epoch 10/20\n",
      "6586/6586 [==============================] - 233s 35ms/step - loss: 1.0930 - acc: 0.6216 - val_loss: 0.8658 - val_acc: 0.6198\n",
      "Epoch 11/20\n",
      "6586/6586 [==============================] - 233s 35ms/step - loss: 0.9896 - acc: 0.6690 - val_loss: 1.1271 - val_acc: 0.5152\n",
      "Epoch 12/20\n",
      "6586/6586 [==============================] - 233s 35ms/step - loss: 0.9439 - acc: 0.6837 - val_loss: 0.7484 - val_acc: 0.6570\n",
      "Epoch 13/20\n",
      "6586/6586 [==============================] - 233s 35ms/step - loss: 1.2676 - acc: 0.6274 - val_loss: 1.3338 - val_acc: 0.5592\n",
      "Epoch 14/20\n",
      "6586/6586 [==============================] - 233s 35ms/step - loss: 1.2128 - acc: 0.6266 - val_loss: 0.7932 - val_acc: 0.5950\n",
      "Epoch 15/20\n",
      "6586/6586 [==============================] - 233s 35ms/step - loss: 1.2062 - acc: 0.6491 - val_loss: 1.1780 - val_acc: 0.5468\n",
      "Epoch 16/20\n",
      "6586/6586 [==============================] - 233s 35ms/step - loss: 1.2663 - acc: 0.6257 - val_loss: 2.6258 - val_acc: 0.5372\n",
      "Epoch 17/20\n",
      "6586/6586 [==============================] - 233s 35ms/step - loss: 1.3321 - acc: 0.6301 - val_loss: 0.8587 - val_acc: 0.5771\n",
      "Epoch 18/20\n",
      "6586/6586 [==============================] - 234s 35ms/step - loss: 1.2777 - acc: 0.6371 - val_loss: 3.8413 - val_acc: 0.5110\n",
      "Epoch 19/20\n",
      "6586/6586 [==============================] - 233s 35ms/step - loss: 1.3074 - acc: 0.6427 - val_loss: 0.5886 - val_acc: 0.6804\n",
      "Epoch 20/20\n",
      "6586/6586 [==============================] - 233s 35ms/step - loss: 1.1968 - acc: 0.6573 - val_loss: 0.8283 - val_acc: 0.6570\n",
      "0.6084818684695759\n"
     ]
    }
   ],
   "source": [
    "num_gen = 3\n",
    "ls_acc = []\n",
    "length = 1000\n",
    "\n",
    "datasets = label.columns[4:]\n",
    "file_name=['AutomaticExtractionData_IMUZCenter','ManualExtractionData/IMUZCenter','ManualExtractionData/IMUZRight',\n",
    "          'ManualExtractionData/IMUZLeft','ManualExtractionData/Android']\n",
    "action_name=['_Walk_1','_Walk_2','_SlopeDown','_SlopeUp']\n",
    "\n",
    "skf = StratifiedKFold(n_splits = 5)\n",
    "for train_index, test_index in skf.split(ids, y):\n",
    "    print(\"TRAIN:\", len(train_index), \"TEST:\", len(test_index))\n",
    "    ids_train, ids_test = ids[train_index], ids[test_index]\n",
    "    y_train, y_test = y[train_index], y[test_index]\n",
    "    ids_train, ids_valid, y_train, y_valid = train_test_split(ids_train, y_train, test_size=0.10, random_state=42)\n",
    "    \n",
    "    x_train = []\n",
    "    new_y_train = []\n",
    "    for i in tqdm(range(0,len(ids_train))):\n",
    "        subject_id = change_ID_number(str(ids_train[i]))\n",
    "        for k in range(0,len(file_name)):\n",
    "            for l in range(0,len(action_name)):\n",
    "                try:\n",
    "                    df_subject = generate_read_table(file_name[k], action_name[l],subject_id,label)\n",
    "                    sc = StandardScaler()\n",
    "                    df_subject = pd.DataFrame(sc.fit_transform(df_subject))\n",
    "                    temp_x, temp_y = yipeng_preprocessing(df_subject.values, y_train[i], length)\n",
    "                    x_train.append(temp_x)\n",
    "                    new_y_train.append(temp_y)\n",
    "                except: \n",
    "                    continue\n",
    "    x_valid = []\n",
    "    new_y_valid = []\n",
    "    for i in tqdm(range(0,len(ids_valid))):\n",
    "        subject_id = change_ID_number(str(ids_valid[i]))\n",
    "        for k in range(0,len(file_name)):\n",
    "            for l in range(0,len(action_name)):\n",
    "                try:\n",
    "                    df_subject = generate_read_table(file_name[k], action_name[l],subject_id,label)\n",
    "                    sc = StandardScaler()\n",
    "                    df_subject = pd.DataFrame(sc.fit_transform(df_subject))\n",
    "                    temp_x, temp_y = yipeng_preprocessing(df_subject.values, y_valid[i], length)\n",
    "                    x_valid.append(temp_x)\n",
    "                    new_y_valid.append(temp_y)\n",
    "                except:\n",
    "                    continue\n",
    "                    \n",
    "    x_test = []\n",
    "    new_y_test = []\n",
    "    for i in tqdm(range(0,len(ids_test))):\n",
    "        subject_id = change_ID_number(str(ids_test[i]))\n",
    "        for k in range(0,len(file_name)):\n",
    "            for l in range(0,len(action_name)):\n",
    "                try:\n",
    "                    df_subject = generate_read_table(file_name[k], action_name[l],subject_id,label)\n",
    "                    sc = StandardScaler()\n",
    "                    df_subject = pd.DataFrame(sc.fit_transform(df_subject))\n",
    "                    temp_x, temp_y = yipeng_preprocessing(df_subject.values, y_test[i], length)\n",
    "                    x_test.append(temp_x)\n",
    "                    new_y_test.append(temp_y)\n",
    "                except:\n",
    "                    continue\n",
    "    print(\"Train size: \" + str(len(x_train)))\n",
    "    print(\"Valid size: \" + str(len(x_valid)))\n",
    "    print(\"Test size: \" + str(len(x_test)))\n",
    "    \n",
    "    x_train = np.array(x_train)\n",
    "    x_valid = np.array(x_valid)\n",
    "    x_test = np.array(x_test)\n",
    "    y_train = np.array(new_y_train)\n",
    "    y_valid = np.array(new_y_valid)\n",
    "    y_test = np.array(new_y_test)\n",
    "    \n",
    "    model = resnet_152.resnet152_model(x_train.shape[1],x_train.shape[2], 1, 1)\n",
    "\n",
    "    result = model.fit(x_train[:,:,:,np.newaxis], y_train,\n",
    "              batch_size= 16,\n",
    "              nb_epoch= 20,\n",
    "              shuffle=True,\n",
    "              verbose=1,\n",
    "              validation_data=(x_valid[:,:,:,np.newaxis],y_valid),\n",
    "              )\n",
    "    y_pred = model.predict(x_test[:,:,:,np.newaxis])\n",
    "\n",
    "    y_pred[y_pred < 0.5] = 0\n",
    "    y_pred[y_pred >= 0.5] = 1\n",
    "\n",
    "    ls_acc.append(accuracy_score(y_pred,y_test))\n",
    "    print(accuracy_score(y_pred,y_test))\n",
    "    backend.clear_session()\n",
    "    \n",
    "    break"
   ]
  },
  {
   "cell_type": "code",
   "execution_count": 0,
   "metadata": {
    "_uuid": "d9587f24d74964d292dd30cfdab43e15759fef74",
    "colab": {},
    "colab_type": "code",
    "collapsed": true,
    "id": "8K9QjnEHat9N"
   },
   "outputs": [],
   "source": [
    "import matplotlib.pyplot as plt\n",
    "plt.boxplot(ls_acc)\n",
    "plt.savefig(\"result\")"
   ]
  },
  {
   "cell_type": "code",
   "execution_count": 14,
   "metadata": {
    "_uuid": "addc44fa083718c625829bc294420e52f5fc2c5c",
    "colab": {
     "base_uri": "https://localhost:8080/",
     "height": 379
    },
    "colab_type": "code",
    "collapsed": false,
    "id": "zwyfB-Lrat9Q",
    "outputId": "07a89f67-809b-4100-f0c8-d606500e15db"
   },
   "outputs": [
    {
     "data": {
      "text/plain": [
       "Text(0,0.5,'accuracy')"
      ]
     },
     "execution_count": 14,
     "metadata": {
      "tags": []
     },
     "output_type": "execute_result"
    },
    {
     "data": {
      "image/png": "[encoded data removed]",
      "text/plain": [
       "<matplotlib.figure.Figure at 0x7f0a982f5278>"
      ]
     },
     "metadata": {
      "tags": []
     },
     "output_type": "display_data"
    }
   ],
   "source": [
    "plt.plot(range(1, 20+1), result.history['acc'], label=\"training\")\n",
    "plt.plot(range(1, 20+1), result.history['val_acc'], label=\"validation\")\n",
    "plt.xlabel(\"epochs\")\n",
    "plt.ylabel(\"accuracy\")"
   ]
  },
  {
   "cell_type": "code",
   "execution_count": 16,
   "metadata": {
    "colab": {
     "base_uri": "https://localhost:8080/",
     "height": 383
    },
    "colab_type": "code",
    "collapsed": false,
    "id": "BX3p_0suviDT",
    "outputId": "3fb3760b-f78d-46cf-8047-1cabc90f2d87"
   },
   "outputs": [
    {
     "data": {
      "text/plain": [
       "Text(0,0.5,'loss')"
      ]
     },
     "execution_count": 16,
     "metadata": {
      "tags": []
     },
     "output_type": "execute_result"
    },
    {
     "data": {
      "image/png": "[encoded data removed]",
      "text/plain": [
       "<matplotlib.figure.Figure at 0x7f0a6c845b70>"
      ]
     },
     "metadata": {
      "tags": []
     },
     "output_type": "display_data"
    }
   ],
   "source": [
    "plt.plot(range(1, 20+1), result.history['loss'], label=\"training\")\n",
    "plt.plot(range(1, 20+1), result.history['val_loss'], label=\"validation\")\n",
    "plt.xlabel(\"epochs\")\n",
    "plt.ylabel(\"loss\")"
   ]
  },
  {
   "cell_type": "code",
   "execution_count": 0,
   "metadata": {
    "colab": {},
    "colab_type": "code",
    "collapsed": true,
    "id": "CipMZEtA7gE9"
   },
   "outputs": [],
   "source": []
  }
 ],
 "metadata": {
  "accelerator": "GPU",
  "anaconda-cloud": {},
  "colab": {
   "name": "Resnet_152for Gender Classification.ipynb",
   "provenance": [],
   "version": "0.3.2"
  },
  "kernelspec": {
   "display_name": "Python [default]",
   "language": "python",
   "name": "python3"
  },
  "language_info": {
   "codemirror_mode": {
    "name": "ipython",
    "version": 3
   },
   "file_extension": ".py",
   "mimetype": "text/x-python",
   "name": "python",
   "nbconvert_exporter": "python",
   "pygments_lexer": "ipython3",
   "version": "3.5.2"
  }
 },
 "nbformat": 4,
 "nbformat_minor": 0
}
