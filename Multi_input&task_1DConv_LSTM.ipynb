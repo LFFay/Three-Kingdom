{
 "cells": [
  {
   "cell_type": "code",
   "execution_count": 0,
   "metadata": {
    "_cell_guid": "b1076dfc-b9ad-4769-8c92-a6c4dae69d19",
    "_uuid": "8f2839f25d086af736a60e9eeb907d3b93b6e0e5",
    "colab": {},
    "colab_type": "code",
    "collapsed": true,
    "id": "FRDn7-CeX12M"
   },
   "outputs": [],
   "source": [
    "import numpy as np # linear algebra\n",
    "import pandas as pd # data processing, CSV file I/O (e.g. pd.read_csv)\n",
    "import os\n",
    "import matplotlib.pyplot as plt\n",
    "from sklearn.model_selection import StratifiedKFold, KFold"
   ]
  },
  {
   "cell_type": "code",
   "execution_count": 12,
   "metadata": {
    "colab": {
     "base_uri": "https://localhost:8080/",
     "height": 251
    },
    "colab_type": "code",
    "collapsed": false,
    "id": "dFvl7QksaUcA",
    "outputId": "76ed6a2e-408e-4212-d491-2c8fbbbabf5b"
   },
   "outputs": [
    {
     "data": {
      "text/plain": [
       "['.config',\n",
       " 'CenterSensor',\n",
       " 'Protocols',\n",
       " 'OU-IneritialGaitData.zip',\n",
       " 'RightSensor',\n",
       " 'OU-IneritialGaitActionDataset.zip',\n",
       " 'adc.json',\n",
       " 'LeftSensor',\n",
       " 'AutomaticExtractionData_IMUZCenter',\n",
       " 'PaperProtocol',\n",
       " 'IDGenderAgelist_ig.csv',\n",
       " 'ManualExtractionData',\n",
       " 'sample_data']"
      ]
     },
     "execution_count": 12,
     "metadata": {
      "tags": []
     },
     "output_type": "execute_result"
    }
   ],
   "source": [
    "os.listdir()"
   ]
  },
  {
   "cell_type": "code",
   "execution_count": 0,
   "metadata": {
    "_uuid": "c21c69e1fa984d63c4fbeba997b1f676cec063be",
    "colab": {},
    "colab_type": "code",
    "collapsed": true,
    "id": "hbp7suBDX12U"
   },
   "outputs": [],
   "source": [
    "def file_name(file_dir): \n",
    "    dic={}\n",
    "    for root, dirs, files in os.walk(file_dir):\n",
    "        dic[root]=files\n",
    "#         print(root) #path\n",
    "#         print(dirs) #subdirectory\n",
    "#         print(files) #files in non-subdirectory\n",
    "    return dic"
   ]
  },
  {
   "cell_type": "code",
   "execution_count": 0,
   "metadata": {
    "_uuid": "455b93f4c94d3a658a84e56119f256df8ed2a1c9",
    "colab": {},
    "colab_type": "code",
    "collapsed": true,
    "id": "NPaDVI8uX12X"
   },
   "outputs": [],
   "source": [
    "AutomaticExtractionData=file_name(\"./AutomaticExtractionData_IMUZCenter\")\n",
    "ManualExtractionData=file_name(\"./ManualExtractionData\")\n",
    "ManualExtractionData_name= list(ManualExtractionData.keys())[1:]\n",
    "SimilarAction_left = file_name(\"./LeftSensor\")\n",
    "SimilarAction_right = file_name(\"./RightSensor\")\n",
    "SimilarAction_center = file_name(\"./CenterSensor\")\n",
    "label=pd.read_csv('./IDGenderAgelist_ig.csv',dtype='object')"
   ]
  },
  {
   "cell_type": "code",
   "execution_count": 0,
   "metadata": {
    "_uuid": "a569c9ad3a62d79a05f789f25d7f3ea4fa3f9b97",
    "colab": {},
    "colab_type": "code",
    "collapsed": true,
    "id": "aSRcmPw-X12a"
   },
   "outputs": [],
   "source": [
    "def change_ID_number(x):\n",
    "    if len(x)==3:\n",
    "        return ('000' + x)\n",
    "    elif len(x)==4:\n",
    "        return ('00' + x)\n",
    "    elif len(x)==5:\n",
    "        return ('0' + x)\n",
    "    else:\n",
    "        return x\n",
    "      \n",
    "label['adjusted_ID']=label['ID'].apply(lambda x: change_ID_number(x))\n",
    "def file_name_with_ID(x,post,ls):\n",
    "    for i in range(len(list(ls))):\n",
    "        if (x == ls[i][5:11] and ls[i][12:]== post):\n",
    "            return(ls[i])"
   ]
  },
  {
   "cell_type": "code",
   "execution_count": 0,
   "metadata": {
    "_uuid": "865fe3b88afd9ba202a99c5e77f1f059d1fe8041",
    "colab": {},
    "colab_type": "code",
    "collapsed": true,
    "id": "Bflm_3LMX12d"
   },
   "outputs": [],
   "source": [
    "label['AutomaticExtractionData_IMUZCenter_Walk_1']=label['adjusted_ID'].apply(lambda x: \n",
    "                                file_name_with_ID(x,'Center_seq0.csv',list(AutomaticExtractionData.values())[0]))\n",
    "label['AutomaticExtractionData_IMUZCenter_Walk_2']=label['adjusted_ID'].apply(lambda x: \n",
    "                                file_name_with_ID(x,'Center_seq1.csv',list(AutomaticExtractionData.values())[0]))\n",
    "label['ManualExtractionData/IMUZCenter_Walk_1']=label['adjusted_ID'].apply(lambda x: \n",
    "                                file_name_with_ID(x,'Walk1.csv',ManualExtractionData[ManualExtractionData_name[0]]))\n",
    "label['ManualExtractionData/IMUZCenter_Walk_2']=label['adjusted_ID'].apply(lambda x: \n",
    "                                file_name_with_ID(x,'Walk2.csv',ManualExtractionData[ManualExtractionData_name[0]]))\n",
    "label['ManualExtractionData/IMUZCenter_SlopeDown']=label['adjusted_ID'].apply(lambda x: \n",
    "                                file_name_with_ID(x,'SlopeDown.csv',ManualExtractionData[ManualExtractionData_name[0]]))\n",
    "label['ManualExtractionData/IMUZCenter_SlopeUp']=label['adjusted_ID'].apply(lambda x: \n",
    "                                file_name_with_ID(x,'SlopeUp.csv',ManualExtractionData[ManualExtractionData_name[0]]))\n",
    "label['ManualExtractionData/IMUZRight_Walk_1']=label['adjusted_ID'].apply(lambda x: \n",
    "                                file_name_with_ID(x,'Walk1.csv',ManualExtractionData[ManualExtractionData_name[1]]))\n",
    "label['ManualExtractionData/IMUZRight_Walk_2']=label['adjusted_ID'].apply(lambda x: \n",
    "                                file_name_with_ID(x,'Walk2.csv',ManualExtractionData[ManualExtractionData_name[1]]))\n",
    "label['ManualExtractionData/IMUZRight_SlopeDown']=label['adjusted_ID'].apply(lambda x: \n",
    "                                file_name_with_ID(x,'SlopeDown.csv',ManualExtractionData[ManualExtractionData_name[1]]))\n",
    "label['ManualExtractionData/IMUZRight_SlopeUp']=label['adjusted_ID'].apply(lambda x: \n",
    "                                file_name_with_ID(x,'SlopeUp.csv',ManualExtractionData[ManualExtractionData_name[1]]))\n",
    "label['ManualExtractionData/IMUZLeft_Walk_1']=label['adjusted_ID'].apply(lambda x: \n",
    "                                file_name_with_ID(x,'Walk1.csv',ManualExtractionData[ManualExtractionData_name[2]]))\n",
    "label['ManualExtractionData/IMUZLeft_Walk_2']=label['adjusted_ID'].apply(lambda x: \n",
    "                                file_name_with_ID(x,'Walk2.csv',ManualExtractionData[ManualExtractionData_name[2]]))\n",
    "label['ManualExtractionData/IMUZLeft_SlopeDown']=label['adjusted_ID'].apply(lambda x: \n",
    "                                file_name_with_ID(x,'SlopeDown.csv',ManualExtractionData[ManualExtractionData_name[2]]))\n",
    "label['ManualExtractionData/IMUZLeft_SlopeUp']=label['adjusted_ID'].apply(lambda x: \n",
    "                                file_name_with_ID(x,'SlopeUp.csv',ManualExtractionData[ManualExtractionData_name[2]]))\n",
    "label['ManualExtractionData/Android_Walk_1']=label['adjusted_ID'].apply(lambda x: \n",
    "                                file_name_with_ID(x,'Walk1.csv',ManualExtractionData[ManualExtractionData_name[3]]))\n",
    "label['ManualExtractionData/Android_Walk_2']=label['adjusted_ID'].apply(lambda x: \n",
    "                                file_name_with_ID(x,'Walk2.csv',ManualExtractionData[ManualExtractionData_name[3]]))\n",
    "label['ManualExtractionData/Android_SlopeDown']=label['adjusted_ID'].apply(lambda x: \n",
    "                                file_name_with_ID(x,'SlopeDown.csv',ManualExtractionData[ManualExtractionData_name[3]]))\n",
    "label['ManualExtractionDataAndroid_SlopeUp']=label['adjusted_ID'].apply(lambda x: \n",
    "                                file_name_with_ID(x,'SlopeUp.csv',ManualExtractionData[ManualExtractionData_name[3]]))\n",
    "label['SimilarActionLeftSensor']=label['adjusted_ID'].apply(lambda x: \n",
    "                                file_name_with_ID(x,'actLabel',list(SimilarAction_left.values())[0]))\n",
    "label['SimilarActionRightSensor']=label['adjusted_ID'].apply(lambda x: \n",
    "                                file_name_with_ID(x,'actLabel',list(SimilarAction_right.values())[0]))\n",
    "label['SimilarActionCenterSensor']=label['adjusted_ID'].apply(lambda x: \n",
    "                                file_name_with_ID(x,'actLabel',list(SimilarAction_center.values())[0]))"
   ]
  },
  {
   "cell_type": "code",
   "execution_count": 38,
   "metadata": {
    "colab": {
     "base_uri": "https://localhost:8080/",
     "height": 253
    },
    "colab_type": "code",
    "collapsed": false,
    "id": "L-8rF3QWcBTW",
    "outputId": "8e284aa2-7449-4a1c-a04f-f8c80be44b04"
   },
   "outputs": [
    {
     "data": {
      "text/html": [
       "<div>\n",
       "<style scoped>\n",
       "    .dataframe tbody tr th:only-of-type {\n",
       "        vertical-align: middle;\n",
       "    }\n",
       "\n",
       "    .dataframe tbody tr th {\n",
       "        vertical-align: top;\n",
       "    }\n",
       "\n",
       "    .dataframe thead th {\n",
       "        text-align: right;\n",
       "    }\n",
       "</style>\n",
       "<table border=\"1\" class=\"dataframe\">\n",
       "  <thead>\n",
       "    <tr style=\"text-align: right;\">\n",
       "      <th></th>\n",
       "      <th>ID</th>\n",
       "      <th>Gender(0:Female;1:Male)</th>\n",
       "      <th>Age</th>\n",
       "      <th>adjusted_ID</th>\n",
       "      <th>AutomaticExtractionData_IMUZCenter_Walk_1</th>\n",
       "      <th>AutomaticExtractionData_IMUZCenter_Walk_2</th>\n",
       "      <th>ManualExtractionData/IMUZCenter_Walk_1</th>\n",
       "      <th>ManualExtractionData/IMUZCenter_Walk_2</th>\n",
       "      <th>ManualExtractionData/IMUZCenter_SlopeDown</th>\n",
       "      <th>ManualExtractionData/IMUZCenter_SlopeUp</th>\n",
       "      <th>...</th>\n",
       "      <th>ManualExtractionData/IMUZLeft_Walk_2</th>\n",
       "      <th>ManualExtractionData/IMUZLeft_SlopeDown</th>\n",
       "      <th>ManualExtractionData/IMUZLeft_SlopeUp</th>\n",
       "      <th>ManualExtractionData/Android_Walk_1</th>\n",
       "      <th>ManualExtractionData/Android_Walk_2</th>\n",
       "      <th>ManualExtractionData/Android_SlopeDown</th>\n",
       "      <th>ManualExtractionDataAndroid_SlopeUp</th>\n",
       "      <th>SimilarActionLeftSensor</th>\n",
       "      <th>SimilarActionRightSensor</th>\n",
       "      <th>SimilarActionCenterSensor</th>\n",
       "    </tr>\n",
       "  </thead>\n",
       "  <tbody>\n",
       "    <tr>\n",
       "      <th>0</th>\n",
       "      <td>000104</td>\n",
       "      <td>1</td>\n",
       "      <td>33</td>\n",
       "      <td>000104</td>\n",
       "      <td>T0_ID000104_Center_seq0.csv</td>\n",
       "      <td>T0_ID000104_Center_seq1.csv</td>\n",
       "      <td>T0_ID000104_Walk1.csv</td>\n",
       "      <td>T0_ID000104_Walk2.csv</td>\n",
       "      <td>T0_ID000104_SlopeDown.csv</td>\n",
       "      <td>T0_ID000104_SlopeUp.csv</td>\n",
       "      <td>...</td>\n",
       "      <td>T0_ID000104_Walk2.csv</td>\n",
       "      <td>T0_ID000104_SlopeDown.csv</td>\n",
       "      <td>T0_ID000104_SlopeUp.csv</td>\n",
       "      <td>T0_ID000104_Walk1.csv</td>\n",
       "      <td>T0_ID000104_Walk2.csv</td>\n",
       "      <td>T0_ID000104_SlopeDown.csv</td>\n",
       "      <td>T0_ID000104_SlopeUp.csv</td>\n",
       "      <td>T0_Id000104.actLabel</td>\n",
       "      <td>T0_Id000104.actLabel</td>\n",
       "      <td>T0_Id000104.actLabel</td>\n",
       "    </tr>\n",
       "    <tr>\n",
       "      <th>1</th>\n",
       "      <td>002318</td>\n",
       "      <td>0</td>\n",
       "      <td>11</td>\n",
       "      <td>002318</td>\n",
       "      <td>T0_ID002318_Center_seq0.csv</td>\n",
       "      <td>T0_ID002318_Center_seq1.csv</td>\n",
       "      <td>None</td>\n",
       "      <td>None</td>\n",
       "      <td>None</td>\n",
       "      <td>None</td>\n",
       "      <td>...</td>\n",
       "      <td>None</td>\n",
       "      <td>None</td>\n",
       "      <td>None</td>\n",
       "      <td>None</td>\n",
       "      <td>None</td>\n",
       "      <td>None</td>\n",
       "      <td>None</td>\n",
       "      <td>None</td>\n",
       "      <td>None</td>\n",
       "      <td>None</td>\n",
       "    </tr>\n",
       "    <tr>\n",
       "      <th>2</th>\n",
       "      <td>002422</td>\n",
       "      <td>1</td>\n",
       "      <td>9</td>\n",
       "      <td>002422</td>\n",
       "      <td>T0_ID002422_Center_seq0.csv</td>\n",
       "      <td>T0_ID002422_Center_seq1.csv</td>\n",
       "      <td>None</td>\n",
       "      <td>None</td>\n",
       "      <td>None</td>\n",
       "      <td>None</td>\n",
       "      <td>...</td>\n",
       "      <td>None</td>\n",
       "      <td>None</td>\n",
       "      <td>None</td>\n",
       "      <td>None</td>\n",
       "      <td>None</td>\n",
       "      <td>None</td>\n",
       "      <td>None</td>\n",
       "      <td>None</td>\n",
       "      <td>None</td>\n",
       "      <td>None</td>\n",
       "    </tr>\n",
       "    <tr>\n",
       "      <th>3</th>\n",
       "      <td>002526</td>\n",
       "      <td>0</td>\n",
       "      <td>45</td>\n",
       "      <td>002526</td>\n",
       "      <td>T0_ID002526_Center_seq0.csv</td>\n",
       "      <td>T0_ID002526_Center_seq1.csv</td>\n",
       "      <td>None</td>\n",
       "      <td>None</td>\n",
       "      <td>None</td>\n",
       "      <td>None</td>\n",
       "      <td>...</td>\n",
       "      <td>None</td>\n",
       "      <td>None</td>\n",
       "      <td>None</td>\n",
       "      <td>None</td>\n",
       "      <td>None</td>\n",
       "      <td>None</td>\n",
       "      <td>None</td>\n",
       "      <td>None</td>\n",
       "      <td>None</td>\n",
       "      <td>None</td>\n",
       "    </tr>\n",
       "    <tr>\n",
       "      <th>4</th>\n",
       "      <td>002630</td>\n",
       "      <td>0</td>\n",
       "      <td>37</td>\n",
       "      <td>002630</td>\n",
       "      <td>T0_ID002630_Center_seq0.csv</td>\n",
       "      <td>T0_ID002630_Center_seq1.csv</td>\n",
       "      <td>T0_ID002630_Walk1.csv</td>\n",
       "      <td>T0_ID002630_Walk2.csv</td>\n",
       "      <td>T0_ID002630_SlopeDown.csv</td>\n",
       "      <td>T0_ID002630_SlopeUp.csv</td>\n",
       "      <td>...</td>\n",
       "      <td>T0_ID002630_Walk2.csv</td>\n",
       "      <td>T0_ID002630_SlopeDown.csv</td>\n",
       "      <td>T0_ID002630_SlopeUp.csv</td>\n",
       "      <td>T0_ID002630_Walk1.csv</td>\n",
       "      <td>T0_ID002630_Walk2.csv</td>\n",
       "      <td>T0_ID002630_SlopeDown.csv</td>\n",
       "      <td>T0_ID002630_SlopeUp.csv</td>\n",
       "      <td>T0_Id002630.actLabel</td>\n",
       "      <td>T0_Id002630.actLabel</td>\n",
       "      <td>T0_Id002630.actLabel</td>\n",
       "    </tr>\n",
       "  </tbody>\n",
       "</table>\n",
       "<p>5 rows × 25 columns</p>\n",
       "</div>"
      ],
      "text/plain": [
       "       ID Gender(0:Female;1:Male) Age adjusted_ID  \\\n",
       "0  000104                       1  33      000104   \n",
       "1  002318                       0  11      002318   \n",
       "2  002422                       1   9      002422   \n",
       "3  002526                       0  45      002526   \n",
       "4  002630                       0  37      002630   \n",
       "\n",
       "  AutomaticExtractionData_IMUZCenter_Walk_1  \\\n",
       "0               T0_ID000104_Center_seq0.csv   \n",
       "1               T0_ID002318_Center_seq0.csv   \n",
       "2               T0_ID002422_Center_seq0.csv   \n",
       "3               T0_ID002526_Center_seq0.csv   \n",
       "4               T0_ID002630_Center_seq0.csv   \n",
       "\n",
       "  AutomaticExtractionData_IMUZCenter_Walk_2  \\\n",
       "0               T0_ID000104_Center_seq1.csv   \n",
       "1               T0_ID002318_Center_seq1.csv   \n",
       "2               T0_ID002422_Center_seq1.csv   \n",
       "3               T0_ID002526_Center_seq1.csv   \n",
       "4               T0_ID002630_Center_seq1.csv   \n",
       "\n",
       "  ManualExtractionData/IMUZCenter_Walk_1  \\\n",
       "0                  T0_ID000104_Walk1.csv   \n",
       "1                                   None   \n",
       "2                                   None   \n",
       "3                                   None   \n",
       "4                  T0_ID002630_Walk1.csv   \n",
       "\n",
       "  ManualExtractionData/IMUZCenter_Walk_2  \\\n",
       "0                  T0_ID000104_Walk2.csv   \n",
       "1                                   None   \n",
       "2                                   None   \n",
       "3                                   None   \n",
       "4                  T0_ID002630_Walk2.csv   \n",
       "\n",
       "  ManualExtractionData/IMUZCenter_SlopeDown  \\\n",
       "0                 T0_ID000104_SlopeDown.csv   \n",
       "1                                      None   \n",
       "2                                      None   \n",
       "3                                      None   \n",
       "4                 T0_ID002630_SlopeDown.csv   \n",
       "\n",
       "  ManualExtractionData/IMUZCenter_SlopeUp            ...             \\\n",
       "0                 T0_ID000104_SlopeUp.csv            ...              \n",
       "1                                    None            ...              \n",
       "2                                    None            ...              \n",
       "3                                    None            ...              \n",
       "4                 T0_ID002630_SlopeUp.csv            ...              \n",
       "\n",
       "  ManualExtractionData/IMUZLeft_Walk_2  \\\n",
       "0                T0_ID000104_Walk2.csv   \n",
       "1                                 None   \n",
       "2                                 None   \n",
       "3                                 None   \n",
       "4                T0_ID002630_Walk2.csv   \n",
       "\n",
       "  ManualExtractionData/IMUZLeft_SlopeDown  \\\n",
       "0               T0_ID000104_SlopeDown.csv   \n",
       "1                                    None   \n",
       "2                                    None   \n",
       "3                                    None   \n",
       "4               T0_ID002630_SlopeDown.csv   \n",
       "\n",
       "  ManualExtractionData/IMUZLeft_SlopeUp ManualExtractionData/Android_Walk_1  \\\n",
       "0               T0_ID000104_SlopeUp.csv               T0_ID000104_Walk1.csv   \n",
       "1                                  None                                None   \n",
       "2                                  None                                None   \n",
       "3                                  None                                None   \n",
       "4               T0_ID002630_SlopeUp.csv               T0_ID002630_Walk1.csv   \n",
       "\n",
       "  ManualExtractionData/Android_Walk_2 ManualExtractionData/Android_SlopeDown  \\\n",
       "0               T0_ID000104_Walk2.csv              T0_ID000104_SlopeDown.csv   \n",
       "1                                None                                   None   \n",
       "2                                None                                   None   \n",
       "3                                None                                   None   \n",
       "4               T0_ID002630_Walk2.csv              T0_ID002630_SlopeDown.csv   \n",
       "\n",
       "  ManualExtractionDataAndroid_SlopeUp SimilarActionLeftSensor  \\\n",
       "0             T0_ID000104_SlopeUp.csv    T0_Id000104.actLabel   \n",
       "1                                None                    None   \n",
       "2                                None                    None   \n",
       "3                                None                    None   \n",
       "4             T0_ID002630_SlopeUp.csv    T0_Id002630.actLabel   \n",
       "\n",
       "  SimilarActionRightSensor SimilarActionCenterSensor  \n",
       "0     T0_Id000104.actLabel      T0_Id000104.actLabel  \n",
       "1                     None                      None  \n",
       "2                     None                      None  \n",
       "3                     None                      None  \n",
       "4     T0_Id002630.actLabel      T0_Id002630.actLabel  \n",
       "\n",
       "[5 rows x 25 columns]"
      ]
     },
     "execution_count": 38,
     "metadata": {
      "tags": []
     },
     "output_type": "execute_result"
    }
   ],
   "source": [
    "label.head()"
   ]
  },
  {
   "cell_type": "code",
   "execution_count": 0,
   "metadata": {
    "_uuid": "4b867237442574b1cad9f54937864e9b0f4a2cac",
    "colab": {},
    "colab_type": "code",
    "collapsed": true,
    "id": "L6zVZO5bX12j"
   },
   "outputs": [],
   "source": [
    "def generate_read_table(fileName,actionName,ID,label): \n",
    "  #try:\n",
    "    dataset_name= fileName + actionName\n",
    "    path_name= fileName +'/'+ str(label[label['ID']==ID][dataset_name].values[0])\n",
    "    if fileName=='ManualExtractionData/Android':\n",
    "      df=pd.read_csv(path_name,skiprows=2)\n",
    "      df.columns=[0,0,0,df.columns.values[3],df.columns.values[4],df.columns.values[5]]\n",
    "      insert_line=pd.DataFrame(df.columns.values).T\n",
    "      df.columns=insert_line.columns\n",
    "      df=pd.concat([insert_line,df],axis=0)\n",
    "    elif fileName == \"SimilarAction\":\n",
    "      df=pd.read_table(actionName + \"/\" + str(label[label['ID']==ID][dataset_name].values[0]) ,skiprows=1)\n",
    "      return df\n",
    "      df.columns=[0,0,0,df.columns.values[3],df.columns.values[4],df.columns.values[5]]\n",
    "      insert_line=pd.DataFrame(df.columns.values).T\n",
    "      df.columns=insert_line.columns\n",
    "      df=pd.concat([insert_line,df],axis=0)\n",
    "    else:\n",
    "      df=pd.read_csv(path_name,skiprows=2)\n",
    "      insert_line=pd.DataFrame(df.columns.values).T\n",
    "      df.columns=insert_line.columns\n",
    "      df=pd.concat([insert_line,df],axis=0)\n",
    "    df.columns=['Gx','Gy','Gz','Ax','Ay','Az']\n",
    "    df = df.astype(float)\n",
    "    return df\n",
    "  #except:\n",
    "    #return None\n",
    "df = generate_read_table( 'AutomaticExtractionData_IMUZCenter','_Walk_1','002318',label)"
   ]
  },
  {
   "cell_type": "code",
   "execution_count": 40,
   "metadata": {
    "_uuid": "5f63a2033fd468f17ce4c17afd84586a2546963c",
    "colab": {
     "base_uri": "https://localhost:8080/",
     "height": 204
    },
    "colab_type": "code",
    "collapsed": false,
    "id": "9vYP5D_PX12m",
    "outputId": "da3794f6-0c7d-41cc-f852-95974c7af77d"
   },
   "outputs": [
    {
     "data": {
      "text/html": [
       "<div>\n",
       "<style scoped>\n",
       "    .dataframe tbody tr th:only-of-type {\n",
       "        vertical-align: middle;\n",
       "    }\n",
       "\n",
       "    .dataframe tbody tr th {\n",
       "        vertical-align: top;\n",
       "    }\n",
       "\n",
       "    .dataframe thead th {\n",
       "        text-align: right;\n",
       "    }\n",
       "</style>\n",
       "<table border=\"1\" class=\"dataframe\">\n",
       "  <thead>\n",
       "    <tr style=\"text-align: right;\">\n",
       "      <th></th>\n",
       "      <th>Gx</th>\n",
       "      <th>Gy</th>\n",
       "      <th>Gz</th>\n",
       "      <th>Ax</th>\n",
       "      <th>Ay</th>\n",
       "      <th>Az</th>\n",
       "    </tr>\n",
       "  </thead>\n",
       "  <tbody>\n",
       "    <tr>\n",
       "      <th>0</th>\n",
       "      <td>0.236353</td>\n",
       "      <td>-0.627744</td>\n",
       "      <td>0.041949</td>\n",
       "      <td>-0.024</td>\n",
       "      <td>-0.826</td>\n",
       "      <td>0.150</td>\n",
       "    </tr>\n",
       "    <tr>\n",
       "      <th>0</th>\n",
       "      <td>0.177763</td>\n",
       "      <td>-0.622424</td>\n",
       "      <td>-0.053925</td>\n",
       "      <td>0.006</td>\n",
       "      <td>-0.834</td>\n",
       "      <td>0.148</td>\n",
       "    </tr>\n",
       "    <tr>\n",
       "      <th>1</th>\n",
       "      <td>0.044605</td>\n",
       "      <td>-0.638404</td>\n",
       "      <td>-0.181756</td>\n",
       "      <td>0.028</td>\n",
       "      <td>-0.824</td>\n",
       "      <td>0.148</td>\n",
       "    </tr>\n",
       "    <tr>\n",
       "      <th>2</th>\n",
       "      <td>-0.045942</td>\n",
       "      <td>-0.670364</td>\n",
       "      <td>-0.309588</td>\n",
       "      <td>0.040</td>\n",
       "      <td>-0.822</td>\n",
       "      <td>0.084</td>\n",
       "    </tr>\n",
       "    <tr>\n",
       "      <th>3</th>\n",
       "      <td>-0.056595</td>\n",
       "      <td>-0.643724</td>\n",
       "      <td>-0.384157</td>\n",
       "      <td>0.060</td>\n",
       "      <td>-0.844</td>\n",
       "      <td>0.026</td>\n",
       "    </tr>\n",
       "  </tbody>\n",
       "</table>\n",
       "</div>"
      ],
      "text/plain": [
       "         Gx        Gy        Gz     Ax     Ay     Az\n",
       "0  0.236353 -0.627744  0.041949 -0.024 -0.826  0.150\n",
       "0  0.177763 -0.622424 -0.053925  0.006 -0.834  0.148\n",
       "1  0.044605 -0.638404 -0.181756  0.028 -0.824  0.148\n",
       "2 -0.045942 -0.670364 -0.309588  0.040 -0.822  0.084\n",
       "3 -0.056595 -0.643724 -0.384157  0.060 -0.844  0.026"
      ]
     },
     "execution_count": 40,
     "metadata": {
      "tags": []
     },
     "output_type": "execute_result"
    }
   ],
   "source": [
    "df.head()"
   ]
  },
  {
   "cell_type": "code",
   "execution_count": 41,
   "metadata": {
    "colab": {
     "base_uri": "https://localhost:8080/",
     "height": 251
    },
    "colab_type": "code",
    "collapsed": false,
    "id": "AFbTRR5Mbm-C",
    "outputId": "e71d82f3-f836-49ec-b56c-ce3541537608"
   },
   "outputs": [
    {
     "data": {
      "text/plain": [
       "['.config',\n",
       " 'CenterSensor',\n",
       " 'Protocols',\n",
       " 'OU-IneritialGaitData.zip',\n",
       " 'RightSensor',\n",
       " 'OU-IneritialGaitActionDataset.zip',\n",
       " 'adc.json',\n",
       " 'LeftSensor',\n",
       " 'AutomaticExtractionData_IMUZCenter',\n",
       " 'PaperProtocol',\n",
       " 'IDGenderAgelist_ig.csv',\n",
       " 'ManualExtractionData',\n",
       " 'sample_data']"
      ]
     },
     "execution_count": 41,
     "metadata": {
      "tags": []
     },
     "output_type": "execute_result"
    }
   ],
   "source": [
    "os.listdir()"
   ]
  },
  {
   "cell_type": "code",
   "execution_count": 0,
   "metadata": {
    "_uuid": "1b012c85c3bf7ba867e050dcc39ebad2b14f3d13",
    "colab": {},
    "colab_type": "code",
    "collapsed": true,
    "id": "-9fIuVKwX12q"
   },
   "outputs": [],
   "source": [
    "df = generate_read_table('SimilarAction','LeftSensor','000104',label)"
   ]
  },
  {
   "cell_type": "code",
   "execution_count": 44,
   "metadata": {
    "_uuid": "e4c872d2f6a727e9f816d2fc347e8dfefd06b96e",
    "colab": {
     "base_uri": "https://localhost:8080/",
     "height": 204
    },
    "colab_type": "code",
    "collapsed": false,
    "id": "exg9jPhOX12u",
    "outputId": "354d23ad-3710-4a44-916f-37c7f0e5de92"
   },
   "outputs": [
    {
     "data": {
      "text/html": [
       "<div>\n",
       "<style scoped>\n",
       "    .dataframe tbody tr th:only-of-type {\n",
       "        vertical-align: middle;\n",
       "    }\n",
       "\n",
       "    .dataframe tbody tr th {\n",
       "        vertical-align: top;\n",
       "    }\n",
       "\n",
       "    .dataframe thead th {\n",
       "        text-align: right;\n",
       "    }\n",
       "</style>\n",
       "<table border=\"1\" class=\"dataframe\">\n",
       "  <thead>\n",
       "    <tr style=\"text-align: right;\">\n",
       "      <th></th>\n",
       "      <th>Gx</th>\n",
       "      <th>Gy</th>\n",
       "      <th>Gz</th>\n",
       "      <th>Ax</th>\n",
       "      <th>Ay</th>\n",
       "      <th>Az</th>\n",
       "      <th>Label</th>\n",
       "    </tr>\n",
       "  </thead>\n",
       "  <tbody>\n",
       "    <tr>\n",
       "      <th>0</th>\n",
       "      <td>-0.024172</td>\n",
       "      <td>-0.454651</td>\n",
       "      <td>0.173332</td>\n",
       "      <td>0.052</td>\n",
       "      <td>-0.770</td>\n",
       "      <td>-0.138</td>\n",
       "      <td>0</td>\n",
       "    </tr>\n",
       "    <tr>\n",
       "      <th>1</th>\n",
       "      <td>-0.018845</td>\n",
       "      <td>-0.433345</td>\n",
       "      <td>0.168006</td>\n",
       "      <td>0.072</td>\n",
       "      <td>-0.766</td>\n",
       "      <td>-0.142</td>\n",
       "      <td>0</td>\n",
       "    </tr>\n",
       "    <tr>\n",
       "      <th>2</th>\n",
       "      <td>0.018439</td>\n",
       "      <td>-0.428019</td>\n",
       "      <td>0.157353</td>\n",
       "      <td>0.110</td>\n",
       "      <td>-0.758</td>\n",
       "      <td>-0.138</td>\n",
       "      <td>0</td>\n",
       "    </tr>\n",
       "    <tr>\n",
       "      <th>3</th>\n",
       "      <td>0.002460</td>\n",
       "      <td>-0.348124</td>\n",
       "      <td>0.104090</td>\n",
       "      <td>0.130</td>\n",
       "      <td>-0.760</td>\n",
       "      <td>-0.134</td>\n",
       "      <td>0</td>\n",
       "    </tr>\n",
       "    <tr>\n",
       "      <th>4</th>\n",
       "      <td>0.055723</td>\n",
       "      <td>-0.273556</td>\n",
       "      <td>0.072132</td>\n",
       "      <td>0.150</td>\n",
       "      <td>-0.780</td>\n",
       "      <td>-0.122</td>\n",
       "      <td>0</td>\n",
       "    </tr>\n",
       "  </tbody>\n",
       "</table>\n",
       "</div>"
      ],
      "text/plain": [
       "         Gx        Gy        Gz     Ax     Ay     Az  Label\n",
       "0 -0.024172 -0.454651  0.173332  0.052 -0.770 -0.138      0\n",
       "1 -0.018845 -0.433345  0.168006  0.072 -0.766 -0.142      0\n",
       "2  0.018439 -0.428019  0.157353  0.110 -0.758 -0.138      0\n",
       "3  0.002460 -0.348124  0.104090  0.130 -0.760 -0.134      0\n",
       "4  0.055723 -0.273556  0.072132  0.150 -0.780 -0.122      0"
      ]
     },
     "execution_count": 44,
     "metadata": {
      "tags": []
     },
     "output_type": "execute_result"
    }
   ],
   "source": [
    "df.head()"
   ]
  },
  {
   "cell_type": "code",
   "execution_count": 0,
   "metadata": {
    "_uuid": "cb9c736886208dbc277e9b5ac2bf463469b2b9a8",
    "colab": {},
    "colab_type": "code",
    "collapsed": true,
    "id": "7Vx28BlrX12z"
   },
   "outputs": [],
   "source": [
    "import random\n",
    "import math\n",
    "\n",
    "def yipeng_preprocessing(raw_data, length):\n",
    "            \n",
    "  # Data augmentation\n",
    "  if raw_data.shape[0] > length:\n",
    "    #data = raw_data[0:length] # Cut the data\n",
    "    start_index = random.randrange(len(raw_data) - (length))\n",
    "    data = raw_data[start_index: start_index + length]\n",
    "  else:\n",
    "    period = math.ceil(length / raw_data.shape[0])\n",
    "    temp = np.copy(raw_data)\n",
    "    # copy the data periodic\n",
    "    for i in range(period-1):\n",
    "      temp = np.row_stack((temp, raw_data))\n",
    "      data = (temp[0:length]) # Cut the data\n",
    "            \n",
    "  return data"
   ]
  },
  {
   "cell_type": "code",
   "execution_count": 0,
   "metadata": {
    "_uuid": "99c35b840b2d936be4ddac65a1a9385058226add",
    "colab": {},
    "colab_type": "code",
    "collapsed": true,
    "id": "H7mBWaB4X124"
   },
   "outputs": [],
   "source": [
    "import copy\n",
    "\n",
    "df = pd.read_csv('./IDGenderAgelist_ig.csv')\n",
    "ids = df[\"ID\"].values\n",
    "gender = df[\"Gender(0:Female;1:Male)\"].values\n",
    "age = copy.deepcopy(df[\"Age\"].values)\n",
    "act_age = df[\"Age\"].values"
   ]
  },
  {
   "cell_type": "code",
   "execution_count": 47,
   "metadata": {
    "_uuid": "e0e9b30cc44ece542c62d310e54d5a28cc35fef3",
    "colab": {
     "base_uri": "https://localhost:8080/",
     "height": 35
    },
    "colab_type": "code",
    "collapsed": false,
    "id": "Pq81ug1nX126",
    "outputId": "c27725fe-eef5-4dc9-d478-80d69c8258e3"
   },
   "outputs": [
    {
     "name": "stderr",
     "output_type": "stream",
     "text": [
      "Using TensorFlow backend.\n"
     ]
    }
   ],
   "source": [
    "from keras.utils.np_utils import to_categorical\n",
    "#for i in range(0,40):\n",
    "#    age[(age > (i * 2.5)) & (age <= ((i + 1) * 2.5))] = i\n",
    "#for i in range(0,20):\n",
    "#    age[(age > (i * 5.0)) & (age <= ((i + 1) * 5.0))] = i\n",
    "for i in range(0,10):\n",
    "    age[(age > (i * 10.0)) & (age <= ((i + 1) * 10.0))] = i"
   ]
  },
  {
   "cell_type": "code",
   "execution_count": 48,
   "metadata": {
    "_uuid": "2cc34d538dfa12ef9b5c9094aa5a9c0a00eb4df8",
    "colab": {
     "base_uri": "https://localhost:8080/",
     "height": 405
    },
    "colab_type": "code",
    "collapsed": false,
    "id": "NoGBMnSPX129",
    "outputId": "94f6b6be-ec55-467e-b1b6-cf42cdf131b5"
   },
   "outputs": [
    {
     "data": {
      "text/plain": [
       "(array([214., 150.,  94., 117., 127.,  32.,  19.,  10.]),\n",
       " array([0.   , 0.875, 1.75 , 2.625, 3.5  , 4.375, 5.25 , 6.125, 7.   ]),\n",
       " <a list of 8 Patch objects>)"
      ]
     },
     "execution_count": 48,
     "metadata": {
      "tags": []
     },
     "output_type": "execute_result"
    },
    {
     "data": {
      "image/png": "[encoded data removed]",
      "text/plain": [
       "<Figure size 576x396 with 1 Axes>"
      ]
     },
     "metadata": {
      "tags": []
     },
     "output_type": "display_data"
    }
   ],
   "source": [
    "#plt.hist(age,bins = 32)\n",
    "#plt.hist(age,bins = 16)\n",
    "plt.hist(age,bins = 8)"
   ]
  },
  {
   "cell_type": "code",
   "execution_count": 49,
   "metadata": {
    "_uuid": "31fdc4b603149a2a9570a93ba1394935d4c31bf6",
    "colab": {
     "base_uri": "https://localhost:8080/",
     "height": 35
    },
    "colab_type": "code",
    "collapsed": false,
    "id": "4W58sQ4ZX13A",
    "outputId": "b277bc16-3cdd-451f-fe8a-a49563363097"
   },
   "outputs": [
    {
     "data": {
      "text/plain": [
       "(763, 8)"
      ]
     },
     "execution_count": 49,
     "metadata": {
      "tags": []
     },
     "output_type": "execute_result"
    }
   ],
   "source": [
    "to_categorical(age).shape"
   ]
  },
  {
   "cell_type": "code",
   "execution_count": 50,
   "metadata": {
    "_uuid": "08230eed5af6009e6c1cd8cff48fd3ab2e6b47a9",
    "colab": {
     "base_uri": "https://localhost:8080/",
     "height": 204
    },
    "colab_type": "code",
    "collapsed": false,
    "id": "tbm2OH28X13I",
    "outputId": "121b8c0d-1756-49bf-9ff2-03d6da96a0f8"
   },
   "outputs": [
    {
     "data": {
      "text/html": [
       "<div>\n",
       "<style scoped>\n",
       "    .dataframe tbody tr th:only-of-type {\n",
       "        vertical-align: middle;\n",
       "    }\n",
       "\n",
       "    .dataframe tbody tr th {\n",
       "        vertical-align: top;\n",
       "    }\n",
       "\n",
       "    .dataframe thead th {\n",
       "        text-align: right;\n",
       "    }\n",
       "</style>\n",
       "<table border=\"1\" class=\"dataframe\">\n",
       "  <thead>\n",
       "    <tr style=\"text-align: right;\">\n",
       "      <th></th>\n",
       "      <th>ID</th>\n",
       "      <th>Gender(0:Female;1:Male)</th>\n",
       "      <th>Age</th>\n",
       "    </tr>\n",
       "  </thead>\n",
       "  <tbody>\n",
       "    <tr>\n",
       "      <th>0</th>\n",
       "      <td>104</td>\n",
       "      <td>1</td>\n",
       "      <td>33</td>\n",
       "    </tr>\n",
       "    <tr>\n",
       "      <th>1</th>\n",
       "      <td>2318</td>\n",
       "      <td>0</td>\n",
       "      <td>11</td>\n",
       "    </tr>\n",
       "    <tr>\n",
       "      <th>2</th>\n",
       "      <td>2422</td>\n",
       "      <td>1</td>\n",
       "      <td>9</td>\n",
       "    </tr>\n",
       "    <tr>\n",
       "      <th>3</th>\n",
       "      <td>2526</td>\n",
       "      <td>0</td>\n",
       "      <td>45</td>\n",
       "    </tr>\n",
       "    <tr>\n",
       "      <th>4</th>\n",
       "      <td>2630</td>\n",
       "      <td>0</td>\n",
       "      <td>37</td>\n",
       "    </tr>\n",
       "  </tbody>\n",
       "</table>\n",
       "</div>"
      ],
      "text/plain": [
       "     ID  Gender(0:Female;1:Male)  Age\n",
       "0   104                        1   33\n",
       "1  2318                        0   11\n",
       "2  2422                        1    9\n",
       "3  2526                        0   45\n",
       "4  2630                        0   37"
      ]
     },
     "execution_count": 50,
     "metadata": {
      "tags": []
     },
     "output_type": "execute_result"
    }
   ],
   "source": [
    "df.head()"
   ]
  },
  {
   "cell_type": "code",
   "execution_count": 1,
   "metadata": {
    "_uuid": "cccc0b849c0c1223bdbdc8dff357888f40595b36",
    "colab": {},
    "colab_type": "code",
    "collapsed": false,
    "id": "V_f9rHw6X13N"
   },
   "outputs": [
    {
     "name": "stderr",
     "output_type": "stream",
     "text": [
      "/home/takuya/anaconda3/lib/python3.5/site-packages/h5py/__init__.py:36: FutureWarning: Conversion of the second argument of issubdtype from `float` to `np.floating` is deprecated. In future, it will be treated as `np.float64 == np.dtype(float).type`.\n",
      "  from ._conv import register_converters as _register_converters\n",
      "Using TensorFlow backend.\n"
     ]
    }
   ],
   "source": [
    "from keras.models import Sequential, Model\n",
    "from keras.layers import Input, LSTM, Bidirectional, Dropout, Flatten, Dense, TimeDistributed, GlobalMaxPooling1D, Conv2D, Reshape, Activation, Add, BatchNormalization\n",
    "from keras.layers.advanced_activations import LeakyReLU\n",
    "from keras.layers.convolutional import Conv1D, UpSampling1D\n",
    "from keras.layers.pooling import MaxPooling1D\n",
    "from keras.losses import categorical_crossentropy, binary_crossentropy, mae\n",
    "from keras.layers.merge import concatenate\n",
    "from keras.optimizers import SGD\n",
    "\n",
    "#Deep Convoluional LSTM model\n",
    "\n",
    "def get_model(n_timesteps):\n",
    "    \n",
    "  inputs_acel = Input(shape=(n_timesteps,3,))\n",
    "  x1 = Conv1D(256, 11, padding='same', activation='relu')(inputs_acel)\n",
    "  x1 = BatchNormalization()(x1)\n",
    "  x1 = MaxPooling1D(2, padding='same')(x1)\n",
    "  \n",
    "  inputs_gylo = Input(shape=(n_timesteps,3,))\n",
    "  x2 = Conv1D(256, 11, padding='same', activation='relu')(inputs_gylo)\n",
    "  x2 = BatchNormalization()(x2)\n",
    "  x2 = MaxPooling1D(2, padding='same')(x2)\n",
    "\n",
    "  x = concatenate([x1, x2])\n",
    "\n",
    "  x = Conv1D(256, 11, padding='same', activation='relu')(x)\n",
    "  x = BatchNormalization()(x)\n",
    "  x = MaxPooling1D(2, padding='same')(x)\n",
    "  x = Conv1D(128, 11, padding='same', activation='relu')(x)\n",
    "  x = BatchNormalization()(x)\n",
    "  x = Conv1D(64, 11, padding='same', activation='relu')(x)\n",
    "  x = BatchNormalization()(x)\n",
    "  x = Bidirectional(LSTM(100,return_sequences=True))(x)\n",
    "  x = Bidirectional(LSTM(100))(x)\n",
    "  x = Dropout(0.5)(x)\n",
    "  \n",
    "  x_gender = Dense(100, activation='relu')(x)\n",
    "  gender = Dense(1, activation='sigmoid',name='gender')(x_gender)\n",
    "  \n",
    "  x_age = Dense(100, activation='relu')(x)\n",
    "  age = Dense(8, activation='softmax',name='age')(x_age)\n",
    "    \n",
    "  inputs = [inputs_acel, inputs_gylo]\n",
    "  outputs = [gender, age]\n",
    "  \n",
    "  model = Model(inputs=inputs, outputs = outputs)\n",
    "  sgd = SGD(lr=0.01, decay=1e-6, momentum=0.9, nesterov=True)\n",
    "\n",
    "  model.compile(loss={'gender': binary_crossentropy, 'age': categorical_crossentropy},\n",
    "                  loss_weights={'gender': 0.50, 'age': 0.50},\n",
    "                optimizer= \"adam\", metrics=['accuracy'])\n",
    "  return model "
   ]
  },
  {
   "cell_type": "code",
   "execution_count": 2,
   "metadata": {
    "colab": {
     "base_uri": "https://localhost:8080/",
     "height": 1637
    },
    "colab_type": "code",
    "collapsed": false,
    "id": "PXPOQq5cX13U",
    "outputId": "79dca82e-27e6-4737-c7a2-984bb77d7a88"
   },
   "outputs": [
    {
     "data": {
      "image/svg+xml": [
       "<svg height=\"1213pt\" viewBox=\"0.00 0.00 546.00 1213.00\" width=\"546pt\" xmlns=\"http://www.w3.org/2000/svg\" xmlns:xlink=\"http://www.w3.org/1999/xlink\">\n",
       "<g class=\"graph\" id=\"graph0\" transform=\"scale(1 1) rotate(0) translate(4 1209)\">\n",
       "<title>G</title>\n",
       "<polygon fill=\"#ffffff\" points=\"-4,4 -4,-1209 542,-1209 542,4 -4,4\" stroke=\"transparent\"/>\n",
       "<!-- 139679044469704 -->\n",
       "<g class=\"node\" id=\"node1\">\n",
       "<title>139679044469704</title>\n",
       "<polygon fill=\"none\" points=\"67.5,-1168.5 67.5,-1204.5 192.5,-1204.5 192.5,-1168.5 67.5,-1168.5\" stroke=\"#000000\"/>\n",
       "<text fill=\"#000000\" font-family=\"Times,serif\" font-size=\"14.00\" text-anchor=\"middle\" x=\"130\" y=\"-1182.8\">input_1: InputLayer</text>\n",
       "</g>\n",
       "<!-- 139679044470376 -->\n",
       "<g class=\"node\" id=\"node3\">\n",
       "<title>139679044470376</title>\n",
       "<polygon fill=\"none\" points=\"68.5,-1095.5 68.5,-1131.5 191.5,-1131.5 191.5,-1095.5 68.5,-1095.5\" stroke=\"#000000\"/>\n",
       "<text fill=\"#000000\" font-family=\"Times,serif\" font-size=\"14.00\" text-anchor=\"middle\" x=\"130\" y=\"-1109.8\">conv1d_1: Conv1D</text>\n",
       "</g>\n",
       "<!-- 139679044469704&#45;&gt;139679044470376 -->\n",
       "<g class=\"edge\" id=\"edge1\">\n",
       "<title>139679044469704-&gt;139679044470376</title>\n",
       "<path d=\"M130,-1168.4551C130,-1160.3828 130,-1150.6764 130,-1141.6817\" fill=\"none\" stroke=\"#000000\"/>\n",
       "<polygon fill=\"#000000\" points=\"133.5001,-1141.5903 130,-1131.5904 126.5001,-1141.5904 133.5001,-1141.5903\" stroke=\"#000000\"/>\n",
       "</g>\n",
       "<!-- 139679044254688 -->\n",
       "<g class=\"node\" id=\"node2\">\n",
       "<title>139679044254688</title>\n",
       "<polygon fill=\"none\" points=\"345.5,-1168.5 345.5,-1204.5 470.5,-1204.5 470.5,-1168.5 345.5,-1168.5\" stroke=\"#000000\"/>\n",
       "<text fill=\"#000000\" font-family=\"Times,serif\" font-size=\"14.00\" text-anchor=\"middle\" x=\"408\" y=\"-1182.8\">input_2: InputLayer</text>\n",
       "</g>\n",
       "<!-- 139679044064872 -->\n",
       "<g class=\"node\" id=\"node4\">\n",
       "<title>139679044064872</title>\n",
       "<polygon fill=\"none\" points=\"346.5,-1095.5 346.5,-1131.5 469.5,-1131.5 469.5,-1095.5 346.5,-1095.5\" stroke=\"#000000\"/>\n",
       "<text fill=\"#000000\" font-family=\"Times,serif\" font-size=\"14.00\" text-anchor=\"middle\" x=\"408\" y=\"-1109.8\">conv1d_2: Conv1D</text>\n",
       "</g>\n",
       "<!-- 139679044254688&#45;&gt;139679044064872 -->\n",
       "<g class=\"edge\" id=\"edge2\">\n",
       "<title>139679044254688-&gt;139679044064872</title>\n",
       "<path d=\"M408,-1168.4551C408,-1160.3828 408,-1150.6764 408,-1141.6817\" fill=\"none\" stroke=\"#000000\"/>\n",
       "<polygon fill=\"#000000\" points=\"411.5001,-1141.5903 408,-1131.5904 404.5001,-1141.5904 411.5001,-1141.5903\" stroke=\"#000000\"/>\n",
       "</g>\n",
       "<!-- 139679044470320 -->\n",
       "<g class=\"node\" id=\"node5\">\n",
       "<title>139679044470320</title>\n",
       "<polygon fill=\"none\" points=\"0,-1022.5 0,-1058.5 260,-1058.5 260,-1022.5 0,-1022.5\" stroke=\"#000000\"/>\n",
       "<text fill=\"#000000\" font-family=\"Times,serif\" font-size=\"14.00\" text-anchor=\"middle\" x=\"130\" y=\"-1036.8\">batch_normalization_1: BatchNormalization</text>\n",
       "</g>\n",
       "<!-- 139679044470376&#45;&gt;139679044470320 -->\n",
       "<g class=\"edge\" id=\"edge3\">\n",
       "<title>139679044470376-&gt;139679044470320</title>\n",
       "<path d=\"M130,-1095.4551C130,-1087.3828 130,-1077.6764 130,-1068.6817\" fill=\"none\" stroke=\"#000000\"/>\n",
       "<polygon fill=\"#000000\" points=\"133.5001,-1068.5903 130,-1058.5904 126.5001,-1068.5904 133.5001,-1068.5903\" stroke=\"#000000\"/>\n",
       "</g>\n",
       "<!-- 139679043526608 -->\n",
       "<g class=\"node\" id=\"node6\">\n",
       "<title>139679043526608</title>\n",
       "<polygon fill=\"none\" points=\"278,-1022.5 278,-1058.5 538,-1058.5 538,-1022.5 278,-1022.5\" stroke=\"#000000\"/>\n",
       "<text fill=\"#000000\" font-family=\"Times,serif\" font-size=\"14.00\" text-anchor=\"middle\" x=\"408\" y=\"-1036.8\">batch_normalization_2: BatchNormalization</text>\n",
       "</g>\n",
       "<!-- 139679044064872&#45;&gt;139679043526608 -->\n",
       "<g class=\"edge\" id=\"edge4\">\n",
       "<title>139679044064872-&gt;139679043526608</title>\n",
       "<path d=\"M408,-1095.4551C408,-1087.3828 408,-1077.6764 408,-1068.6817\" fill=\"none\" stroke=\"#000000\"/>\n",
       "<polygon fill=\"#000000\" points=\"411.5001,-1068.5903 408,-1058.5904 404.5001,-1068.5904 411.5001,-1068.5903\" stroke=\"#000000\"/>\n",
       "</g>\n",
       "<!-- 139679044470544 -->\n",
       "<g class=\"node\" id=\"node7\">\n",
       "<title>139679044470544</title>\n",
       "<polygon fill=\"none\" points=\"52.5,-949.5 52.5,-985.5 259.5,-985.5 259.5,-949.5 52.5,-949.5\" stroke=\"#000000\"/>\n",
       "<text fill=\"#000000\" font-family=\"Times,serif\" font-size=\"14.00\" text-anchor=\"middle\" x=\"156\" y=\"-963.8\">max_pooling1d_1: MaxPooling1D</text>\n",
       "</g>\n",
       "<!-- 139679044470320&#45;&gt;139679044470544 -->\n",
       "<g class=\"edge\" id=\"edge5\">\n",
       "<title>139679044470320-&gt;139679044470544</title>\n",
       "<path d=\"M136.427,-1022.4551C139.3645,-1014.2074 142.9097,-1004.2536 146.1712,-995.0962\" fill=\"none\" stroke=\"#000000\"/>\n",
       "<polygon fill=\"#000000\" points=\"149.4987,-996.185 149.5569,-985.5904 142.9045,-993.8364 149.4987,-996.185\" stroke=\"#000000\"/>\n",
       "</g>\n",
       "<!-- 139679040926216 -->\n",
       "<g class=\"node\" id=\"node8\">\n",
       "<title>139679040926216</title>\n",
       "<polygon fill=\"none\" points=\"290.5,-949.5 290.5,-985.5 497.5,-985.5 497.5,-949.5 290.5,-949.5\" stroke=\"#000000\"/>\n",
       "<text fill=\"#000000\" font-family=\"Times,serif\" font-size=\"14.00\" text-anchor=\"middle\" x=\"394\" y=\"-963.8\">max_pooling1d_2: MaxPooling1D</text>\n",
       "</g>\n",
       "<!-- 139679043526608&#45;&gt;139679040926216 -->\n",
       "<g class=\"edge\" id=\"edge6\">\n",
       "<title>139679043526608-&gt;139679040926216</title>\n",
       "<path d=\"M404.5393,-1022.4551C402.9912,-1014.3828 401.1297,-1004.6764 399.4047,-995.6817\" fill=\"none\" stroke=\"#000000\"/>\n",
       "<polygon fill=\"#000000\" points=\"402.7903,-994.7521 397.4694,-985.5904 395.9156,-996.0706 402.7903,-994.7521\" stroke=\"#000000\"/>\n",
       "</g>\n",
       "<!-- 139679040298344 -->\n",
       "<g class=\"node\" id=\"node9\">\n",
       "<title>139679040298344</title>\n",
       "<polygon fill=\"none\" points=\"184,-876.5 184,-912.5 352,-912.5 352,-876.5 184,-876.5\" stroke=\"#000000\"/>\n",
       "<text fill=\"#000000\" font-family=\"Times,serif\" font-size=\"14.00\" text-anchor=\"middle\" x=\"268\" y=\"-890.8\">concatenate_1: Concatenate</text>\n",
       "</g>\n",
       "<!-- 139679044470544&#45;&gt;139679040298344 -->\n",
       "<g class=\"edge\" id=\"edge7\">\n",
       "<title>139679044470544-&gt;139679040298344</title>\n",
       "<path d=\"M183.6854,-949.4551C198.224,-939.979 216.218,-928.2508 231.8442,-918.0658\" fill=\"none\" stroke=\"#000000\"/>\n",
       "<polygon fill=\"#000000\" points=\"233.7785,-920.983 240.2449,-912.5904 229.9562,-915.1186 233.7785,-920.983\" stroke=\"#000000\"/>\n",
       "</g>\n",
       "<!-- 139679040926216&#45;&gt;139679040298344 -->\n",
       "<g class=\"edge\" id=\"edge8\">\n",
       "<title>139679040926216-&gt;139679040298344</title>\n",
       "<path d=\"M362.8539,-949.4551C346.3465,-939.8912 325.8796,-928.0334 308.1876,-917.7833\" fill=\"none\" stroke=\"#000000\"/>\n",
       "<polygon fill=\"#000000\" points=\"309.6318,-914.575 299.2245,-912.5904 306.1226,-920.6319 309.6318,-914.575\" stroke=\"#000000\"/>\n",
       "</g>\n",
       "<!-- 139679040748008 -->\n",
       "<g class=\"node\" id=\"node10\">\n",
       "<title>139679040748008</title>\n",
       "<polygon fill=\"none\" points=\"206.5,-803.5 206.5,-839.5 329.5,-839.5 329.5,-803.5 206.5,-803.5\" stroke=\"#000000\"/>\n",
       "<text fill=\"#000000\" font-family=\"Times,serif\" font-size=\"14.00\" text-anchor=\"middle\" x=\"268\" y=\"-817.8\">conv1d_3: Conv1D</text>\n",
       "</g>\n",
       "<!-- 139679040298344&#45;&gt;139679040748008 -->\n",
       "<g class=\"edge\" id=\"edge9\">\n",
       "<title>139679040298344-&gt;139679040748008</title>\n",
       "<path d=\"M268,-876.4551C268,-868.3828 268,-858.6764 268,-849.6817\" fill=\"none\" stroke=\"#000000\"/>\n",
       "<polygon fill=\"#000000\" points=\"271.5001,-849.5903 268,-839.5904 264.5001,-849.5904 271.5001,-849.5903\" stroke=\"#000000\"/>\n",
       "</g>\n",
       "<!-- 139679040199816 -->\n",
       "<g class=\"node\" id=\"node11\">\n",
       "<title>139679040199816</title>\n",
       "<polygon fill=\"none\" points=\"138,-730.5 138,-766.5 398,-766.5 398,-730.5 138,-730.5\" stroke=\"#000000\"/>\n",
       "<text fill=\"#000000\" font-family=\"Times,serif\" font-size=\"14.00\" text-anchor=\"middle\" x=\"268\" y=\"-744.8\">batch_normalization_3: BatchNormalization</text>\n",
       "</g>\n",
       "<!-- 139679040748008&#45;&gt;139679040199816 -->\n",
       "<g class=\"edge\" id=\"edge10\">\n",
       "<title>139679040748008-&gt;139679040199816</title>\n",
       "<path d=\"M268,-803.4551C268,-795.3828 268,-785.6764 268,-776.6817\" fill=\"none\" stroke=\"#000000\"/>\n",
       "<polygon fill=\"#000000\" points=\"271.5001,-776.5903 268,-766.5904 264.5001,-776.5904 271.5001,-776.5903\" stroke=\"#000000\"/>\n",
       "</g>\n",
       "<!-- 139679040199872 -->\n",
       "<g class=\"node\" id=\"node12\">\n",
       "<title>139679040199872</title>\n",
       "<polygon fill=\"none\" points=\"164.5,-657.5 164.5,-693.5 371.5,-693.5 371.5,-657.5 164.5,-657.5\" stroke=\"#000000\"/>\n",
       "<text fill=\"#000000\" font-family=\"Times,serif\" font-size=\"14.00\" text-anchor=\"middle\" x=\"268\" y=\"-671.8\">max_pooling1d_3: MaxPooling1D</text>\n",
       "</g>\n",
       "<!-- 139679040199816&#45;&gt;139679040199872 -->\n",
       "<g class=\"edge\" id=\"edge11\">\n",
       "<title>139679040199816-&gt;139679040199872</title>\n",
       "<path d=\"M268,-730.4551C268,-722.3828 268,-712.6764 268,-703.6817\" fill=\"none\" stroke=\"#000000\"/>\n",
       "<polygon fill=\"#000000\" points=\"271.5001,-703.5903 268,-693.5904 264.5001,-703.5904 271.5001,-703.5903\" stroke=\"#000000\"/>\n",
       "</g>\n",
       "<!-- 139679039386792 -->\n",
       "<g class=\"node\" id=\"node13\">\n",
       "<title>139679039386792</title>\n",
       "<polygon fill=\"none\" points=\"206.5,-584.5 206.5,-620.5 329.5,-620.5 329.5,-584.5 206.5,-584.5\" stroke=\"#000000\"/>\n",
       "<text fill=\"#000000\" font-family=\"Times,serif\" font-size=\"14.00\" text-anchor=\"middle\" x=\"268\" y=\"-598.8\">conv1d_4: Conv1D</text>\n",
       "</g>\n",
       "<!-- 139679040199872&#45;&gt;139679039386792 -->\n",
       "<g class=\"edge\" id=\"edge12\">\n",
       "<title>139679040199872-&gt;139679039386792</title>\n",
       "<path d=\"M268,-657.4551C268,-649.3828 268,-639.6764 268,-630.6817\" fill=\"none\" stroke=\"#000000\"/>\n",
       "<polygon fill=\"#000000\" points=\"271.5001,-630.5903 268,-620.5904 264.5001,-630.5904 271.5001,-630.5903\" stroke=\"#000000\"/>\n",
       "</g>\n",
       "<!-- 139679038718024 -->\n",
       "<g class=\"node\" id=\"node14\">\n",
       "<title>139679038718024</title>\n",
       "<polygon fill=\"none\" points=\"138,-511.5 138,-547.5 398,-547.5 398,-511.5 138,-511.5\" stroke=\"#000000\"/>\n",
       "<text fill=\"#000000\" font-family=\"Times,serif\" font-size=\"14.00\" text-anchor=\"middle\" x=\"268\" y=\"-525.8\">batch_normalization_4: BatchNormalization</text>\n",
       "</g>\n",
       "<!-- 139679039386792&#45;&gt;139679038718024 -->\n",
       "<g class=\"edge\" id=\"edge13\">\n",
       "<title>139679039386792-&gt;139679038718024</title>\n",
       "<path d=\"M268,-584.4551C268,-576.3828 268,-566.6764 268,-557.6817\" fill=\"none\" stroke=\"#000000\"/>\n",
       "<polygon fill=\"#000000\" points=\"271.5001,-557.5903 268,-547.5904 264.5001,-557.5904 271.5001,-557.5903\" stroke=\"#000000\"/>\n",
       "</g>\n",
       "<!-- 139679038866432 -->\n",
       "<g class=\"node\" id=\"node15\">\n",
       "<title>139679038866432</title>\n",
       "<polygon fill=\"none\" points=\"206.5,-438.5 206.5,-474.5 329.5,-474.5 329.5,-438.5 206.5,-438.5\" stroke=\"#000000\"/>\n",
       "<text fill=\"#000000\" font-family=\"Times,serif\" font-size=\"14.00\" text-anchor=\"middle\" x=\"268\" y=\"-452.8\">conv1d_5: Conv1D</text>\n",
       "</g>\n",
       "<!-- 139679038718024&#45;&gt;139679038866432 -->\n",
       "<g class=\"edge\" id=\"edge14\">\n",
       "<title>139679038718024-&gt;139679038866432</title>\n",
       "<path d=\"M268,-511.4551C268,-503.3828 268,-493.6764 268,-484.6817\" fill=\"none\" stroke=\"#000000\"/>\n",
       "<polygon fill=\"#000000\" points=\"271.5001,-484.5903 268,-474.5904 264.5001,-484.5904 271.5001,-484.5903\" stroke=\"#000000\"/>\n",
       "</g>\n",
       "<!-- 139679038058568 -->\n",
       "<g class=\"node\" id=\"node16\">\n",
       "<title>139679038058568</title>\n",
       "<polygon fill=\"none\" points=\"138,-365.5 138,-401.5 398,-401.5 398,-365.5 138,-365.5\" stroke=\"#000000\"/>\n",
       "<text fill=\"#000000\" font-family=\"Times,serif\" font-size=\"14.00\" text-anchor=\"middle\" x=\"268\" y=\"-379.8\">batch_normalization_5: BatchNormalization</text>\n",
       "</g>\n",
       "<!-- 139679038866432&#45;&gt;139679038058568 -->\n",
       "<g class=\"edge\" id=\"edge15\">\n",
       "<title>139679038866432-&gt;139679038058568</title>\n",
       "<path d=\"M268,-438.4551C268,-430.3828 268,-420.6764 268,-411.6817\" fill=\"none\" stroke=\"#000000\"/>\n",
       "<polygon fill=\"#000000\" points=\"271.5001,-411.5903 268,-401.5904 264.5001,-411.5904 271.5001,-411.5903\" stroke=\"#000000\"/>\n",
       "</g>\n",
       "<!-- 139679036942488 -->\n",
       "<g class=\"node\" id=\"node17\">\n",
       "<title>139679036942488</title>\n",
       "<polygon fill=\"none\" points=\"133.5,-292.5 133.5,-328.5 402.5,-328.5 402.5,-292.5 133.5,-292.5\" stroke=\"#000000\"/>\n",
       "<text fill=\"#000000\" font-family=\"Times,serif\" font-size=\"14.00\" text-anchor=\"middle\" x=\"268\" y=\"-306.8\">bidirectional_1(lstm_1): Bidirectional(LSTM)</text>\n",
       "</g>\n",
       "<!-- 139679038058568&#45;&gt;139679036942488 -->\n",
       "<g class=\"edge\" id=\"edge16\">\n",
       "<title>139679038058568-&gt;139679036942488</title>\n",
       "<path d=\"M268,-365.4551C268,-357.3828 268,-347.6764 268,-338.6817\" fill=\"none\" stroke=\"#000000\"/>\n",
       "<polygon fill=\"#000000\" points=\"271.5001,-338.5903 268,-328.5904 264.5001,-338.5904 271.5001,-338.5903\" stroke=\"#000000\"/>\n",
       "</g>\n",
       "<!-- 139679000018672 -->\n",
       "<g class=\"node\" id=\"node18\">\n",
       "<title>139679000018672</title>\n",
       "<polygon fill=\"none\" points=\"133.5,-219.5 133.5,-255.5 402.5,-255.5 402.5,-219.5 133.5,-219.5\" stroke=\"#000000\"/>\n",
       "<text fill=\"#000000\" font-family=\"Times,serif\" font-size=\"14.00\" text-anchor=\"middle\" x=\"268\" y=\"-233.8\">bidirectional_2(lstm_2): Bidirectional(LSTM)</text>\n",
       "</g>\n",
       "<!-- 139679036942488&#45;&gt;139679000018672 -->\n",
       "<g class=\"edge\" id=\"edge17\">\n",
       "<title>139679036942488-&gt;139679000018672</title>\n",
       "<path d=\"M268,-292.4551C268,-284.3828 268,-274.6764 268,-265.6817\" fill=\"none\" stroke=\"#000000\"/>\n",
       "<polygon fill=\"#000000\" points=\"271.5001,-265.5903 268,-255.5904 264.5001,-265.5904 271.5001,-265.5903\" stroke=\"#000000\"/>\n",
       "</g>\n",
       "<!-- 139678999370832 -->\n",
       "<g class=\"node\" id=\"node19\">\n",
       "<title>139678999370832</title>\n",
       "<polygon fill=\"none\" points=\"205.5,-146.5 205.5,-182.5 330.5,-182.5 330.5,-146.5 205.5,-146.5\" stroke=\"#000000\"/>\n",
       "<text fill=\"#000000\" font-family=\"Times,serif\" font-size=\"14.00\" text-anchor=\"middle\" x=\"268\" y=\"-160.8\">dropout_1: Dropout</text>\n",
       "</g>\n",
       "<!-- 139679000018672&#45;&gt;139678999370832 -->\n",
       "<g class=\"edge\" id=\"edge18\">\n",
       "<title>139679000018672-&gt;139678999370832</title>\n",
       "<path d=\"M268,-219.4551C268,-211.3828 268,-201.6764 268,-192.6817\" fill=\"none\" stroke=\"#000000\"/>\n",
       "<polygon fill=\"#000000\" points=\"271.5001,-192.5903 268,-182.5904 264.5001,-192.5904 271.5001,-192.5903\" stroke=\"#000000\"/>\n",
       "</g>\n",
       "<!-- 139678996175336 -->\n",
       "<g class=\"node\" id=\"node20\">\n",
       "<title>139678996175336</title>\n",
       "<polygon fill=\"none\" points=\"157,-73.5 157,-109.5 259,-109.5 259,-73.5 157,-73.5\" stroke=\"#000000\"/>\n",
       "<text fill=\"#000000\" font-family=\"Times,serif\" font-size=\"14.00\" text-anchor=\"middle\" x=\"208\" y=\"-87.8\">dense_1: Dense</text>\n",
       "</g>\n",
       "<!-- 139678999370832&#45;&gt;139678996175336 -->\n",
       "<g class=\"edge\" id=\"edge19\">\n",
       "<title>139678999370832-&gt;139678996175336</title>\n",
       "<path d=\"M253.1685,-146.4551C245.9569,-137.6809 237.1583,-126.9759 229.249,-117.353\" fill=\"none\" stroke=\"#000000\"/>\n",
       "<polygon fill=\"#000000\" points=\"231.9224,-115.0934 222.8688,-109.5904 226.5146,-119.5382 231.9224,-115.0934\" stroke=\"#000000\"/>\n",
       "</g>\n",
       "<!-- 139678994898840 -->\n",
       "<g class=\"node\" id=\"node21\">\n",
       "<title>139678994898840</title>\n",
       "<polygon fill=\"none\" points=\"277,-73.5 277,-109.5 379,-109.5 379,-73.5 277,-73.5\" stroke=\"#000000\"/>\n",
       "<text fill=\"#000000\" font-family=\"Times,serif\" font-size=\"14.00\" text-anchor=\"middle\" x=\"328\" y=\"-87.8\">dense_2: Dense</text>\n",
       "</g>\n",
       "<!-- 139678999370832&#45;&gt;139678994898840 -->\n",
       "<g class=\"edge\" id=\"edge20\">\n",
       "<title>139678999370832-&gt;139678994898840</title>\n",
       "<path d=\"M282.8315,-146.4551C290.0431,-137.6809 298.8417,-126.9759 306.751,-117.353\" fill=\"none\" stroke=\"#000000\"/>\n",
       "<polygon fill=\"#000000\" points=\"309.4854,-119.5382 313.1312,-109.5904 304.0776,-115.0934 309.4854,-119.5382\" stroke=\"#000000\"/>\n",
       "</g>\n",
       "<!-- 139678994710480 -->\n",
       "<g class=\"node\" id=\"node22\">\n",
       "<title>139678994710480</title>\n",
       "<polygon fill=\"none\" points=\"160.5,-.5 160.5,-36.5 255.5,-36.5 255.5,-.5 160.5,-.5\" stroke=\"#000000\"/>\n",
       "<text fill=\"#000000\" font-family=\"Times,serif\" font-size=\"14.00\" text-anchor=\"middle\" x=\"208\" y=\"-14.8\">gender: Dense</text>\n",
       "</g>\n",
       "<!-- 139678996175336&#45;&gt;139678994710480 -->\n",
       "<g class=\"edge\" id=\"edge21\">\n",
       "<title>139678996175336-&gt;139678994710480</title>\n",
       "<path d=\"M208,-73.4551C208,-65.3828 208,-55.6764 208,-46.6817\" fill=\"none\" stroke=\"#000000\"/>\n",
       "<polygon fill=\"#000000\" points=\"211.5001,-46.5903 208,-36.5904 204.5001,-46.5904 211.5001,-46.5903\" stroke=\"#000000\"/>\n",
       "</g>\n",
       "<!-- 139678994456360 -->\n",
       "<g class=\"node\" id=\"node23\">\n",
       "<title>139678994456360</title>\n",
       "<polygon fill=\"none\" points=\"289.5,-.5 289.5,-36.5 366.5,-36.5 366.5,-.5 289.5,-.5\" stroke=\"#000000\"/>\n",
       "<text fill=\"#000000\" font-family=\"Times,serif\" font-size=\"14.00\" text-anchor=\"middle\" x=\"328\" y=\"-14.8\">age: Dense</text>\n",
       "</g>\n",
       "<!-- 139678994898840&#45;&gt;139678994456360 -->\n",
       "<g class=\"edge\" id=\"edge22\">\n",
       "<title>139678994898840-&gt;139678994456360</title>\n",
       "<path d=\"M328,-73.4551C328,-65.3828 328,-55.6764 328,-46.6817\" fill=\"none\" stroke=\"#000000\"/>\n",
       "<polygon fill=\"#000000\" points=\"331.5001,-46.5903 328,-36.5904 324.5001,-46.5904 331.5001,-46.5903\" stroke=\"#000000\"/>\n",
       "</g>\n",
       "</g>\n",
       "</svg>"
      ],
      "text/plain": [
       "<IPython.core.display.SVG object>"
      ]
     },
     "execution_count": 2,
     "metadata": {},
     "output_type": "execute_result"
    }
   ],
   "source": [
    "from keras.utils.vis_utils import model_to_dot \n",
    "from IPython.display import SVG\n",
    "\n",
    "model = get_model(1000)\n",
    "SVG(model_to_dot(model).create(prog='dot', format='svg'))"
   ]
  },
  {
   "cell_type": "code",
   "execution_count": 53,
   "metadata": {
    "colab": {
     "base_uri": "https://localhost:8080/",
     "height": 989
    },
    "colab_type": "code",
    "collapsed": false,
    "id": "j4C8o_rOX13Y",
    "outputId": "95fec549-71e4-4df8-fb78-92f3fea4c44a"
   },
   "outputs": [
    {
     "name": "stdout",
     "output_type": "stream",
     "text": [
      "__________________________________________________________________________________________________\n",
      "Layer (type)                    Output Shape         Param #     Connected to                     \n",
      "==================================================================================================\n",
      "input_1 (InputLayer)            (None, 1000, 3)      0                                            \n",
      "__________________________________________________________________________________________________\n",
      "input_2 (InputLayer)            (None, 1000, 3)      0                                            \n",
      "__________________________________________________________________________________________________\n",
      "conv1d_1 (Conv1D)               (None, 1000, 256)    8704        input_1[0][0]                    \n",
      "__________________________________________________________________________________________________\n",
      "conv1d_2 (Conv1D)               (None, 1000, 256)    8704        input_2[0][0]                    \n",
      "__________________________________________________________________________________________________\n",
      "batch_normalization_1 (BatchNor (None, 1000, 256)    1024        conv1d_1[0][0]                   \n",
      "__________________________________________________________________________________________________\n",
      "batch_normalization_2 (BatchNor (None, 1000, 256)    1024        conv1d_2[0][0]                   \n",
      "__________________________________________________________________________________________________\n",
      "max_pooling1d_1 (MaxPooling1D)  (None, 500, 256)     0           batch_normalization_1[0][0]      \n",
      "__________________________________________________________________________________________________\n",
      "max_pooling1d_2 (MaxPooling1D)  (None, 500, 256)     0           batch_normalization_2[0][0]      \n",
      "__________________________________________________________________________________________________\n",
      "concatenate_1 (Concatenate)     (None, 500, 512)     0           max_pooling1d_1[0][0]            \n",
      "                                                                 max_pooling1d_2[0][0]            \n",
      "__________________________________________________________________________________________________\n",
      "conv1d_3 (Conv1D)               (None, 500, 256)     1442048     concatenate_1[0][0]              \n",
      "__________________________________________________________________________________________________\n",
      "batch_normalization_3 (BatchNor (None, 500, 256)     1024        conv1d_3[0][0]                   \n",
      "__________________________________________________________________________________________________\n",
      "max_pooling1d_3 (MaxPooling1D)  (None, 250, 256)     0           batch_normalization_3[0][0]      \n",
      "__________________________________________________________________________________________________\n",
      "conv1d_4 (Conv1D)               (None, 250, 128)     360576      max_pooling1d_3[0][0]            \n",
      "__________________________________________________________________________________________________\n",
      "batch_normalization_4 (BatchNor (None, 250, 128)     512         conv1d_4[0][0]                   \n",
      "__________________________________________________________________________________________________\n",
      "conv1d_5 (Conv1D)               (None, 250, 64)      90176       batch_normalization_4[0][0]      \n",
      "__________________________________________________________________________________________________\n",
      "batch_normalization_5 (BatchNor (None, 250, 64)      256         conv1d_5[0][0]                   \n",
      "__________________________________________________________________________________________________\n",
      "bidirectional_1 (Bidirectional) (None, 250, 200)     132000      batch_normalization_5[0][0]      \n",
      "__________________________________________________________________________________________________\n",
      "bidirectional_2 (Bidirectional) (None, 200)          240800      bidirectional_1[0][0]            \n",
      "__________________________________________________________________________________________________\n",
      "dropout_1 (Dropout)             (None, 200)          0           bidirectional_2[0][0]            \n",
      "__________________________________________________________________________________________________\n",
      "dense_1 (Dense)                 (None, 100)          20100       dropout_1[0][0]                  \n",
      "__________________________________________________________________________________________________\n",
      "dense_2 (Dense)                 (None, 100)          20100       dropout_1[0][0]                  \n",
      "__________________________________________________________________________________________________\n",
      "gender (Dense)                  (None, 1)            101         dense_1[0][0]                    \n",
      "__________________________________________________________________________________________________\n",
      "age (Dense)                     (None, 8)            808         dense_2[0][0]                    \n",
      "==================================================================================================\n",
      "Total params: 2,327,957\n",
      "Trainable params: 2,326,037\n",
      "Non-trainable params: 1,920\n",
      "__________________________________________________________________________________________________\n"
     ]
    }
   ],
   "source": [
    "model.summary()"
   ]
  },
  {
   "cell_type": "code",
   "execution_count": 0,
   "metadata": {
    "_uuid": "e049bd444d6a72adfb1c239b05a80ef5cceb7e60",
    "colab": {},
    "colab_type": "code",
    "collapsed": true,
    "id": "c8kVMFy3X13c"
   },
   "outputs": [],
   "source": [
    "def get_max(y_pred):\n",
    "    for i in range(len(y_pred)):\n",
    "        temp = y_pred[i]\n",
    "        temp[np.argmax(temp)] = 1\n",
    "        temp[temp != 1] = 0\n",
    "        y_pred[i] = temp\n",
    "    return y_pred"
   ]
  },
  {
   "cell_type": "code",
   "execution_count": 56,
   "metadata": {
    "_uuid": "3caa212bb9a66a6e95587697504f5d59a9398b28",
    "colab": {
     "base_uri": "https://localhost:8080/",
     "height": 1927
    },
    "colab_type": "code",
    "collapsed": false,
    "id": "D1QWmLRmX13h",
    "outputId": "5e48ab43-3879-4daa-ca7b-90bc24fc0cda",
    "scrolled": true
   },
   "outputs": [
    {
     "name": "stderr",
     "output_type": "stream",
     "text": [
      "  0%|          | 1/549 [00:00<00:58,  9.42it/s]"
     ]
    },
    {
     "name": "stdout",
     "output_type": "stream",
     "text": [
      "TRAIN: 610 TEST: 153\n"
     ]
    },
    {
     "name": "stderr",
     "output_type": "stream",
     "text": [
      "100%|██████████| 549/549 [00:42<00:00, 12.79it/s]\n",
      "100%|██████████| 61/61 [00:01<00:00, 46.20it/s]\n",
      "100%|██████████| 153/153 [00:03<00:00, 50.33it/s]\n"
     ]
    },
    {
     "name": "stdout",
     "output_type": "stream",
     "text": [
      "Train size: 108278\n",
      "Valid size: 8406\n",
      "Test size: 20079\n",
      "Train on 108278 samples, validate on 8406 samples\n",
      "Epoch 1/5\n",
      "108278/108278 [==============================] - 145s 1ms/step - loss: 0.9450 - gender_loss: 0.4393 - age_loss: 1.4506 - gender_acc: 0.7823 - age_acc: 0.4322 - val_loss: 1.1731 - val_gender_loss: 0.4853 - val_age_loss: 1.8609 - val_gender_acc: 0.7697 - val_age_acc: 0.3552\n",
      "Epoch 2/5\n",
      "108278/108278 [==============================] - 136s 1ms/step - loss: 0.6429 - gender_loss: 0.2875 - age_loss: 0.9983 - gender_acc: 0.8710 - age_acc: 0.6212 - val_loss: 1.2623 - val_gender_loss: 0.5488 - val_age_loss: 1.9758 - val_gender_acc: 0.7700 - val_age_acc: 0.3602\n",
      "Epoch 3/5\n",
      "108278/108278 [==============================] - 135s 1ms/step - loss: 0.4667 - gender_loss: 0.2191 - age_loss: 0.7142 - gender_acc: 0.9043 - age_acc: 0.7402 - val_loss: 1.3450 - val_gender_loss: 0.5414 - val_age_loss: 2.1486 - val_gender_acc: 0.7753 - val_age_acc: 0.3495\n",
      "Epoch 4/5\n",
      "108278/108278 [==============================] - 135s 1ms/step - loss: 0.3567 - gender_loss: 0.1731 - age_loss: 0.5403 - gender_acc: 0.9261 - age_acc: 0.8063 - val_loss: 1.3993 - val_gender_loss: 0.5884 - val_age_loss: 2.2102 - val_gender_acc: 0.7771 - val_age_acc: 0.3969\n",
      "Epoch 5/5\n",
      "108278/108278 [==============================] - 135s 1ms/step - loss: 0.2856 - gender_loss: 0.1409 - age_loss: 0.4302 - gender_acc: 0.9408 - age_acc: 0.8472 - val_loss: 1.5575 - val_gender_loss: 0.7334 - val_age_loss: 2.3815 - val_gender_acc: 0.7690 - val_age_acc: 0.3904\n"
     ]
    },
    {
     "name": "stderr",
     "output_type": "stream",
     "text": [
      "\r",
      "  0%|          | 0/549 [00:00<?, ?it/s]"
     ]
    },
    {
     "name": "stdout",
     "output_type": "stream",
     "text": [
      "0.7612456747404844\n",
      "7.68146481740228\n",
      "7.267707295177621\n",
      "TRAIN: 610 TEST: 153\n"
     ]
    },
    {
     "name": "stderr",
     "output_type": "stream",
     "text": [
      "100%|██████████| 549/549 [00:53<00:00, 10.14it/s]\n",
      "100%|██████████| 61/61 [00:01<00:00, 45.28it/s]\n",
      "100%|██████████| 153/153 [00:02<00:00, 75.63it/s]\n"
     ]
    },
    {
     "name": "stdout",
     "output_type": "stream",
     "text": [
      "Train size: 121392\n",
      "Valid size: 8262\n",
      "Test size: 10422\n",
      "Train on 121392 samples, validate on 8262 samples\n",
      "Epoch 1/5\n",
      "121392/121392 [==============================] - 156s 1ms/step - loss: 0.9338 - gender_loss: 0.4506 - age_loss: 1.4169 - gender_acc: 0.7732 - age_acc: 0.4501 - val_loss: 1.1585 - val_gender_loss: 0.5034 - val_age_loss: 1.8137 - val_gender_acc: 0.7511 - val_age_acc: 0.3521\n",
      "Epoch 2/5\n",
      "121392/121392 [==============================] - 152s 1ms/step - loss: 0.6318 - gender_loss: 0.3020 - age_loss: 0.9616 - gender_acc: 0.8628 - age_acc: 0.6462 - val_loss: 1.2908 - val_gender_loss: 0.5515 - val_age_loss: 2.0301 - val_gender_acc: 0.7624 - val_age_acc: 0.3819\n",
      "Epoch 3/5\n",
      "121392/121392 [==============================] - 152s 1ms/step - loss: 0.4582 - gender_loss: 0.2302 - age_loss: 0.6861 - gender_acc: 0.8986 - age_acc: 0.7523 - val_loss: 1.3489 - val_gender_loss: 0.5951 - val_age_loss: 2.1026 - val_gender_acc: 0.7541 - val_age_acc: 0.3763\n",
      "Epoch 4/5\n",
      "121392/121392 [==============================] - 151s 1ms/step - loss: 0.3589 - gender_loss: 0.1869 - age_loss: 0.5308 - gender_acc: 0.9202 - age_acc: 0.8098 - val_loss: 1.5290 - val_gender_loss: 0.6502 - val_age_loss: 2.4079 - val_gender_acc: 0.7507 - val_age_acc: 0.3839\n",
      "Epoch 5/5\n",
      "121392/121392 [==============================] - 152s 1ms/step - loss: 0.2907 - gender_loss: 0.1537 - age_loss: 0.4277 - gender_acc: 0.9350 - age_acc: 0.8466 - val_loss: 1.7056 - val_gender_loss: 0.6990 - val_age_loss: 2.7121 - val_gender_acc: 0.7433 - val_age_acc: 0.3492\n"
     ]
    },
    {
     "name": "stderr",
     "output_type": "stream",
     "text": [
      "\r",
      "  0%|          | 0/549 [00:00<?, ?it/s]"
     ]
    },
    {
     "name": "stdout",
     "output_type": "stream",
     "text": [
      "0.86\n",
      "6.743590963926755\n",
      "6.899952998189414\n",
      "TRAIN: 610 TEST: 153\n"
     ]
    },
    {
     "name": "stderr",
     "output_type": "stream",
     "text": [
      "100%|██████████| 549/549 [00:41<00:00, 13.10it/s]\n",
      "100%|██████████| 61/61 [00:01<00:00, 56.50it/s]\n",
      "100%|██████████| 153/153 [00:03<00:00, 46.70it/s]\n"
     ]
    },
    {
     "name": "stdout",
     "output_type": "stream",
     "text": [
      "Train size: 109870\n",
      "Valid size: 6555\n",
      "Test size: 20565\n",
      "Train on 109870 samples, validate on 6555 samples\n",
      "Epoch 1/5\n",
      "109870/109870 [==============================] - 142s 1ms/step - loss: 0.9331 - gender_loss: 0.4578 - age_loss: 1.4084 - gender_acc: 0.7674 - age_acc: 0.4506 - val_loss: 1.1512 - val_gender_loss: 0.5601 - val_age_loss: 1.7423 - val_gender_acc: 0.7217 - val_age_acc: 0.3661\n",
      "Epoch 2/5\n",
      "109870/109870 [==============================] - 137s 1ms/step - loss: 0.6344 - gender_loss: 0.3045 - age_loss: 0.9643 - gender_acc: 0.8610 - age_acc: 0.6399 - val_loss: 1.1658 - val_gender_loss: 0.5457 - val_age_loss: 1.7859 - val_gender_acc: 0.7472 - val_age_acc: 0.3858\n",
      "Epoch 3/5\n",
      "109870/109870 [==============================] - 137s 1ms/step - loss: 0.4555 - gender_loss: 0.2294 - age_loss: 0.6815 - gender_acc: 0.8999 - age_acc: 0.7525 - val_loss: 1.2416 - val_gender_loss: 0.5300 - val_age_loss: 1.9532 - val_gender_acc: 0.7712 - val_age_acc: 0.3774\n",
      "Epoch 4/5\n",
      "109870/109870 [==============================] - 137s 1ms/step - loss: 0.3498 - gender_loss: 0.1820 - age_loss: 0.5176 - gender_acc: 0.9213 - age_acc: 0.8142 - val_loss: 1.5249 - val_gender_loss: 0.6151 - val_age_loss: 2.4347 - val_gender_acc: 0.7776 - val_age_acc: 0.3687\n",
      "Epoch 5/5\n",
      "109870/109870 [==============================] - 137s 1ms/step - loss: 0.2802 - gender_loss: 0.1472 - age_loss: 0.4132 - gender_acc: 0.9371 - age_acc: 0.8523 - val_loss: 1.4724 - val_gender_loss: 0.6004 - val_age_loss: 2.3443 - val_gender_acc: 0.7713 - val_age_acc: 0.3786\n"
     ]
    },
    {
     "name": "stderr",
     "output_type": "stream",
     "text": [
      "\r",
      "  0%|          | 0/549 [00:00<?, ?it/s]"
     ]
    },
    {
     "name": "stdout",
     "output_type": "stream",
     "text": [
      "0.8873239436619719\n",
      "8.943833162164921\n",
      "8.779133579243478\n",
      "TRAIN: 610 TEST: 153\n"
     ]
    },
    {
     "name": "stderr",
     "output_type": "stream",
     "text": [
      "100%|██████████| 549/549 [00:38<00:00, 14.15it/s]\n",
      "100%|██████████| 61/61 [00:01<00:00, 57.47it/s]\n",
      "100%|██████████| 153/153 [00:03<00:00, 38.57it/s]\n"
     ]
    },
    {
     "name": "stdout",
     "output_type": "stream",
     "text": [
      "Train size: 101237\n",
      "Valid size: 6654\n",
      "Test size: 27312\n",
      "Train on 101237 samples, validate on 6654 samples\n",
      "Epoch 1/5\n",
      "101237/101237 [==============================] - 132s 1ms/step - loss: 0.9449 - gender_loss: 0.4633 - age_loss: 1.4265 - gender_acc: 0.7630 - age_acc: 0.4483 - val_loss: 1.1493 - val_gender_loss: 0.4903 - val_age_loss: 1.8083 - val_gender_acc: 0.7472 - val_age_acc: 0.3437\n",
      "Epoch 2/5\n",
      "101237/101237 [==============================] - 127s 1ms/step - loss: 0.6418 - gender_loss: 0.3070 - age_loss: 0.9765 - gender_acc: 0.8592 - age_acc: 0.6377 - val_loss: 1.3541 - val_gender_loss: 0.5969 - val_age_loss: 2.1114 - val_gender_acc: 0.7373 - val_age_acc: 0.2959\n",
      "Epoch 3/5\n",
      "101237/101237 [==============================] - 126s 1ms/step - loss: 0.4566 - gender_loss: 0.2311 - age_loss: 0.6822 - gender_acc: 0.8981 - age_acc: 0.7557 - val_loss: 1.4347 - val_gender_loss: 0.5838 - val_age_loss: 2.2855 - val_gender_acc: 0.7362 - val_age_acc: 0.3467\n",
      "Epoch 4/5\n",
      "101237/101237 [==============================] - 126s 1ms/step - loss: 0.3462 - gender_loss: 0.1812 - age_loss: 0.5112 - gender_acc: 0.9215 - age_acc: 0.8173 - val_loss: 1.6266 - val_gender_loss: 0.7088 - val_age_loss: 2.5444 - val_gender_acc: 0.7311 - val_age_acc: 0.3233\n",
      "Epoch 5/5\n",
      "101237/101237 [==============================] - 126s 1ms/step - loss: 0.2759 - gender_loss: 0.1466 - age_loss: 0.4053 - gender_acc: 0.9392 - age_acc: 0.8563 - val_loss: 1.6832 - val_gender_loss: 0.6527 - val_age_loss: 2.7136 - val_gender_acc: 0.7391 - val_age_acc: 0.3136\n"
     ]
    },
    {
     "name": "stderr",
     "output_type": "stream",
     "text": [
      "\r",
      "  0%|          | 0/550 [00:00<?, ?it/s]"
     ]
    },
    {
     "name": "stdout",
     "output_type": "stream",
     "text": [
      "0.857487922705314\n",
      "8.548053258940335\n",
      "8.159902233439398\n",
      "TRAIN: 612 TEST: 151\n"
     ]
    },
    {
     "name": "stderr",
     "output_type": "stream",
     "text": [
      "100%|██████████| 550/550 [00:39<00:00, 13.81it/s]\n",
      "100%|██████████| 62/62 [00:01<00:00, 51.33it/s]\n",
      "100%|██████████| 151/151 [00:03<00:00, 48.35it/s]\n"
     ]
    },
    {
     "name": "stdout",
     "output_type": "stream",
     "text": [
      "Train size: 104005\n",
      "Valid size: 7758\n",
      "Test size: 23896\n",
      "Train on 104005 samples, validate on 7758 samples\n",
      "Epoch 1/5\n",
      "104005/104005 [==============================] - 136s 1ms/step - loss: 0.9553 - gender_loss: 0.4741 - age_loss: 1.4365 - gender_acc: 0.7583 - age_acc: 0.4402 - val_loss: 1.1681 - val_gender_loss: 0.4379 - val_age_loss: 1.8984 - val_gender_acc: 0.7918 - val_age_acc: 0.3724\n",
      "Epoch 2/5\n",
      "104005/104005 [==============================] - 131s 1ms/step - loss: 0.6504 - gender_loss: 0.3119 - age_loss: 0.9889 - gender_acc: 0.8600 - age_acc: 0.6255 - val_loss: 1.1718 - val_gender_loss: 0.4317 - val_age_loss: 1.9119 - val_gender_acc: 0.7969 - val_age_acc: 0.3706\n",
      "Epoch 3/5\n",
      "104005/104005 [==============================] - 130s 1ms/step - loss: 0.4643 - gender_loss: 0.2354 - age_loss: 0.6932 - gender_acc: 0.8983 - age_acc: 0.7489 - val_loss: 1.2814 - val_gender_loss: 0.4624 - val_age_loss: 2.1005 - val_gender_acc: 0.7885 - val_age_acc: 0.3904\n",
      "Epoch 4/5\n",
      "104005/104005 [==============================] - 131s 1ms/step - loss: 0.3520 - gender_loss: 0.1831 - age_loss: 0.5210 - gender_acc: 0.9216 - age_acc: 0.8129 - val_loss: 1.4168 - val_gender_loss: 0.5183 - val_age_loss: 2.3153 - val_gender_acc: 0.7860 - val_age_acc: 0.3726\n",
      "Epoch 5/5\n",
      "104005/104005 [==============================] - 131s 1ms/step - loss: 0.2812 - gender_loss: 0.1475 - age_loss: 0.4149 - gender_acc: 0.9383 - age_acc: 0.8527 - val_loss: 1.6060 - val_gender_loss: 0.5788 - val_age_loss: 2.6331 - val_gender_acc: 0.7744 - val_age_acc: 0.3730\n",
      "0.8942857142857142\n",
      "8.311512201047103\n",
      "7.72150421459832\n"
     ]
    }
   ],
   "source": [
    "from tqdm import tqdm\n",
    "from sklearn.metrics import accuracy_score\n",
    "from sklearn.model_selection import train_test_split\n",
    "from keras import backend as K\n",
    "from sklearn.preprocessing import StandardScaler\n",
    "import gc\n",
    "\n",
    "ls_acc = []\n",
    "ls_mae = []\n",
    "ls_mae_2 = []\n",
    "\n",
    "length = 100\n",
    "overlap = 50\n",
    "\n",
    "datasets = label.columns[4:]\n",
    "file_name=['AutomaticExtractionData_IMUZCenter','ManualExtractionData/IMUZCenter','ManualExtractionData/IMUZRight',\n",
    "          'ManualExtractionData/IMUZLeft','ManualExtractionData/Android']\n",
    "action_name=['_Walk_1','_Walk_2','_SlopeDown','_SlopeUp']\n",
    "sensor_loc = [\"CenterSensor\", \"RightSensor\", \"LeftSensor\"]\n",
    "skf = StratifiedKFold(n_splits = 5)\n",
    "\n",
    "for train_index, test_index in skf.split(ids, gender):\n",
    "    print(\"TRAIN:\", len(train_index), \"TEST:\", len(test_index))\n",
    "    ids_train, ids_test = ids[train_index], ids[test_index]\n",
    "    gender_train, gender_test = gender[train_index], gender[test_index]\n",
    "    age_dummy = to_categorical(age)\n",
    "    age_train, age_test = age_dummy[train_index], age_dummy[test_index]\n",
    "    _, act_age_test = act_age[train_index], act_age[test_index]\n",
    "    ids_train, ids_valid, gender_train, gender_valid, age_train, age_valid  = train_test_split(ids_train, gender_train, age_train,  test_size=0.10, random_state=42)\n",
    "    \n",
    "    x_train = []\n",
    "    new_y_train = []\n",
    "    new_gender_train = []\n",
    "    new_age_train = []\n",
    "    for i in tqdm(range(0,len(ids_train))):\n",
    "        subject_id = change_ID_number(str(ids_train[i]))\n",
    "        for k in range(0,len(file_name) - 1):\n",
    "            for l in range(0,len(action_name)):\n",
    "                try:\n",
    "                    df_subject = generate_read_table(file_name[k], action_name[l],subject_id,label)\n",
    "                    sc = StandardScaler()\n",
    "                    df_subject = pd.DataFrame(sc.fit_transform(df_subject))\n",
    "                    start_index = 0\n",
    "                    if(start_index + length < len(df_subject)):\n",
    "                        while(start_index + length < len(df_subject)):\n",
    "                            temp_x = df_subject.values[start_index:start_index + length]\n",
    "                            x_train.append(temp_x)\n",
    "                            new_gender_train.append(gender_train[i])\n",
    "                            new_age_train.append(age_train[i])\n",
    "                            start_index += (length - overlap)\n",
    "                    else:\n",
    "                        df_subject = generate_read_table(path_name,file_name[k], action_name[l],subject_id,label)\n",
    "                        sc = StandardScaler()\n",
    "                        df_subject = pd.DataFrame(sc.fit_transform(df_subject))\n",
    "                        temp_x = yipeng_preprocessing(df_subject.values, length)\n",
    "                        x_train.append(temp_x)\n",
    "                        new_gender_train.append(gender_train[i])\n",
    "                        new_age_train.append(age_train[i])\n",
    "                except: \n",
    "                    continue\n",
    "                \n",
    "        for k in range(0,3):\n",
    "            try:\n",
    "                df_subject = generate_read_table('SimilarAction',sensor_loc[k],subject_id,label)\n",
    "                del df_subject[\"Label\"]\n",
    "                sc = StandardScaler()\n",
    "                df_subject = pd.DataFrame(sc.fit_transform(df_subject))\n",
    "                start_index = 0\n",
    "                while(start_index + length < len(df_subject)):\n",
    "                    temp_x = df_subject.values[start_index :start_index  + length]\n",
    "                    x_train.append(temp_x)\n",
    "                    new_gender_train.append(gender_train[i])\n",
    "                    new_age_train.append(age_train[i])\n",
    "                    start_index += (length - overlap)\n",
    "            except: \n",
    "                continue\n",
    "            \n",
    "    x_valid = []\n",
    "    new_gender_valid = []\n",
    "    new_age_valid = []\n",
    "    \n",
    "    for i in tqdm(range(0,len(ids_valid))):\n",
    "        subject_id = change_ID_number(str(ids_valid[i]))\n",
    "        for k in range(0,3):\n",
    "            try:\n",
    "                df_subject = generate_read_table('SimilarAction',sensor_loc[k],subject_id,label)\n",
    "                del df_subject[\"Label\"]\n",
    "                sc = StandardScaler()\n",
    "                df_subject = pd.DataFrame(sc.fit_transform(df_subject))\n",
    "                start_index = 0\n",
    "                while(start_index + length < len(df_subject)):\n",
    "                    temp_x = df_subject.values[start_index:start_index + length]\n",
    "                    x_valid.append(temp_x)\n",
    "                    new_gender_valid.append(gender_valid[i])\n",
    "                    new_age_valid.append(age_valid[i])\n",
    "                    start_index += (length - overlap)\n",
    "            except:\n",
    "                continue\n",
    "           \n",
    "    x_test = []\n",
    "    new_gender_test = []\n",
    "    new_age_test= []\n",
    "    new_act_age_test = []\n",
    "    ls_count = []\n",
    "    \n",
    "    for i in tqdm(range(0,len(ids_test))):\n",
    "        subject_id = change_ID_number(str(ids_test[i]))\n",
    "        for k in range(0,3):\n",
    "            try:\n",
    "                df_subject = generate_read_table('SimilarAction',sensor_loc[k],subject_id,label)\n",
    "                del df_subject[\"Label\"]\n",
    "                sc = StandardScaler()\n",
    "                df_subject = pd.DataFrame(sc.fit_transform(df_subject))\n",
    "                start_index = 0\n",
    "                c = 0\n",
    "                while(start_index + length < len(df_subject)):\n",
    "                    temp_x = df_subject.values[start_index:start_index + length]\n",
    "                    x_test.append(temp_x)                    \n",
    "                    start_index += (length - overlap)\n",
    "                    c += 1\n",
    "                ls_count.append(c)\n",
    "                new_gender_test.append(gender_test[i])\n",
    "                new_age_test.append(age_test[i])\n",
    "                new_act_age_test.append(act_age_test[i])\n",
    "            except:\n",
    "                continue\n",
    "            \n",
    "    print(\"Train size: \" + str(len(x_train)))\n",
    "    print(\"Valid size: \" + str(len(x_valid)))\n",
    "    print(\"Test size: \" + str(len(x_test)))\n",
    "    x_train = np.array(x_train)\n",
    "    x_valid = np.array(x_valid)\n",
    "    x_test = np.array(x_test)\n",
    "    gender_train = np.array(new_gender_train)\n",
    "    gender_valid = np.array(new_gender_valid)\n",
    "    gender_test = np.array(new_gender_test)\n",
    "    age_train = np.array(new_age_train)\n",
    "    age_valid = np.array(new_age_valid)\n",
    "    age_test = np.array(new_age_test)\n",
    "    act_age_test = np.array(new_act_age_test)\n",
    "        \n",
    "    \n",
    "    del new_gender_train, new_gender_valid, new_gender_test, new_age_train, new_age_valid, new_age_test, new_act_age_test\n",
    "    gc.collect()\n",
    "    \n",
    "    model = get_model(x_train.shape[1])\n",
    "    result = model.fit([x_train[:,:,:3],x_train[:,:,3:]], [gender_train, age_train,],\n",
    "                       validation_data = ([x_valid[:,:,:3],x_valid[:,:,3:]],[gender_valid, age_valid])\n",
    "                       ,epochs= 5, batch_size = 256)\n",
    "    y_pred = model.predict([x_test[:,:,:3],x_test[:,:,3:]])\n",
    "    \n",
    "    gender_pred = []\n",
    "    age_pred = []\n",
    "    c = 0\n",
    "    for i in range(len(ls_count)):\n",
    "        gender_pred.append(y_pred[0][c:c + ls_count[i]].mean())\n",
    "        age_pred.append(np.mean(y_pred[1][c:c + ls_count[i]], axis = 0))\n",
    "        c += ls_count[i]\n",
    "    gender_pred = np.array(gender_pred)\n",
    "    age_pred = np.array(age_pred)\n",
    "    \n",
    "    gender_pred[gender_pred < 0.5] = 0\n",
    "    gender_pred[gender_pred >= 0.5] = 1\n",
    "    print(accuracy_score(gender_pred,gender_test))\n",
    "    ls_acc.append(accuracy_score(gender_pred,gender_test))\n",
    "    \n",
    "    age_pred = []\n",
    "    c = 0\n",
    "    for i in range(len(ls_count)):\n",
    "        mean_age = np.mean(np.sum(np.array(y_pred[1][c:c + ls_count[i]])\n",
    "                                  * (np.array(list(range(0,8))) * 10.0 + 5.0), axis = 1))\n",
    "        age_pred.append(mean_age)\n",
    "        c += ls_count[i]\n",
    "    age_pred = np.array(age_pred)\n",
    "    print(np.mean(abs(act_age_test - age_pred)))\n",
    "    ls_mae.append(np.mean(abs(act_age_test - age_pred)))\n",
    "    \n",
    "    age_pred = []\n",
    "    \n",
    "    c = 0\n",
    "    for i in range(len(ls_count)):\n",
    "            max_pred = np.max(y_pred[1][c:c + ls_count[i]],axis = 1)\n",
    "            dict_pred_age = {}\n",
    "            for j in range(0,len(max_pred)):\n",
    "                dict_pred_age[max_pred[j]] = j\n",
    "            max_pred = np.array(sorted(max_pred,reverse=True))\n",
    "            max_pred = max_pred[max_pred > 0.50]\n",
    "\n",
    "            age_high_conf = []\n",
    "            for j in range(0,len(max_pred)):\n",
    "                age_high_conf.append(dict_pred_age[max_pred[j]])\n",
    "            age_high_conf = np.array(age_high_conf)\n",
    "            temp = y_pred[1][c:c + ls_count[i]]\n",
    "            mean_age = np.mean(np.sum(np.array(temp[age_high_conf])\n",
    "                                                  * (np.array(list(range(0,8))) * 10.0 + 5.0), axis = 1))\n",
    "            age_pred.append(mean_age)\n",
    "            c += ls_count[i]\n",
    "    age_pred = np.array(age_pred)\n",
    "    print(np.mean(abs(act_age_test - age_pred)))\n",
    "    ls_mae_2.append(np.mean(abs(act_age_test - age_pred)))\n",
    "        \n",
    "    K.clear_session()"
   ]
  },
  {
   "cell_type": "code",
   "execution_count": 57,
   "metadata": {
    "_uuid": "d44bae6d8a9a6da73d46946dc13fc08f6c98a559",
    "colab": {
     "base_uri": "https://localhost:8080/",
     "height": 161
    },
    "colab_type": "code",
    "collapsed": false,
    "id": "EGg4XridX13q",
    "outputId": "6d364e69-1cbc-43ba-eb40-e969bd9f8bf4"
   },
   "outputs": [
    {
     "name": "stdout",
     "output_type": "stream",
     "text": [
      "25338\n",
      "20112\n",
      "16532\n",
      "16156\n",
      "15254\n",
      "5871\n",
      "3204\n",
      "1538\n"
     ]
    }
   ],
   "source": [
    "temp = np.argmax(age_train,axis = 1)\n",
    "for i in range(0,8):\n",
    "    print(len(temp[temp == i]))"
   ]
  },
  {
   "cell_type": "code",
   "execution_count": 58,
   "metadata": {
    "_uuid": "0f2aeb95895bb42ee7f8212a6851089e93adff57",
    "colab": {
     "base_uri": "https://localhost:8080/",
     "height": 1259
    },
    "colab_type": "code",
    "collapsed": false,
    "id": "J3OEAgyvX13u",
    "outputId": "1fdad09b-8f15-4771-df37-c2dff73934e2"
   },
   "outputs": [
    {
     "name": "stdout",
     "output_type": "stream",
     "text": [
      "-2.3852223770208023\n",
      "[ -1.34552026  -1.29374897  -7.81897112  -1.74367209  -0.87427412\n",
      "  -1.06121307  -5.5656684   -1.50338767 -13.19101075  -8.12073627\n",
      "  -2.49080385  -2.44321133  -1.86342524  -3.79262473  -1.35966646\n",
      "  -3.03438328  -3.27660186  -0.37979791  -0.91980613  -0.6184003\n",
      "  -3.84661706  -4.61170591  -3.93036423  -5.57408825  -0.54857932\n",
      "  -0.55061066  -1.52937369  -0.3662223   -5.39325298  -4.3064854\n",
      "  -2.79157081  -4.93481611  -1.67127667  -1.33396393  -0.72674787\n",
      "  -3.46079002  -4.57014449  -1.4204015   -1.68450863  -4.12713586\n",
      "  -1.04934504   2.6715568    2.57026206  -0.92384079  -0.93973943\n",
      "  -0.0737714    0.81735647   0.22515308  -2.76325529   0.2800842 ]\n",
      "-5.713310794446032\n",
      "[-22.13979988 -19.75863578 -25.25173904 -16.81131717 -13.30560788\n",
      "  -9.53814126 -13.34550814  -2.38296174  -8.55403394  -3.98176741\n",
      "  -1.55328272  -0.75834859   3.30491748   2.90024129   3.22769424\n",
      "  -7.11558564 -10.48816892 -16.27341282  -4.94848195  -0.97976152\n",
      "  -2.23659044  -4.19058526  -7.20119583 -10.20458117 -14.24159273\n",
      "  -0.87498651  -2.21406712   2.98934488  -2.52643889 -17.41779923\n",
      "  -7.34555608  -4.73682771  -5.33841371  -3.67271925 -10.50231255\n",
      "  -2.32281937 -10.93500543  -6.92005113 -13.13912908 -14.6433961\n",
      "  -9.00531678  -6.79994097  -6.8225489   -8.33362866 -15.12938601\n",
      "  -7.14509076  -7.3818452   -6.62442572  -5.44705845   4.61723865\n",
      "   3.65601434   4.50035226 -16.42657781  -8.13703616  -8.22035081\n",
      "  -6.36308138  -4.7836974   -4.93202303  -4.33997747  -0.5790547\n",
      "  -3.21276296  -1.86810292   1.81767002  -3.59311646  -1.4730243\n",
      "   2.55433655  -0.57576494  -3.83140454  -5.12710449  -2.56549328\n",
      "  -0.95553251  -0.35975126  -1.38842671   1.32963829  -1.97743491\n",
      "  -3.56300493 -17.80213536  -6.89950549 -20.38887435  -7.49232755\n",
      "  -9.43585311 -16.48195798  -1.54476671  -2.48130599   4.71519124\n",
      "  -0.1046603   -1.73968772  -8.598944    -1.74232716  -5.06859525\n",
      "  -1.23959753  -5.6346256   -8.01889831  -1.63206872  -2.34814879\n",
      "   2.43333811   1.22974197]\n",
      "-4.205160274146787\n",
      "[-16.11273699 -10.50349944 -19.27582134 -14.13802189  -3.69503463\n",
      "  -2.11361521 -12.58766631 -12.62451255  -7.87189257  -5.78958233\n",
      "   0.70715242  -0.45867964   6.0339793    5.6770726    7.02902624\n",
      " -10.44615214  -9.33708586  -8.82448997  -5.75497719   2.77693302\n",
      "  -8.1793062   -3.38587609  -3.68567606  -2.15207184   1.1666908\n",
      "   6.57732227  -0.30343609 -11.83323161  -8.50011708 -11.97741753\n",
      "  -8.85937757 -11.55951545  -9.20871989 -11.55981861   1.83600187\n",
      "  -4.52451963   5.63703722   6.53773513   6.75244143  -9.06135295\n",
      "  15.40465109   1.87812747  -3.86967296   0.44390618  -9.49641175]\n",
      "4.9147472768975975\n",
      "[ 0.65834459 12.16880914  6.51874133 -1.85504633  4.51507169  2.82621477\n",
      "  4.12914746  4.46422708  5.90497473  0.27914343 -2.32646402  2.36778103\n",
      " -3.53470701  7.69954284  3.16116917 -1.00511321  1.0944941  -9.25588135\n",
      " 11.70286497  3.22359102  7.76857761 11.54147383 13.62293573 11.55605503\n",
      "  2.34281102  4.78633413 10.57831227 12.16171585  8.69806231 18.15139805\n",
      " -0.99582176  6.26808543 -2.74720701 10.00193966 11.7167091   3.00175628\n",
      " -0.4710259  13.05352243 10.43929064  2.67548296  7.58368143  7.4771657\n",
      "  0.48010612  8.27135177  3.94858183  5.1534363   0.45846939 14.48268946\n",
      " -6.22966847 -0.59508647  2.73407094]\n",
      "10.244051586355296\n",
      "[11.62423572  7.05115451 26.30805059  7.08557552  2.82824056  9.92544498\n",
      "  6.77624915 12.09661532 10.49223369  1.8852438   1.00087556  5.23336034\n",
      "  6.36146948  5.48628893  6.27746313  0.64920055 -2.03580517  6.93335568\n",
      "  9.24384563  2.80323871  7.59258151 21.12510501 18.57827077 17.45483716\n",
      "  0.17632497  4.42506323  1.94230105 32.3134858  32.96030532 35.15382413\n",
      "  9.30386732 10.23240062  3.91691076  8.16690243 10.63067942 16.78666093]\n",
      "16.6977540950053\n",
      "[15.00157285 16.5405382  15.09527715 16.96487264 23.98384508 21.54151436\n",
      " 18.55653889 22.01109734 18.52886909  8.92186027 15.33372663  9.2269834\n",
      " 13.97712947 19.70439301 15.07809303]\n",
      "23.88368034453195\n",
      "[28.65511522 31.59709321 34.4091164  15.21582341 26.60217028 22.43517757\n",
      " 22.41883037 23.84319947 17.80165386 17.54966345  7.14624877 25.64293361\n",
      " 23.11671442 27.55859313 33.13761468 22.81859911 26.31049325 23.64720598]\n",
      "21.48208859457448\n",
      "[17.13535593 24.57483726 22.7360726 ]\n"
     ]
    }
   ],
   "source": [
    "for i in range(0,8):\n",
    "    print(np.mean(act_age_test[(act_age_test > i * 10) & (act_age_test < (i + 1) * 10)]\n",
    "          - age_pred[(act_age_test > i * 10) & (act_age_test < (i + 1) * 10)]))\n",
    "    print(act_age_test[(act_age_test > i * 10) & (act_age_test < (i + 1) * 10)]\n",
    "          - age_pred[(act_age_test > i * 10) & (act_age_test < (i + 1) * 10)])"
   ]
  },
  {
   "cell_type": "code",
   "execution_count": 59,
   "metadata": {
    "_uuid": "f95ff2bcdcfce1b4b01cb4dd32916586d3e88723",
    "colab": {
     "base_uri": "https://localhost:8080/",
     "height": 35
    },
    "colab_type": "code",
    "collapsed": false,
    "id": "8U_cvqd_X13z",
    "outputId": "b627d954-243f-4566-c32d-79fb7f7f1bba"
   },
   "outputs": [
    {
     "name": "stdout",
     "output_type": "stream",
     "text": [
      "7.72150421459832\n"
     ]
    }
   ],
   "source": [
    "age_pred = []\n",
    "c = 0\n",
    "for i in range(len(ls_count)):\n",
    "    max_pred = np.max(y_pred[1][c:c + ls_count[i]],axis = 1)\n",
    "    dict_pred_age = {}\n",
    "    for j in range(0,len(max_pred)):\n",
    "        dict_pred_age[max_pred[j]] = j\n",
    "    max_pred = np.array(sorted(max_pred,reverse=True))\n",
    "    max_pred = max_pred[max_pred > 0.50]\n",
    "    \n",
    "    age_high_conf = []\n",
    "    for j in range(0,len(max_pred)):\n",
    "        age_high_conf.append(dict_pred_age[max_pred[j]])\n",
    "    age_high_conf = np.array(age_high_conf)\n",
    "    temp = y_pred[1][c:c + ls_count[i]]\n",
    "    mean_age = np.mean(np.sum(np.array(temp[age_high_conf])\n",
    "                                          * (np.array(list(range(0,8))) * 10.0 + 5.0), axis = 1))\n",
    "    age_pred.append(mean_age)\n",
    "    c += ls_count[i]\n",
    "age_pred = np.array(age_pred)\n",
    "print(np.mean(abs(act_age_test - age_pred)))"
   ]
  },
  {
   "cell_type": "code",
   "execution_count": 60,
   "metadata": {
    "_uuid": "7fb24593c59a2cc9482b9f829f812ec22937ef1a",
    "colab": {
     "base_uri": "https://localhost:8080/",
     "height": 35
    },
    "colab_type": "code",
    "collapsed": false,
    "id": "FbGG0jBCX132",
    "outputId": "c5cce9a3-6165-4064-ffd6-d33d211a40fe"
   },
   "outputs": [
    {
     "name": "stdout",
     "output_type": "stream",
     "text": [
      "8.311512201047103\n"
     ]
    }
   ],
   "source": [
    "age_pred = []\n",
    "c = 0\n",
    "for i in range(len(ls_count)):\n",
    "        mean_age = np.mean(np.sum(np.array(y_pred[1][c:c + ls_count[i]])\n",
    "                                  * (np.array(list(range(0,8))) * 10.0 + 5.0), axis = 1))\n",
    "        age_pred.append(mean_age)\n",
    "        c += ls_count[i]\n",
    "age_pred = np.array(age_pred)\n",
    "print(np.mean(abs(act_age_test - age_pred)))"
   ]
  },
  {
   "cell_type": "code",
   "execution_count": 61,
   "metadata": {
    "_uuid": "a7f1ada278e1957b56175894b5404f8cf58e98c3",
    "colab": {
     "base_uri": "https://localhost:8080/",
     "height": 349
    },
    "colab_type": "code",
    "collapsed": false,
    "id": "mVTeE33HX137",
    "outputId": "45caca32-d957-45d8-892a-04c2a3048961"
   },
   "outputs": [
    {
     "data": {
      "image/png": "[encoded data removed]",
      "text/plain": [
       "<Figure size 576x396 with 1 Axes>"
      ]
     },
     "metadata": {
      "tags": []
     },
     "output_type": "display_data"
    }
   ],
   "source": [
    "import matplotlib.pyplot as plt\n",
    "plt.boxplot(ls_acc)\n",
    "plt.savefig(\"result_gender\")"
   ]
  },
  {
   "cell_type": "code",
   "execution_count": 62,
   "metadata": {
    "_uuid": "86c1dcf08f00dbf357a9a13fa3f8a2299f24c9ed",
    "colab": {
     "base_uri": "https://localhost:8080/",
     "height": 347
    },
    "colab_type": "code",
    "collapsed": false,
    "id": "_EVXTPjJX13_",
    "outputId": "31f0d560-0615-49c7-fb74-5314ec541abd"
   },
   "outputs": [
    {
     "data": {
      "image/png": "[encoded data removed]",
      "text/plain": [
       "<Figure size 576x396 with 1 Axes>"
      ]
     },
     "metadata": {
      "tags": []
     },
     "output_type": "display_data"
    }
   ],
   "source": [
    "plt.boxplot(ls_mae)\n",
    "plt.savefig(\"result_age\")"
   ]
  },
  {
   "cell_type": "code",
   "execution_count": 63,
   "metadata": {
    "_uuid": "161d9f508fc96063a0e8f8c5a02a2eb16321d727",
    "colab": {
     "base_uri": "https://localhost:8080/",
     "height": 347
    },
    "colab_type": "code",
    "collapsed": false,
    "id": "nWnnYfIWX14E",
    "outputId": "e41f8a11-14bc-40cb-bb6d-9f9ea6b29c6c"
   },
   "outputs": [
    {
     "data": {
      "image/png": "[encoded data removed]",
      "text/plain": [
       "<Figure size 576x396 with 1 Axes>"
      ]
     },
     "metadata": {
      "tags": []
     },
     "output_type": "display_data"
    }
   ],
   "source": [
    "plt.boxplot(ls_mae_2)\n",
    "plt.savefig(\"result_age_2\")"
   ]
  },
  {
   "cell_type": "code",
   "execution_count": 0,
   "metadata": {
    "_uuid": "1f0d248660d4c75ef736d2eb3b9734b9dc10caf0",
    "colab": {},
    "colab_type": "code",
    "collapsed": true,
    "id": "vrbB0QBWX14G"
   },
   "outputs": [],
   "source": []
  }
 ],
 "metadata": {
  "accelerator": "GPU",
  "anaconda-cloud": {},
  "colab": {
   "name": "Multi-input&task_1DConv_LSTM.ipynb",
   "provenance": [],
   "version": "0.3.2"
  },
  "kernelspec": {
   "display_name": "Python [default]",
   "language": "python",
   "name": "python3"
  },
  "language_info": {
   "codemirror_mode": {
    "name": "ipython",
    "version": 3
   },
   "file_extension": ".py",
   "mimetype": "text/x-python",
   "name": "python",
   "nbconvert_exporter": "python",
   "pygments_lexer": "ipython3",
   "version": "3.5.2"
  }
 },
 "nbformat": 4,
 "nbformat_minor": 0
}
