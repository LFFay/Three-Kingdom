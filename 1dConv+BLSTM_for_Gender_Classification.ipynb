{
 "cells": [
  {
   "cell_type": "code",
   "execution_count": 0,
   "metadata": {
    "_cell_guid": "b1076dfc-b9ad-4769-8c92-a6c4dae69d19",
    "_uuid": "8f2839f25d086af736a60e9eeb907d3b93b6e0e5",
    "colab": {},
    "colab_type": "code",
    "collapsed": true,
    "id": "FkXKJOnHat8F"
   },
   "outputs": [],
   "source": [
    "import numpy as np # linear algebra\n",
    "import pandas as pd # data processing, CSV file I/O (e.g. pd.read_csv)\n",
    "import os\n",
    "import matplotlib.pyplot as plt\n",
    "from sklearn.model_selection import StratifiedKFold, KFold\n",
    "from tqdm import tqdm\n",
    "from sklearn.metrics import accuracy_score\n",
    "from sklearn.model_selection import train_test_split\n",
    "from keras.backend import tensorflow_backend as backend\n",
    "import math\n",
    "from sklearn.preprocessing import StandardScaler"
   ]
  },
  {
   "cell_type": "code",
   "execution_count": 0,
   "metadata": {
    "_uuid": "837cb12274a46514d92c94babd1b50f443e67b34",
    "colab": {},
    "colab_type": "code",
    "collapsed": true,
    "id": "oV_yLl6eat8T"
   },
   "outputs": [],
   "source": [
    "def file_name(file_dir): \n",
    "    dic={}\n",
    "    for root, dirs, files in os.walk(file_dir):\n",
    "        dic[root]=files\n",
    "#         print(root) #path\n",
    "#         print(dirs) #subdirectory\n",
    "#         print(files) #files in non-subdirectory\n",
    "    return dic"
   ]
  },
  {
   "cell_type": "code",
   "execution_count": 0,
   "metadata": {
    "_uuid": "7247a03801d02774eb971140fb754a2874aa2f7e",
    "colab": {},
    "colab_type": "code",
    "collapsed": true,
    "id": "yRbZCo6gat8Z"
   },
   "outputs": [],
   "source": [
    "AutomaticExtractionData=file_name(\"AutomaticExtractionData_IMUZCenter\")\n",
    "ManualExtractionData=file_name(\"ManualExtractionData\")\n",
    "ManualExtractionData_name=list(ManualExtractionData.keys())[1:]\n",
    "label=pd.read_csv('./IDGenderAgelist_ig.csv',dtype='object')"
   ]
  },
  {
   "cell_type": "code",
   "execution_count": 0,
   "metadata": {
    "_uuid": "6fc8a981adee398adab0309b3d113dcd79d77ae6",
    "colab": {},
    "colab_type": "code",
    "collapsed": true,
    "id": "_07j2_UJat8e"
   },
   "outputs": [],
   "source": [
    "def change_ID_number(x):\n",
    "    if len(x)==3:\n",
    "        return ('000' + x)\n",
    "    elif len(x)==4:\n",
    "        return ('00' + x)\n",
    "    elif len(x)==5:\n",
    "        return ('0' + x)\n",
    "    else:\n",
    "        return x\n",
    "      \n",
    "label['adjusted_ID']=label['ID'].apply(lambda x: change_ID_number(x))\n",
    "def file_name_with_ID(x,post,ls):\n",
    "    for i in range(len(list(ls))):\n",
    "        if (x == ls[i][5:11] and ls[i][12:]== post):\n",
    "            return(ls[i])"
   ]
  },
  {
   "cell_type": "code",
   "execution_count": 0,
   "metadata": {
    "_uuid": "1519671eb1ec791e86835681502ea6a8df95704b",
    "colab": {},
    "colab_type": "code",
    "collapsed": true,
    "id": "LDfJt5m-at8j"
   },
   "outputs": [],
   "source": [
    "label['AutomaticExtractionData_IMUZCenter_Walk_1']=label['adjusted_ID'].apply(lambda x: \n",
    "                                file_name_with_ID(x,'Center_seq0.csv',list(AutomaticExtractionData.values())[0]))\n",
    "label['AutomaticExtractionData_IMUZCenter_Walk_2']=label['adjusted_ID'].apply(lambda x: \n",
    "                                file_name_with_ID(x,'Center_seq1.csv',list(AutomaticExtractionData.values())[0]))\n",
    "label['ManualExtractionData/IMUZCenter_Walk_1']=label['adjusted_ID'].apply(lambda x: \n",
    "                                file_name_with_ID(x,'Walk1.csv',ManualExtractionData[ManualExtractionData_name[0]]))\n",
    "label['ManualExtractionData/IMUZCenter_Walk_2']=label['adjusted_ID'].apply(lambda x: \n",
    "                                file_name_with_ID(x,'Walk2.csv',ManualExtractionData[ManualExtractionData_name[0]]))\n",
    "label['ManualExtractionData/IMUZCenter_SlopeDown']=label['adjusted_ID'].apply(lambda x: \n",
    "                                file_name_with_ID(x,'SlopeDown.csv',ManualExtractionData[ManualExtractionData_name[0]]))\n",
    "label['ManualExtractionData/IMUZCenter_SlopeUp']=label['adjusted_ID'].apply(lambda x: \n",
    "                                file_name_with_ID(x,'SlopeUp.csv',ManualExtractionData[ManualExtractionData_name[0]]))\n",
    "label['ManualExtractionData/IMUZRight_Walk_1']=label['adjusted_ID'].apply(lambda x: \n",
    "                                file_name_with_ID(x,'Walk1.csv',ManualExtractionData[ManualExtractionData_name[1]]))\n",
    "label['ManualExtractionData/IMUZRight_Walk_2']=label['adjusted_ID'].apply(lambda x: \n",
    "                                file_name_with_ID(x,'Walk2.csv',ManualExtractionData[ManualExtractionData_name[1]]))\n",
    "label['ManualExtractionData/IMUZRight_SlopeDown']=label['adjusted_ID'].apply(lambda x: \n",
    "                                file_name_with_ID(x,'SlopeDown.csv',ManualExtractionData[ManualExtractionData_name[1]]))\n",
    "label['ManualExtractionData/IMUZRight_SlopeUp']=label['adjusted_ID'].apply(lambda x: \n",
    "                                file_name_with_ID(x,'SlopeUp.csv',ManualExtractionData[ManualExtractionData_name[1]]))\n",
    "label['ManualExtractionData/IMUZLeft_Walk_1']=label['adjusted_ID'].apply(lambda x: \n",
    "                                file_name_with_ID(x,'Walk1.csv',ManualExtractionData[ManualExtractionData_name[2]]))\n",
    "label['ManualExtractionData/IMUZLeft_Walk_2']=label['adjusted_ID'].apply(lambda x: \n",
    "                                file_name_with_ID(x,'Walk2.csv',ManualExtractionData[ManualExtractionData_name[2]]))\n",
    "label['ManualExtractionData/IMUZLeft_SlopeDown']=label['adjusted_ID'].apply(lambda x: \n",
    "                                file_name_with_ID(x,'SlopeDown.csv',ManualExtractionData[ManualExtractionData_name[2]]))\n",
    "label['ManualExtractionData/IMUZLeft_SlopeUp']=label['adjusted_ID'].apply(lambda x: \n",
    "                                file_name_with_ID(x,'SlopeUp.csv',ManualExtractionData[ManualExtractionData_name[2]]))\n",
    "label['ManualExtractionData/Android_Walk_1']=label['adjusted_ID'].apply(lambda x: \n",
    "                                file_name_with_ID(x,'Walk1.csv',ManualExtractionData[ManualExtractionData_name[3]]))\n",
    "label['ManualExtractionData/Android_Walk_2']=label['adjusted_ID'].apply(lambda x: \n",
    "                                file_name_with_ID(x,'Walk2.csv',ManualExtractionData[ManualExtractionData_name[3]]))\n",
    "label['ManualExtractionData/Android_SlopeDown']=label['adjusted_ID'].apply(lambda x: \n",
    "                                file_name_with_ID(x,'SlopeDown.csv',ManualExtractionData[ManualExtractionData_name[3]]))\n",
    "label['ManualExtractionData/Android_SlopeUp']=label['adjusted_ID'].apply(lambda x: \n",
    "                                file_name_with_ID(x,'SlopeUp.csv',ManualExtractionData[ManualExtractionData_name[3]]))"
   ]
  },
  {
   "cell_type": "code",
   "execution_count": 0,
   "metadata": {
    "_uuid": "e1de760a111c0a3b606a75de91ed82e23b486fc3",
    "colab": {},
    "colab_type": "code",
    "collapsed": true,
    "id": "WCFZmC06at8o"
   },
   "outputs": [],
   "source": [
    "def generate_read_table(fileName,actionName,ID,label): \n",
    "  try:\n",
    "    dataset_name= fileName + actionName\n",
    "    path_name= fileName +'/'+ str(label[label['ID']==ID][dataset_name].values[0])\n",
    "    if fileName=='ManualExtractionData/Android':\n",
    "      df=pd.read_csv(path_name,skiprows=2)\n",
    "      df.columns=[0,0,0,df.columns.values[3],df.columns.values[4],df.columns.values[5]]\n",
    "      insert_line=pd.DataFrame(df.columns.values).T\n",
    "      df.columns=insert_line.columns\n",
    "      df=pd.concat([insert_line,df],axis=0)\n",
    "    else:\n",
    "      df=pd.read_csv(path_name,skiprows=2)\n",
    "      insert_line=pd.DataFrame(df.columns.values).T\n",
    "      df.columns=insert_line.columns\n",
    "      df=pd.concat([insert_line,df],axis=0)\n",
    "    df.columns=['Gx','Gy','Gz','Ax','Ay','Az']\n",
    "    df = df.astype(float)\n",
    "    return df\n",
    "  except:\n",
    "    return None\n",
    "  \n",
    "  return df\n",
    "df = generate_read_table('AutomaticExtractionData_IMUZCenter','_Walk_1','002318',label)"
   ]
  },
  {
   "cell_type": "code",
   "execution_count": 14,
   "metadata": {
    "_uuid": "01a2348db20eaadcc5a3f78d861f0182095a5f91",
    "colab": {
     "base_uri": "https://localhost:8080/",
     "height": 204
    },
    "colab_type": "code",
    "collapsed": false,
    "id": "3wdjs3NIat8t",
    "outputId": "c06863ff-4b12-49ac-a5dd-ec4490f6b5d7"
   },
   "outputs": [
    {
     "data": {
      "text/html": [
       "<div>\n",
       "<style scoped>\n",
       "    .dataframe tbody tr th:only-of-type {\n",
       "        vertical-align: middle;\n",
       "    }\n",
       "\n",
       "    .dataframe tbody tr th {\n",
       "        vertical-align: top;\n",
       "    }\n",
       "\n",
       "    .dataframe thead th {\n",
       "        text-align: right;\n",
       "    }\n",
       "</style>\n",
       "<table border=\"1\" class=\"dataframe\">\n",
       "  <thead>\n",
       "    <tr style=\"text-align: right;\">\n",
       "      <th></th>\n",
       "      <th>Gx</th>\n",
       "      <th>Gy</th>\n",
       "      <th>Gz</th>\n",
       "      <th>Ax</th>\n",
       "      <th>Ay</th>\n",
       "      <th>Az</th>\n",
       "    </tr>\n",
       "  </thead>\n",
       "  <tbody>\n",
       "    <tr>\n",
       "      <th>0</th>\n",
       "      <td>0.236353</td>\n",
       "      <td>-0.627744</td>\n",
       "      <td>0.041949</td>\n",
       "      <td>-0.024</td>\n",
       "      <td>-0.826</td>\n",
       "      <td>0.150</td>\n",
       "    </tr>\n",
       "    <tr>\n",
       "      <th>0</th>\n",
       "      <td>0.177763</td>\n",
       "      <td>-0.622424</td>\n",
       "      <td>-0.053925</td>\n",
       "      <td>0.006</td>\n",
       "      <td>-0.834</td>\n",
       "      <td>0.148</td>\n",
       "    </tr>\n",
       "    <tr>\n",
       "      <th>1</th>\n",
       "      <td>0.044605</td>\n",
       "      <td>-0.638404</td>\n",
       "      <td>-0.181756</td>\n",
       "      <td>0.028</td>\n",
       "      <td>-0.824</td>\n",
       "      <td>0.148</td>\n",
       "    </tr>\n",
       "    <tr>\n",
       "      <th>2</th>\n",
       "      <td>-0.045942</td>\n",
       "      <td>-0.670364</td>\n",
       "      <td>-0.309588</td>\n",
       "      <td>0.040</td>\n",
       "      <td>-0.822</td>\n",
       "      <td>0.084</td>\n",
       "    </tr>\n",
       "    <tr>\n",
       "      <th>3</th>\n",
       "      <td>-0.056595</td>\n",
       "      <td>-0.643724</td>\n",
       "      <td>-0.384157</td>\n",
       "      <td>0.060</td>\n",
       "      <td>-0.844</td>\n",
       "      <td>0.026</td>\n",
       "    </tr>\n",
       "  </tbody>\n",
       "</table>\n",
       "</div>"
      ],
      "text/plain": [
       "         Gx        Gy        Gz     Ax     Ay     Az\n",
       "0  0.236353 -0.627744  0.041949 -0.024 -0.826  0.150\n",
       "0  0.177763 -0.622424 -0.053925  0.006 -0.834  0.148\n",
       "1  0.044605 -0.638404 -0.181756  0.028 -0.824  0.148\n",
       "2 -0.045942 -0.670364 -0.309588  0.040 -0.822  0.084\n",
       "3 -0.056595 -0.643724 -0.384157  0.060 -0.844  0.026"
      ]
     },
     "execution_count": 14,
     "metadata": {
      "tags": []
     },
     "output_type": "execute_result"
    }
   ],
   "source": [
    "df.head()"
   ]
  },
  {
   "cell_type": "code",
   "execution_count": 0,
   "metadata": {
    "_uuid": "4f0add4209bdadeee0329df0ff3ccf0026951626",
    "colab": {},
    "colab_type": "code",
    "collapsed": true,
    "id": "9QmSRGwMat81"
   },
   "outputs": [],
   "source": [
    "def yipeng_preprocessing(raw_data, target_class, length):\n",
    "            \n",
    "  # Data augmentation\n",
    "  if raw_data.shape[0] > length:\n",
    "    data = raw_data[0:length] # Cut the data\n",
    "  else:\n",
    "    period = math.ceil(length / raw_data.shape[0])\n",
    "    temp = np.copy(raw_data)\n",
    "    # copy the data periodic\n",
    "    for i in range(period-1):\n",
    "      temp = np.row_stack((temp, raw_data))\n",
    "      data = (temp[0:length]) # Cut the data\n",
    "            \n",
    "  return data, target_class"
   ]
  },
  {
   "cell_type": "code",
   "execution_count": 0,
   "metadata": {
    "_uuid": "4bbafae493670d990d0fbceaff023f518a35bfdd",
    "colab": {},
    "colab_type": "code",
    "collapsed": true,
    "id": "l2T23AIzat89"
   },
   "outputs": [],
   "source": [
    "df = pd.read_csv('IDGenderAgelist_ig.csv')\n",
    "ids = df[\"ID\"].values\n",
    "y = df[\"Gender(0:Female;1:Male)\"].values"
   ]
  },
  {
   "cell_type": "code",
   "execution_count": 0,
   "metadata": {
    "colab": {},
    "colab_type": "code",
    "collapsed": true,
    "id": "qLhxfeS7lpmA"
   },
   "outputs": [],
   "source": [
    "from keras.models import Sequential, Model\n",
    "from keras.layers import Input, LSTM, Bidirectional, Dropout, Flatten, Dense, TimeDistributed, GlobalMaxPooling1D, Conv2D, Reshape\n",
    "from keras.layers.convolutional import Conv1D, UpSampling1D\n",
    "from keras.layers.pooling import MaxPooling1D\n",
    "\n",
    "#Deep Convoluional LSTM model\n",
    "\n",
    "def get_model(n_timesteps,n_features):\n",
    "  model = Sequential()\n",
    "  model.add(Conv1D(256, 8, padding='same', input_shape=(n_timesteps, n_features), activation='relu'))\n",
    "  model.add(MaxPooling1D(2, padding='same'))\n",
    "  model.add(Conv1D(256, 8, padding='same', activation='relu'))\n",
    "  model.add(MaxPooling1D(2, padding='same'))\n",
    "  model.add(Conv1D(128, 8, padding='same', activation='relu'))\n",
    "  model.add(Conv1D(64, 8, padding='same', activation='tanh'))\n",
    "  model.add(Bidirectional(LSTM(100,return_sequences=True)))\n",
    "  model.add(Bidirectional(LSTM(100)))\n",
    "  model.add(Dropout(0.5))\n",
    "  #model.add(Flatten())\n",
    "  #model.add(Dense(100, activation='relu'))\n",
    "  model.add(Dense(1, activation='sigmoid'))\n",
    "  model.compile(loss='binary_crossentropy', optimizer='adam', metrics=['accuracy'])\n",
    "  return model"
   ]
  },
  {
   "cell_type": "code",
   "execution_count": 21,
   "metadata": {
    "_uuid": "b57afe87ecdf7af27fa1782ca2532697c3f21bb2",
    "colab": {
     "base_uri": "https://localhost:8080/",
     "height": 899
    },
    "colab_type": "code",
    "collapsed": false,
    "id": "DhATdih7at9J",
    "outputId": "8fb29c4c-b65c-4ea9-c23e-c03ae8aeb8ee"
   },
   "outputs": [
    {
     "name": "stderr",
     "output_type": "stream",
     "text": [
      "  0%|          | 2/549 [00:00<00:48, 11.32it/s]"
     ]
    },
    {
     "name": "stdout",
     "output_type": "stream",
     "text": [
      "TRAIN: 610 TEST: 153\n"
     ]
    },
    {
     "name": "stderr",
     "output_type": "stream",
     "text": [
      "100%|██████████| 549/549 [00:39<00:00, 13.90it/s]\n",
      "100%|██████████| 61/61 [00:04<00:00, 13.43it/s]\n",
      "100%|██████████| 153/153 [00:10<00:00, 14.82it/s]\n"
     ]
    },
    {
     "name": "stdout",
     "output_type": "stream",
     "text": [
      "Train size: 6586\n",
      "Valid size: 726\n",
      "Test size: 1627\n",
      "Train on 6586 samples, validate on 726 samples\n",
      "Epoch 1/20\n",
      "6586/6586 [==============================] - 81s 12ms/step - loss: 0.6933 - acc: 0.5208 - val_loss: 0.6876 - val_acc: 0.5565\n",
      "Epoch 2/20\n",
      "6586/6586 [==============================] - 74s 11ms/step - loss: 0.6810 - acc: 0.5638 - val_loss: 0.6766 - val_acc: 0.5620\n",
      "Epoch 3/20\n",
      "6586/6586 [==============================] - 73s 11ms/step - loss: 0.6337 - acc: 0.6488 - val_loss: 0.5883 - val_acc: 0.6846\n",
      "Epoch 4/20\n",
      "6586/6586 [==============================] - 74s 11ms/step - loss: 0.5514 - acc: 0.7265 - val_loss: 0.5536 - val_acc: 0.7328\n",
      "Epoch 5/20\n",
      "6586/6586 [==============================] - 74s 11ms/step - loss: 0.4829 - acc: 0.7691 - val_loss: 0.5728 - val_acc: 0.7287\n",
      "Epoch 6/20\n",
      "6586/6586 [==============================] - 74s 11ms/step - loss: 0.4450 - acc: 0.7968 - val_loss: 0.5968 - val_acc: 0.6804\n",
      "Epoch 7/20\n",
      "6586/6586 [==============================] - 74s 11ms/step - loss: 0.4185 - acc: 0.8128 - val_loss: 0.4931 - val_acc: 0.7810\n",
      "Epoch 8/20\n",
      "6586/6586 [==============================] - 73s 11ms/step - loss: 0.3639 - acc: 0.8371 - val_loss: 0.5506 - val_acc: 0.7300\n",
      "Epoch 9/20\n",
      "6586/6586 [==============================] - 74s 11ms/step - loss: 0.3283 - acc: 0.8612 - val_loss: 0.5168 - val_acc: 0.7961\n",
      "Epoch 10/20\n",
      "6586/6586 [==============================] - 74s 11ms/step - loss: 0.3225 - acc: 0.8577 - val_loss: 0.5429 - val_acc: 0.7231\n",
      "Epoch 11/20\n",
      "6586/6586 [==============================] - 74s 11ms/step - loss: 0.2629 - acc: 0.8917 - val_loss: 0.5295 - val_acc: 0.7810\n",
      "Epoch 12/20\n",
      "6586/6586 [==============================] - 73s 11ms/step - loss: 0.2059 - acc: 0.9186 - val_loss: 0.6025 - val_acc: 0.7479\n",
      "Epoch 13/20\n",
      "6586/6586 [==============================] - 73s 11ms/step - loss: 0.1633 - acc: 0.9362 - val_loss: 0.6984 - val_acc: 0.7700\n",
      "Epoch 14/20\n",
      "6586/6586 [==============================] - 73s 11ms/step - loss: 0.1278 - acc: 0.9502 - val_loss: 0.7807 - val_acc: 0.7466\n",
      "Epoch 15/20\n",
      "6586/6586 [==============================] - 74s 11ms/step - loss: 0.0858 - acc: 0.9693 - val_loss: 1.1197 - val_acc: 0.7452\n",
      "Epoch 16/20\n",
      "6586/6586 [==============================] - 73s 11ms/step - loss: 0.1119 - acc: 0.9564 - val_loss: 0.8857 - val_acc: 0.7521\n",
      "Epoch 17/20\n",
      "6586/6586 [==============================] - 73s 11ms/step - loss: 0.0770 - acc: 0.9715 - val_loss: 0.9229 - val_acc: 0.7948\n",
      "Epoch 18/20\n",
      "6586/6586 [==============================] - 73s 11ms/step - loss: 0.0407 - acc: 0.9859 - val_loss: 1.0217 - val_acc: 0.7645\n",
      "Epoch 19/20\n",
      "6586/6586 [==============================] - 74s 11ms/step - loss: 0.0444 - acc: 0.9844 - val_loss: 1.1720 - val_acc: 0.7383\n",
      "Epoch 20/20\n",
      "6586/6586 [==============================] - 73s 11ms/step - loss: 0.1019 - acc: 0.9658 - val_loss: 0.9244 - val_acc: 0.7521\n",
      "0.7480024585125998\n"
     ]
    }
   ],
   "source": [
    "num_gen = 3\n",
    "ls_acc = []\n",
    "length = 1000\n",
    "\n",
    "datasets = label.columns[4:]\n",
    "file_name=['AutomaticExtractionData_IMUZCenter','ManualExtractionData/IMUZCenter','ManualExtractionData/IMUZRight',\n",
    "          'ManualExtractionData/IMUZLeft','ManualExtractionData/Android']\n",
    "action_name=['_Walk_1','_Walk_2','_SlopeDown','_SlopeUp']\n",
    "\n",
    "skf = StratifiedKFold(n_splits = 5)\n",
    "for train_index, test_index in skf.split(ids, y):\n",
    "    print(\"TRAIN:\", len(train_index), \"TEST:\", len(test_index))\n",
    "    ids_train, ids_test = ids[train_index], ids[test_index]\n",
    "    y_train, y_test = y[train_index], y[test_index]\n",
    "    ids_train, ids_valid, y_train, y_valid = train_test_split(ids_train, y_train, test_size=0.10, random_state=42)\n",
    "    \n",
    "    x_train = []\n",
    "    new_y_train = []\n",
    "    for i in tqdm(range(0,len(ids_train))):\n",
    "        subject_id = change_ID_number(str(ids_train[i]))\n",
    "        for k in range(0,len(file_name)):\n",
    "            for l in range(0,len(action_name)):\n",
    "                try:\n",
    "                    df_subject = generate_read_table(file_name[k], action_name[l],subject_id,label)\n",
    "                    sc = StandardScaler()\n",
    "                    df_subject = pd.DataFrame(sc.fit_transform(df_subject))\n",
    "                    temp_x, temp_y = yipeng_preprocessing(df_subject.values, y_train[i], length)\n",
    "                    x_train.append(temp_x)\n",
    "                    new_y_train.append(temp_y)\n",
    "                except: \n",
    "                    continue\n",
    "    x_valid = []\n",
    "    new_y_valid = []\n",
    "    for i in tqdm(range(0,len(ids_valid))):\n",
    "        subject_id = change_ID_number(str(ids_valid[i]))\n",
    "        for k in range(0,len(file_name)):\n",
    "            for l in range(0,len(action_name)):\n",
    "                try:\n",
    "                    df_subject = generate_read_table(file_name[k], action_name[l],subject_id,label)\n",
    "                    sc = StandardScaler()\n",
    "                    df_subject = pd.DataFrame(sc.fit_transform(df_subject))\n",
    "                    temp_x, temp_y = yipeng_preprocessing(df_subject.values, y_valid[i], length)\n",
    "                    x_valid.append(temp_x)\n",
    "                    new_y_valid.append(temp_y)\n",
    "                except:\n",
    "                    continue\n",
    "                    \n",
    "    x_test = []\n",
    "    new_y_test = []\n",
    "    for i in tqdm(range(0,len(ids_test))):\n",
    "        subject_id = change_ID_number(str(ids_test[i]))\n",
    "        for k in range(0,len(file_name)):\n",
    "            for l in range(0,len(action_name)):\n",
    "                try:\n",
    "                    df_subject = generate_read_table(file_name[k], action_name[l],subject_id,label)\n",
    "                    sc = StandardScaler()\n",
    "                    df_subject = pd.DataFrame(sc.fit_transform(df_subject))\n",
    "                    temp_x, temp_y = yipeng_preprocessing(df_subject.values, y_test[i], length)\n",
    "                    x_test.append(temp_x)\n",
    "                    new_y_test.append(temp_y)\n",
    "                except:\n",
    "                    continue\n",
    "    print(\"Train size: \" + str(len(x_train)))\n",
    "    print(\"Valid size: \" + str(len(x_valid)))\n",
    "    print(\"Test size: \" + str(len(x_test)))\n",
    "    \n",
    "    x_train = np.array(x_train)\n",
    "    x_valid = np.array(x_valid)\n",
    "    x_test = np.array(x_test)\n",
    "    y_train = np.array(new_y_train)\n",
    "    y_valid = np.array(new_y_valid)\n",
    "    y_test = np.array(new_y_test)\n",
    "    \n",
    "    model = get_model(x_train.shape[1],x_train.shape[2])\n",
    "    result = model.fit(x_train, y_train, validation_data = (x_valid,y_valid),epochs= 20, batch_size = 256)\n",
    "    y_pred = model.predict(x_test)\n",
    "\n",
    "    y_pred[y_pred < 0.5] = 0\n",
    "    y_pred[y_pred >= 0.5] = 1\n",
    "\n",
    "    ls_acc.append(accuracy_score(y_pred,y_test))\n",
    "    print(accuracy_score(y_pred,y_test))\n",
    "    backend.clear_session()\n",
    "    \n",
    "    break"
   ]
  },
  {
   "cell_type": "code",
   "execution_count": 0,
   "metadata": {
    "_uuid": "d9587f24d74964d292dd30cfdab43e15759fef74",
    "colab": {},
    "colab_type": "code",
    "collapsed": true,
    "id": "8K9QjnEHat9N"
   },
   "outputs": [],
   "source": [
    "import matplotlib.pyplot as plt\n",
    "plt.boxplot(ls_acc)\n",
    "plt.savefig(\"result\")"
   ]
  },
  {
   "cell_type": "code",
   "execution_count": 28,
   "metadata": {
    "_uuid": "addc44fa083718c625829bc294420e52f5fc2c5c",
    "colab": {
     "base_uri": "https://localhost:8080/",
     "height": 379
    },
    "colab_type": "code",
    "collapsed": false,
    "id": "zwyfB-Lrat9Q",
    "outputId": "406e754f-2e29-4f9e-df63-8b5b997171ca"
   },
   "outputs": [
    {
     "data": {
      "text/plain": [
       "<matplotlib.legend.Legend at 0x7ff592077668>"
      ]
     },
     "execution_count": 28,
     "metadata": {
      "tags": []
     },
     "output_type": "execute_result"
    },
    {
     "data": {
      "image/png": "[encoded data removed]",
      "text/plain": [
       "<matplotlib.figure.Figure at 0x7ff5920a5470>"
      ]
     },
     "metadata": {
      "tags": []
     },
     "output_type": "display_data"
    }
   ],
   "source": [
    "plt.plot(range(1, 20+1), result.history['acc'], label=\"training\")\n",
    "plt.plot(range(1, 20+1), result.history['val_acc'], label=\"validation\")\n",
    "plt.xlabel(\"epochs\")\n",
    "plt.ylabel(\"accuracy\")\n",
    "plt.legend()"
   ]
  },
  {
   "cell_type": "code",
   "execution_count": 30,
   "metadata": {
    "colab": {
     "base_uri": "https://localhost:8080/",
     "height": 379
    },
    "colab_type": "code",
    "collapsed": false,
    "id": "n3qc9T3nvZXA",
    "outputId": "7ec11670-16f0-4408-e5c0-9f733eb10943"
   },
   "outputs": [
    {
     "data": {
      "text/plain": [
       "<matplotlib.legend.Legend at 0x7ff591f5dba8>"
      ]
     },
     "execution_count": 30,
     "metadata": {
      "tags": []
     },
     "output_type": "execute_result"
    },
    {
     "data": {
      "image/png": "[encoded data removed]",
      "text/plain": [
       "<matplotlib.figure.Figure at 0x7ff591f8d2b0>"
      ]
     },
     "metadata": {
      "tags": []
     },
     "output_type": "display_data"
    }
   ],
   "source": [
    "plt.plot(range(1, 20+1), result.history['loss'], label=\"training\")\n",
    "plt.plot(range(1, 20+1), result.history['val_loss'], label=\"validation\")\n",
    "plt.xlabel(\"epochs\")\n",
    "plt.ylabel(\"loss\")\n",
    "plt.legend()"
   ]
  },
  {
   "cell_type": "code",
   "execution_count": 0,
   "metadata": {
    "colab": {},
    "colab_type": "code",
    "collapsed": true,
    "id": "qoUSCv9av3hr"
   },
   "outputs": [],
   "source": []
  }
 ],
 "metadata": {
  "accelerator": "GPU",
  "anaconda-cloud": {},
  "colab": {
   "name": "1dConv + BLSTM for_Gender_Classification.ipynb",
   "provenance": [],
   "version": "0.3.2"
  },
  "kernelspec": {
   "display_name": "Python [default]",
   "language": "python",
   "name": "python3"
  },
  "language_info": {
   "codemirror_mode": {
    "name": "ipython",
    "version": 3
   },
   "file_extension": ".py",
   "mimetype": "text/x-python",
   "name": "python",
   "nbconvert_exporter": "python",
   "pygments_lexer": "ipython3",
   "version": "3.5.2"
  }
 },
 "nbformat": 4,
 "nbformat_minor": 0
}
